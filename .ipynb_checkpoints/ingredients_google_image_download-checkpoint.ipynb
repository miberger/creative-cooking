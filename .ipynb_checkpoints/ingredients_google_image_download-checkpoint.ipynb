{
 "cells": [
  {
   "cell_type": "code",
   "execution_count": null,
   "metadata": {},
   "outputs": [],
   "source": [
    "from google_images_download import google_images_download \n",
    "\n",
    "# creating object and feeding search queries\n",
    "response = google_images_download.googleimagesdownload() \n",
    "\n",
    "search_queries = ['Apple fruit', 'Apricot', 'Avocado', 'Banana', 'Banana Red', \n",
    "    'Beetroot', 'Bell Pepper', 'Blueberries', 'Cactus Fruit', \n",
    "    'Cantaloupe', 'Carambula', 'Cauliflower', 'Cherry', \n",
    "    'Chestnut', 'Clementine', 'Cocos', 'Dates', 'Eggplant', \n",
    "    'Ginger Root', 'Granadilla', 'Grape', 'Grapefruit', \n",
    "    'Guava', 'Hazelnut', 'Huckleberry', 'Kaki', 'Kiwi', \n",
    "    'Kohlrabi', 'Kumquats', 'Lemon', 'Limes', 'Lychee', \n",
    "    'Mandarine', 'Mango', 'Mangostan', 'Maracuja', \n",
    "    'Melon Piel de Sapo', 'Mulberry', 'Nectarine', \n",
    "    'Nut Forest', 'Nut Pecan', 'Onion Red', 'Onion White', \n",
    "    'Orange', 'Papaya', 'Passion Fruit', 'Peach', 'Pear', \n",
    "    'Pepino', 'Physalis', 'Pineapple', 'Pitahaya', 'Plum', \n",
    "    'Pomegranate', 'Pomelo', 'Potato', 'Quince', 'Rambutan', \n",
    "    'Raspberry', 'Redcurrant', 'Salak', 'Strawberry', 'Sweet Potato', \n",
    "    'Tamarillo', 'Tangelo', 'Tomato', 'Walnut',\n",
    "    #Additions to original dataset\n",
    "    'Carrots', 'Romanesco', 'Celery', 'Eggs', 'Milk Grocery', 'Bok Choi',\n",
    "    'Rice', 'Noodle Raw'\n",
    "] \n",
    "\n",
    "\n",
    "def downloadimages(query , number): \n",
    "    arguments = {\"keywords\": query, \n",
    "                 \"format\": \"jpg\", \n",
    "                 \"limit\": number, \n",
    "                 \"print_urls\":True, \n",
    "                 \"size\": \"medium\", \n",
    "                 \"aspect_ratio\": \"square\"} \n",
    "    \n",
    "    try: \n",
    "        response.download(arguments) \n",
    "\n",
    "    except FileNotFoundError: \n",
    "        arguments = {\"keywords\": query, \n",
    "                    \"format\": \"jpg\", \n",
    "                    \"limit\": number,\n",
    "                    \"print_urls\":True, \n",
    "                    \"size\": \"medium\"} \n",
    "\n",
    "        try: \n",
    "            response.download(arguments) \n",
    "        except: \n",
    "            pass\n",
    "\n",
    "# Execution\n",
    "number = 100 #images per query\n",
    "\n",
    "for query in search_queries: \n",
    "    downloadimages(query, number) \n",
    "    print() "
   ]
  }
 ],
 "metadata": {
  "kernelspec": {
   "display_name": "Python 3",
   "language": "python",
   "name": "python3"
  },
  "language_info": {
   "codemirror_mode": {
    "name": "ipython",
    "version": 3
   },
   "file_extension": ".py",
   "mimetype": "text/x-python",
   "name": "python",
   "nbconvert_exporter": "python",
   "pygments_lexer": "ipython3",
   "version": "3.5.3"
  }
 },
 "nbformat": 4,
 "nbformat_minor": 2
}
