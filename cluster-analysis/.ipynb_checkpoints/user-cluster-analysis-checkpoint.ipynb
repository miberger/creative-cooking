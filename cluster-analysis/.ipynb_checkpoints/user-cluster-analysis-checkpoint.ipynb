{
 "cells": [
  {
   "cell_type": "markdown",
   "metadata": {},
   "source": [
    "# Analysis of User Clusters"
   ]
  },
  {
   "cell_type": "code",
   "execution_count": 1,
   "metadata": {},
   "outputs": [
    {
     "name": "stderr",
     "output_type": "stream",
     "text": [
      "/home/miber/.local/lib/python3.5/site-packages/sklearn/externals/six.py:31: FutureWarning: The module is deprecated in version 0.21 and will be removed in version 0.23 since we've dropped support for Python 2.7. Please rely on the official version of six (https://pypi.org/project/six/).\n",
      "  \"(https://pypi.org/project/six/).\", FutureWarning)\n"
     ]
    }
   ],
   "source": [
    "import numpy as np\n",
    "import pandas as pd\n",
    "import matplotlib.pyplot as plt\n",
    "\n",
    "from sklearn import tree, linear_model\n",
    "from sklearn.model_selection import StratifiedShuffleSplit\n",
    "from sklearn.metrics import accuracy_score, f1_score, precision_score, recall_score, balanced_accuracy_score\n",
    "\n",
    "import pydotplus\n",
    "from sklearn.externals.six import StringIO \n",
    "from IPython.display import Image"
   ]
  },
  {
   "cell_type": "code",
   "execution_count": 2,
   "metadata": {},
   "outputs": [],
   "source": [
    "path_to_data = '/home/miber/data/cluster_data/df_clust_9.csv'\n",
    "cluster_data = pd.read_csv(path_to_data) "
   ]
  },
  {
   "cell_type": "code",
   "execution_count": 3,
   "metadata": {},
   "outputs": [
    {
     "data": {
      "text/html": [
       "<div>\n",
       "<style scoped>\n",
       "    .dataframe tbody tr th:only-of-type {\n",
       "        vertical-align: middle;\n",
       "    }\n",
       "\n",
       "    .dataframe tbody tr th {\n",
       "        vertical-align: top;\n",
       "    }\n",
       "\n",
       "    .dataframe thead th {\n",
       "        text-align: right;\n",
       "    }\n",
       "</style>\n",
       "<table border=\"1\" class=\"dataframe\">\n",
       "  <thead>\n",
       "    <tr style=\"text-align: right;\">\n",
       "      <th></th>\n",
       "      <th>u</th>\n",
       "      <th>avg_rating</th>\n",
       "      <th>mode_rating</th>\n",
       "      <th>var_rating</th>\n",
       "      <th>cals</th>\n",
       "      <th>perc_d_fat</th>\n",
       "      <th>perc_d_sugar</th>\n",
       "      <th>perc_d_sodium</th>\n",
       "      <th>perc_d_protein</th>\n",
       "      <th>perc_d_sat_fat</th>\n",
       "      <th>...</th>\n",
       "      <th>tag__very-low-carbs</th>\n",
       "      <th>tag__vietnamese</th>\n",
       "      <th>tag__water-bath</th>\n",
       "      <th>tag__weeknight</th>\n",
       "      <th>tag__whole-chicken</th>\n",
       "      <th>tag__whole-turkey</th>\n",
       "      <th>tag__winter</th>\n",
       "      <th>tag__yams-sweet-potatoes</th>\n",
       "      <th>tag__yeast</th>\n",
       "      <th>cluster</th>\n",
       "    </tr>\n",
       "  </thead>\n",
       "  <tbody>\n",
       "    <tr>\n",
       "      <th>0</th>\n",
       "      <td>0</td>\n",
       "      <td>0.961290</td>\n",
       "      <td>1.0</td>\n",
       "      <td>0.012903</td>\n",
       "      <td>0.021025</td>\n",
       "      <td>0.028423</td>\n",
       "      <td>0.013915</td>\n",
       "      <td>0.004179</td>\n",
       "      <td>0.032000</td>\n",
       "      <td>0.029955</td>\n",
       "      <td>...</td>\n",
       "      <td>0.027273</td>\n",
       "      <td>0.0</td>\n",
       "      <td>0.000000</td>\n",
       "      <td>0.000000</td>\n",
       "      <td>0.031818</td>\n",
       "      <td>0.000000</td>\n",
       "      <td>0.000000</td>\n",
       "      <td>0.000000</td>\n",
       "      <td>0.000000</td>\n",
       "      <td>profile_0</td>\n",
       "    </tr>\n",
       "    <tr>\n",
       "      <th>1</th>\n",
       "      <td>1</td>\n",
       "      <td>0.989744</td>\n",
       "      <td>1.0</td>\n",
       "      <td>0.003995</td>\n",
       "      <td>0.020236</td>\n",
       "      <td>0.032202</td>\n",
       "      <td>0.010476</td>\n",
       "      <td>0.003106</td>\n",
       "      <td>0.029913</td>\n",
       "      <td>0.024614</td>\n",
       "      <td>...</td>\n",
       "      <td>0.024194</td>\n",
       "      <td>0.0</td>\n",
       "      <td>0.000000</td>\n",
       "      <td>0.012097</td>\n",
       "      <td>0.000000</td>\n",
       "      <td>0.000000</td>\n",
       "      <td>0.072581</td>\n",
       "      <td>0.000000</td>\n",
       "      <td>0.012097</td>\n",
       "      <td>profile_0</td>\n",
       "    </tr>\n",
       "    <tr>\n",
       "      <th>2</th>\n",
       "      <td>2</td>\n",
       "      <td>0.844444</td>\n",
       "      <td>0.8</td>\n",
       "      <td>0.020513</td>\n",
       "      <td>0.024548</td>\n",
       "      <td>0.035599</td>\n",
       "      <td>0.020281</td>\n",
       "      <td>0.003856</td>\n",
       "      <td>0.027727</td>\n",
       "      <td>0.031766</td>\n",
       "      <td>...</td>\n",
       "      <td>0.000000</td>\n",
       "      <td>0.0</td>\n",
       "      <td>0.000000</td>\n",
       "      <td>0.005435</td>\n",
       "      <td>0.000000</td>\n",
       "      <td>0.000000</td>\n",
       "      <td>0.000000</td>\n",
       "      <td>0.000000</td>\n",
       "      <td>0.000000</td>\n",
       "      <td>profile_4</td>\n",
       "    </tr>\n",
       "    <tr>\n",
       "      <th>3</th>\n",
       "      <td>3</td>\n",
       "      <td>0.964309</td>\n",
       "      <td>1.0</td>\n",
       "      <td>0.018932</td>\n",
       "      <td>0.024385</td>\n",
       "      <td>0.034220</td>\n",
       "      <td>0.019454</td>\n",
       "      <td>0.003820</td>\n",
       "      <td>0.036677</td>\n",
       "      <td>0.028797</td>\n",
       "      <td>...</td>\n",
       "      <td>0.018275</td>\n",
       "      <td>0.0</td>\n",
       "      <td>0.002963</td>\n",
       "      <td>0.007820</td>\n",
       "      <td>0.001152</td>\n",
       "      <td>0.001317</td>\n",
       "      <td>0.024448</td>\n",
       "      <td>0.002963</td>\n",
       "      <td>0.002716</td>\n",
       "      <td>profile_0</td>\n",
       "    </tr>\n",
       "    <tr>\n",
       "      <th>4</th>\n",
       "      <td>4</td>\n",
       "      <td>0.877660</td>\n",
       "      <td>1.0</td>\n",
       "      <td>0.072812</td>\n",
       "      <td>0.025375</td>\n",
       "      <td>0.033930</td>\n",
       "      <td>0.023282</td>\n",
       "      <td>0.003215</td>\n",
       "      <td>0.037294</td>\n",
       "      <td>0.027398</td>\n",
       "      <td>...</td>\n",
       "      <td>0.018538</td>\n",
       "      <td>0.0</td>\n",
       "      <td>0.000000</td>\n",
       "      <td>0.006866</td>\n",
       "      <td>0.004806</td>\n",
       "      <td>0.000000</td>\n",
       "      <td>0.021627</td>\n",
       "      <td>0.002060</td>\n",
       "      <td>0.003090</td>\n",
       "      <td>profile_0</td>\n",
       "    </tr>\n",
       "  </tbody>\n",
       "</table>\n",
       "<p>5 rows × 298 columns</p>\n",
       "</div>"
      ],
      "text/plain": [
       "   u  avg_rating  mode_rating  var_rating      cals  perc_d_fat  perc_d_sugar  \\\n",
       "0  0    0.961290          1.0    0.012903  0.021025    0.028423      0.013915   \n",
       "1  1    0.989744          1.0    0.003995  0.020236    0.032202      0.010476   \n",
       "2  2    0.844444          0.8    0.020513  0.024548    0.035599      0.020281   \n",
       "3  3    0.964309          1.0    0.018932  0.024385    0.034220      0.019454   \n",
       "4  4    0.877660          1.0    0.072812  0.025375    0.033930      0.023282   \n",
       "\n",
       "   perc_d_sodium  perc_d_protein  perc_d_sat_fat  ...  tag__very-low-carbs  \\\n",
       "0       0.004179        0.032000        0.029955  ...             0.027273   \n",
       "1       0.003106        0.029913        0.024614  ...             0.024194   \n",
       "2       0.003856        0.027727        0.031766  ...             0.000000   \n",
       "3       0.003820        0.036677        0.028797  ...             0.018275   \n",
       "4       0.003215        0.037294        0.027398  ...             0.018538   \n",
       "\n",
       "   tag__vietnamese  tag__water-bath  tag__weeknight  tag__whole-chicken  \\\n",
       "0              0.0         0.000000        0.000000            0.031818   \n",
       "1              0.0         0.000000        0.012097            0.000000   \n",
       "2              0.0         0.000000        0.005435            0.000000   \n",
       "3              0.0         0.002963        0.007820            0.001152   \n",
       "4              0.0         0.000000        0.006866            0.004806   \n",
       "\n",
       "   tag__whole-turkey  tag__winter  tag__yams-sweet-potatoes  tag__yeast  \\\n",
       "0           0.000000     0.000000                  0.000000    0.000000   \n",
       "1           0.000000     0.072581                  0.000000    0.012097   \n",
       "2           0.000000     0.000000                  0.000000    0.000000   \n",
       "3           0.001317     0.024448                  0.002963    0.002716   \n",
       "4           0.000000     0.021627                  0.002060    0.003090   \n",
       "\n",
       "     cluster  \n",
       "0  profile_0  \n",
       "1  profile_0  \n",
       "2  profile_4  \n",
       "3  profile_0  \n",
       "4  profile_0  \n",
       "\n",
       "[5 rows x 298 columns]"
      ]
     },
     "execution_count": 3,
     "metadata": {},
     "output_type": "execute_result"
    }
   ],
   "source": [
    "cluster_data.head()"
   ]
  },
  {
   "cell_type": "code",
   "execution_count": 4,
   "metadata": {},
   "outputs": [
    {
     "data": {
      "text/plain": [
       "Index(['u', 'avg_rating', 'mode_rating', 'var_rating', 'cals', 'perc_d_fat',\n",
       "       'perc_d_sugar', 'perc_d_sodium', 'perc_d_protein', 'perc_d_sat_fat',\n",
       "       ...\n",
       "       'tag__very-low-carbs', 'tag__vietnamese', 'tag__water-bath',\n",
       "       'tag__weeknight', 'tag__whole-chicken', 'tag__whole-turkey',\n",
       "       'tag__winter', 'tag__yams-sweet-potatoes', 'tag__yeast', 'cluster'],\n",
       "      dtype='object', length=298)"
      ]
     },
     "execution_count": 4,
     "metadata": {},
     "output_type": "execute_result"
    }
   ],
   "source": [
    "cluster_data.columns"
   ]
  },
  {
   "cell_type": "code",
   "execution_count": 5,
   "metadata": {},
   "outputs": [],
   "source": [
    "y = cluster_data.cluster\n",
    "x = cluster_data.drop(['u', 'cluster', 'avg_rating', 'mode_rating', 'var_rating'], axis=1)"
   ]
  },
  {
   "cell_type": "code",
   "execution_count": 6,
   "metadata": {},
   "outputs": [
    {
     "data": {
      "text/plain": [
       "0    profile_0\n",
       "1    profile_0\n",
       "2    profile_4\n",
       "3    profile_0\n",
       "4    profile_0\n",
       "Name: cluster, dtype: object"
      ]
     },
     "execution_count": 6,
     "metadata": {},
     "output_type": "execute_result"
    }
   ],
   "source": [
    "y.head()"
   ]
  },
  {
   "cell_type": "code",
   "execution_count": 7,
   "metadata": {},
   "outputs": [
    {
     "data": {
      "text/plain": [
       "profile_0    12252\n",
       "profile_4     4348\n",
       "profile_7     2095\n",
       "profile_3     1627\n",
       "profile_8     1241\n",
       "profile_1     1204\n",
       "profile_5     1063\n",
       "profile_6      627\n",
       "profile_2      619\n",
       "Name: cluster, dtype: int64"
      ]
     },
     "execution_count": 7,
     "metadata": {},
     "output_type": "execute_result"
    }
   ],
   "source": [
    "y.value_counts()"
   ]
  },
  {
   "cell_type": "code",
   "execution_count": 8,
   "metadata": {},
   "outputs": [
    {
     "data": {
      "text/plain": [
       "(25076,)"
      ]
     },
     "execution_count": 8,
     "metadata": {},
     "output_type": "execute_result"
    }
   ],
   "source": [
    "y.shape"
   ]
  },
  {
   "cell_type": "code",
   "execution_count": 9,
   "metadata": {},
   "outputs": [
    {
     "data": {
      "text/html": [
       "<div>\n",
       "<style scoped>\n",
       "    .dataframe tbody tr th:only-of-type {\n",
       "        vertical-align: middle;\n",
       "    }\n",
       "\n",
       "    .dataframe tbody tr th {\n",
       "        vertical-align: top;\n",
       "    }\n",
       "\n",
       "    .dataframe thead th {\n",
       "        text-align: right;\n",
       "    }\n",
       "</style>\n",
       "<table border=\"1\" class=\"dataframe\">\n",
       "  <thead>\n",
       "    <tr style=\"text-align: right;\">\n",
       "      <th></th>\n",
       "      <th>cals</th>\n",
       "      <th>perc_d_fat</th>\n",
       "      <th>perc_d_sugar</th>\n",
       "      <th>perc_d_sodium</th>\n",
       "      <th>perc_d_protein</th>\n",
       "      <th>perc_d_sat_fat</th>\n",
       "      <th>perc_d_carbs</th>\n",
       "      <th>minutes</th>\n",
       "      <th>n_steps</th>\n",
       "      <th>tag__1-day-or-more</th>\n",
       "      <th>...</th>\n",
       "      <th>tag__vegetarian</th>\n",
       "      <th>tag__very-low-carbs</th>\n",
       "      <th>tag__vietnamese</th>\n",
       "      <th>tag__water-bath</th>\n",
       "      <th>tag__weeknight</th>\n",
       "      <th>tag__whole-chicken</th>\n",
       "      <th>tag__whole-turkey</th>\n",
       "      <th>tag__winter</th>\n",
       "      <th>tag__yams-sweet-potatoes</th>\n",
       "      <th>tag__yeast</th>\n",
       "    </tr>\n",
       "  </thead>\n",
       "  <tbody>\n",
       "    <tr>\n",
       "      <th>0</th>\n",
       "      <td>0.021025</td>\n",
       "      <td>0.028423</td>\n",
       "      <td>0.013915</td>\n",
       "      <td>0.004179</td>\n",
       "      <td>0.032000</td>\n",
       "      <td>0.029955</td>\n",
       "      <td>0.012994</td>\n",
       "      <td>0.000542</td>\n",
       "      <td>0.148538</td>\n",
       "      <td>0.000000</td>\n",
       "      <td>...</td>\n",
       "      <td>0.040909</td>\n",
       "      <td>0.027273</td>\n",
       "      <td>0.0</td>\n",
       "      <td>0.000000</td>\n",
       "      <td>0.000000</td>\n",
       "      <td>0.031818</td>\n",
       "      <td>0.000000</td>\n",
       "      <td>0.000000</td>\n",
       "      <td>0.000000</td>\n",
       "      <td>0.000000</td>\n",
       "    </tr>\n",
       "    <tr>\n",
       "      <th>1</th>\n",
       "      <td>0.020236</td>\n",
       "      <td>0.032202</td>\n",
       "      <td>0.010476</td>\n",
       "      <td>0.003106</td>\n",
       "      <td>0.029913</td>\n",
       "      <td>0.024614</td>\n",
       "      <td>0.010144</td>\n",
       "      <td>0.001472</td>\n",
       "      <td>0.168755</td>\n",
       "      <td>0.000000</td>\n",
       "      <td>...</td>\n",
       "      <td>0.012097</td>\n",
       "      <td>0.024194</td>\n",
       "      <td>0.0</td>\n",
       "      <td>0.000000</td>\n",
       "      <td>0.012097</td>\n",
       "      <td>0.000000</td>\n",
       "      <td>0.000000</td>\n",
       "      <td>0.072581</td>\n",
       "      <td>0.000000</td>\n",
       "      <td>0.012097</td>\n",
       "    </tr>\n",
       "    <tr>\n",
       "      <th>2</th>\n",
       "      <td>0.024548</td>\n",
       "      <td>0.035599</td>\n",
       "      <td>0.020281</td>\n",
       "      <td>0.003856</td>\n",
       "      <td>0.027727</td>\n",
       "      <td>0.031766</td>\n",
       "      <td>0.015883</td>\n",
       "      <td>0.000926</td>\n",
       "      <td>0.157895</td>\n",
       "      <td>0.000000</td>\n",
       "      <td>...</td>\n",
       "      <td>0.048913</td>\n",
       "      <td>0.000000</td>\n",
       "      <td>0.0</td>\n",
       "      <td>0.000000</td>\n",
       "      <td>0.005435</td>\n",
       "      <td>0.000000</td>\n",
       "      <td>0.000000</td>\n",
       "      <td>0.000000</td>\n",
       "      <td>0.000000</td>\n",
       "      <td>0.000000</td>\n",
       "    </tr>\n",
       "    <tr>\n",
       "      <th>3</th>\n",
       "      <td>0.024385</td>\n",
       "      <td>0.034220</td>\n",
       "      <td>0.019454</td>\n",
       "      <td>0.003820</td>\n",
       "      <td>0.036677</td>\n",
       "      <td>0.028797</td>\n",
       "      <td>0.014714</td>\n",
       "      <td>0.002200</td>\n",
       "      <td>0.164559</td>\n",
       "      <td>0.001811</td>\n",
       "      <td>...</td>\n",
       "      <td>0.033339</td>\n",
       "      <td>0.018275</td>\n",
       "      <td>0.0</td>\n",
       "      <td>0.002963</td>\n",
       "      <td>0.007820</td>\n",
       "      <td>0.001152</td>\n",
       "      <td>0.001317</td>\n",
       "      <td>0.024448</td>\n",
       "      <td>0.002963</td>\n",
       "      <td>0.002716</td>\n",
       "    </tr>\n",
       "    <tr>\n",
       "      <th>4</th>\n",
       "      <td>0.025375</td>\n",
       "      <td>0.033930</td>\n",
       "      <td>0.023282</td>\n",
       "      <td>0.003215</td>\n",
       "      <td>0.037294</td>\n",
       "      <td>0.027398</td>\n",
       "      <td>0.016031</td>\n",
       "      <td>0.003448</td>\n",
       "      <td>0.164463</td>\n",
       "      <td>0.003433</td>\n",
       "      <td>...</td>\n",
       "      <td>0.031926</td>\n",
       "      <td>0.018538</td>\n",
       "      <td>0.0</td>\n",
       "      <td>0.000000</td>\n",
       "      <td>0.006866</td>\n",
       "      <td>0.004806</td>\n",
       "      <td>0.000000</td>\n",
       "      <td>0.021627</td>\n",
       "      <td>0.002060</td>\n",
       "      <td>0.003090</td>\n",
       "    </tr>\n",
       "  </tbody>\n",
       "</table>\n",
       "<p>5 rows × 293 columns</p>\n",
       "</div>"
      ],
      "text/plain": [
       "       cals  perc_d_fat  perc_d_sugar  perc_d_sodium  perc_d_protein  \\\n",
       "0  0.021025    0.028423      0.013915       0.004179        0.032000   \n",
       "1  0.020236    0.032202      0.010476       0.003106        0.029913   \n",
       "2  0.024548    0.035599      0.020281       0.003856        0.027727   \n",
       "3  0.024385    0.034220      0.019454       0.003820        0.036677   \n",
       "4  0.025375    0.033930      0.023282       0.003215        0.037294   \n",
       "\n",
       "   perc_d_sat_fat  perc_d_carbs   minutes   n_steps  tag__1-day-or-more  ...  \\\n",
       "0        0.029955      0.012994  0.000542  0.148538            0.000000  ...   \n",
       "1        0.024614      0.010144  0.001472  0.168755            0.000000  ...   \n",
       "2        0.031766      0.015883  0.000926  0.157895            0.000000  ...   \n",
       "3        0.028797      0.014714  0.002200  0.164559            0.001811  ...   \n",
       "4        0.027398      0.016031  0.003448  0.164463            0.003433  ...   \n",
       "\n",
       "   tag__vegetarian  tag__very-low-carbs  tag__vietnamese  tag__water-bath  \\\n",
       "0         0.040909             0.027273              0.0         0.000000   \n",
       "1         0.012097             0.024194              0.0         0.000000   \n",
       "2         0.048913             0.000000              0.0         0.000000   \n",
       "3         0.033339             0.018275              0.0         0.002963   \n",
       "4         0.031926             0.018538              0.0         0.000000   \n",
       "\n",
       "   tag__weeknight  tag__whole-chicken  tag__whole-turkey  tag__winter  \\\n",
       "0        0.000000            0.031818           0.000000     0.000000   \n",
       "1        0.012097            0.000000           0.000000     0.072581   \n",
       "2        0.005435            0.000000           0.000000     0.000000   \n",
       "3        0.007820            0.001152           0.001317     0.024448   \n",
       "4        0.006866            0.004806           0.000000     0.021627   \n",
       "\n",
       "   tag__yams-sweet-potatoes  tag__yeast  \n",
       "0                  0.000000    0.000000  \n",
       "1                  0.000000    0.012097  \n",
       "2                  0.000000    0.000000  \n",
       "3                  0.002963    0.002716  \n",
       "4                  0.002060    0.003090  \n",
       "\n",
       "[5 rows x 293 columns]"
      ]
     },
     "execution_count": 9,
     "metadata": {},
     "output_type": "execute_result"
    }
   ],
   "source": [
    "x.head()"
   ]
  },
  {
   "cell_type": "code",
   "execution_count": 10,
   "metadata": {},
   "outputs": [
    {
     "data": {
      "text/plain": [
       "(25076, 293)"
      ]
     },
     "execution_count": 10,
     "metadata": {},
     "output_type": "execute_result"
    }
   ],
   "source": [
    "x.shape"
   ]
  },
  {
   "cell_type": "code",
   "execution_count": 11,
   "metadata": {},
   "outputs": [],
   "source": [
    "sss = StratifiedShuffleSplit(n_splits=1, test_size=0.25, random_state=8462)\n",
    "\n",
    "for train_idx, test_idx in sss.split(x, y):\n",
    "    x_train = x.take(train_idx)\n",
    "    y_train = y.take(train_idx)\n",
    "    x_test = x.take(test_idx)\n",
    "    y_test = y.take(test_idx)"
   ]
  },
  {
   "cell_type": "code",
   "execution_count": 12,
   "metadata": {},
   "outputs": [
    {
     "data": {
      "text/plain": [
       "profile_0    3063\n",
       "profile_4    1087\n",
       "profile_7     523\n",
       "profile_3     407\n",
       "profile_8     310\n",
       "profile_1     301\n",
       "profile_5     266\n",
       "profile_6     157\n",
       "profile_2     155\n",
       "Name: cluster, dtype: int64"
      ]
     },
     "execution_count": 12,
     "metadata": {},
     "output_type": "execute_result"
    }
   ],
   "source": [
    "y_test.value_counts()"
   ]
  },
  {
   "cell_type": "code",
   "execution_count": 13,
   "metadata": {},
   "outputs": [
    {
     "data": {
      "text/plain": [
       "profile_0    9189\n",
       "profile_4    3261\n",
       "profile_7    1572\n",
       "profile_3    1220\n",
       "profile_8     931\n",
       "profile_1     903\n",
       "profile_5     797\n",
       "profile_6     470\n",
       "profile_2     464\n",
       "Name: cluster, dtype: int64"
      ]
     },
     "execution_count": 13,
     "metadata": {},
     "output_type": "execute_result"
    }
   ],
   "source": [
    "y_train.value_counts()"
   ]
  },
  {
   "cell_type": "code",
   "execution_count": 14,
   "metadata": {},
   "outputs": [
    {
     "data": {
      "text/plain": [
       "(18807,)"
      ]
     },
     "execution_count": 14,
     "metadata": {},
     "output_type": "execute_result"
    }
   ],
   "source": [
    "y_train.shape"
   ]
  },
  {
   "cell_type": "code",
   "execution_count": 15,
   "metadata": {},
   "outputs": [
    {
     "data": {
      "text/plain": [
       "(6269,)"
      ]
     },
     "execution_count": 15,
     "metadata": {},
     "output_type": "execute_result"
    }
   ],
   "source": [
    "y_test.shape"
   ]
  },
  {
   "cell_type": "code",
   "execution_count": 16,
   "metadata": {},
   "outputs": [
    {
     "data": {
      "text/plain": [
       "DecisionTreeClassifier(ccp_alpha=0.0, class_weight=None, criterion='gini',\n",
       "                       max_depth=6, max_features=None, max_leaf_nodes=None,\n",
       "                       min_impurity_decrease=0.0, min_impurity_split=None,\n",
       "                       min_samples_leaf=1, min_samples_split=2,\n",
       "                       min_weight_fraction_leaf=0.0, presort='deprecated',\n",
       "                       random_state=None, splitter='best')"
      ]
     },
     "execution_count": 16,
     "metadata": {},
     "output_type": "execute_result"
    }
   ],
   "source": [
    "dt_clf = tree.DecisionTreeClassifier(max_depth = 6)\n",
    "dt_clf.fit(x_train, y_train)"
   ]
  },
  {
   "cell_type": "code",
   "execution_count": 17,
   "metadata": {},
   "outputs": [
    {
     "name": "stdout",
     "output_type": "stream",
     "text": [
      "Accuracy: 0.6069548572340087\n",
      "Balanced Accuracy: 0.4410295664111348\n",
      "F1 score: 0.5177107223876519\n",
      "Precision: 0.47415992023249814\n",
      "Recall: 0.6069548572340087\n"
     ]
    },
    {
     "name": "stderr",
     "output_type": "stream",
     "text": [
      "/home/miber/.local/lib/python3.5/site-packages/sklearn/metrics/_classification.py:1272: UndefinedMetricWarning: Precision is ill-defined and being set to 0.0 in labels with no predicted samples. Use `zero_division` parameter to control this behavior.\n",
      "  _warn_prf(average, modifier, msg_start, len(result))\n"
     ]
    }
   ],
   "source": [
    "y_pred = dt_clf.predict(x_test)\n",
    "print('Accuracy:', accuracy_score(y_test, y_pred))\n",
    "print('Balanced Accuracy:', balanced_accuracy_score(y_test, y_pred))\n",
    "\n",
    "for name, metric in zip(['F1 score', 'Precision', 'Recall'], [f1_score, precision_score, recall_score]):\n",
    "    result = metric(y_test, y_pred, average='weighted')\n",
    "    print(name + ':', result)"
   ]
  },
  {
   "cell_type": "code",
   "execution_count": 18,
   "metadata": {},
   "outputs": [
    {
     "data": {
      "text/plain": [
       "profile_0    4721\n",
       "profile_7     556\n",
       "profile_8     306\n",
       "profile_5     300\n",
       "profile_3     220\n",
       "profile_6     111\n",
       "profile_2      53\n",
       "profile_1       2\n",
       "dtype: int64"
      ]
     },
     "execution_count": 18,
     "metadata": {},
     "output_type": "execute_result"
    }
   ],
   "source": [
    "pd.Series(y_pred).value_counts()"
   ]
  },
  {
   "cell_type": "code",
   "execution_count": 19,
   "metadata": {
    "scrolled": false
   },
   "outputs": [
    {
     "data": {
      "image/svg+xml": [
       "<?xml version=\"1.0\" encoding=\"UTF-8\" standalone=\"no\"?>\n",
       "<!DOCTYPE svg PUBLIC \"-//W3C//DTD SVG 1.1//EN\"\n",
       " \"http://www.w3.org/Graphics/SVG/1.1/DTD/svg11.dtd\">\n",
       "<!-- Generated by graphviz version 2.38.0 (20140413.2041)\n",
       " -->\n",
       "<!-- Title: Tree Pages: 1 -->\n",
       "<svg width=\"7993pt\" height=\"790pt\"\n",
       " viewBox=\"0.00 0.00 7993.00 790.00\" xmlns=\"http://www.w3.org/2000/svg\" xmlns:xlink=\"http://www.w3.org/1999/xlink\">\n",
       "<g id=\"graph0\" class=\"graph\" transform=\"scale(1 1) rotate(0) translate(4 786)\">\n",
       "<title>Tree</title>\n",
       "<polygon fill=\"white\" stroke=\"none\" points=\"-4,4 -4,-786 7989,-786 7989,4 -4,4\"/>\n",
       "<!-- 0 -->\n",
       "<g id=\"node1\" class=\"node\"><title>0</title>\n",
       "<path fill=\"#f5cfb3\" stroke=\"black\" d=\"M4130.5,-782C4130.5,-782 3789.5,-782 3789.5,-782 3783.5,-782 3777.5,-776 3777.5,-770 3777.5,-770 3777.5,-711 3777.5,-711 3777.5,-705 3783.5,-699 3789.5,-699 3789.5,-699 4130.5,-699 4130.5,-699 4136.5,-699 4142.5,-705 4142.5,-711 4142.5,-711 4142.5,-770 4142.5,-770 4142.5,-776 4136.5,-782 4130.5,-782\"/>\n",
       "<text text-anchor=\"start\" x=\"3911.5\" y=\"-766.8\" font-family=\"Helvetica,sans-Serif\" font-size=\"14.00\">n_steps ≤ 0.009</text>\n",
       "<text text-anchor=\"start\" x=\"3924.5\" y=\"-751.8\" font-family=\"Helvetica,sans-Serif\" font-size=\"14.00\">gini = 0.712</text>\n",
       "<text text-anchor=\"start\" x=\"3907.5\" y=\"-736.8\" font-family=\"Helvetica,sans-Serif\" font-size=\"14.00\">samples = 18807</text>\n",
       "<text text-anchor=\"start\" x=\"3785.5\" y=\"-721.8\" font-family=\"Helvetica,sans-Serif\" font-size=\"14.00\">value = [9189, 903, 464, 1220, 3261, 797, 470, 1572, 931]</text>\n",
       "<text text-anchor=\"start\" x=\"3910.5\" y=\"-706.8\" font-family=\"Helvetica,sans-Serif\" font-size=\"14.00\">class = profile_0</text>\n",
       "</g>\n",
       "<!-- 1 -->\n",
       "<g id=\"node2\" class=\"node\"><title>1</title>\n",
       "<path fill=\"#587ce9\" stroke=\"black\" d=\"M3909.5,-655.5C3909.5,-655.5 3696.5,-655.5 3696.5,-655.5 3690.5,-655.5 3684.5,-649.5 3684.5,-643.5 3684.5,-643.5 3684.5,-599.5 3684.5,-599.5 3684.5,-593.5 3690.5,-587.5 3696.5,-587.5 3696.5,-587.5 3909.5,-587.5 3909.5,-587.5 3915.5,-587.5 3921.5,-593.5 3921.5,-599.5 3921.5,-599.5 3921.5,-643.5 3921.5,-643.5 3921.5,-649.5 3915.5,-655.5 3909.5,-655.5\"/>\n",
       "<text text-anchor=\"start\" x=\"3767.5\" y=\"-640.3\" font-family=\"Helvetica,sans-Serif\" font-size=\"14.00\">gini = 0.242</text>\n",
       "<text text-anchor=\"start\" x=\"3758\" y=\"-625.3\" font-family=\"Helvetica,sans-Serif\" font-size=\"14.00\">samples = 896</text>\n",
       "<text text-anchor=\"start\" x=\"3692.5\" y=\"-610.3\" font-family=\"Helvetica,sans-Serif\" font-size=\"14.00\">value = [0, 103, 0, 0, 20, 773, 0, 0, 0]</text>\n",
       "<text text-anchor=\"start\" x=\"3753.5\" y=\"-595.3\" font-family=\"Helvetica,sans-Serif\" font-size=\"14.00\">class = profile_5</text>\n",
       "</g>\n",
       "<!-- 0&#45;&gt;1 -->\n",
       "<g id=\"edge1\" class=\"edge\"><title>0&#45;&gt;1</title>\n",
       "<path fill=\"none\" stroke=\"black\" d=\"M3905.53,-698.907C3889.39,-686.88 3871.75,-673.735 3855.72,-661.791\"/>\n",
       "<polygon fill=\"black\" stroke=\"black\" points=\"3857.62,-658.836 3847.51,-655.667 3853.43,-664.449 3857.62,-658.836\"/>\n",
       "<text text-anchor=\"middle\" x=\"3851.12\" y=\"-676.705\" font-family=\"Helvetica,sans-Serif\" font-size=\"14.00\">True</text>\n",
       "</g>\n",
       "<!-- 2 -->\n",
       "<g id=\"node3\" class=\"node\"><title>2</title>\n",
       "<path fill=\"#f4ccaf\" stroke=\"black\" d=\"M4284.5,-663C4284.5,-663 3951.5,-663 3951.5,-663 3945.5,-663 3939.5,-657 3939.5,-651 3939.5,-651 3939.5,-592 3939.5,-592 3939.5,-586 3945.5,-580 3951.5,-580 3951.5,-580 4284.5,-580 4284.5,-580 4290.5,-580 4296.5,-586 4296.5,-592 4296.5,-592 4296.5,-651 4296.5,-651 4296.5,-657 4290.5,-663 4284.5,-663\"/>\n",
       "<text text-anchor=\"start\" x=\"4031\" y=\"-647.8\" font-family=\"Helvetica,sans-Serif\" font-size=\"14.00\">tag__low&#45;cholesterol ≤ 0.116</text>\n",
       "<text text-anchor=\"start\" x=\"4082.5\" y=\"-632.8\" font-family=\"Helvetica,sans-Serif\" font-size=\"14.00\">gini = 0.686</text>\n",
       "<text text-anchor=\"start\" x=\"4065.5\" y=\"-617.8\" font-family=\"Helvetica,sans-Serif\" font-size=\"14.00\">samples = 17911</text>\n",
       "<text text-anchor=\"start\" x=\"3947.5\" y=\"-602.8\" font-family=\"Helvetica,sans-Serif\" font-size=\"14.00\">value = [9189, 800, 464, 1220, 3241, 24, 470, 1572, 931]</text>\n",
       "<text text-anchor=\"start\" x=\"4068.5\" y=\"-587.8\" font-family=\"Helvetica,sans-Serif\" font-size=\"14.00\">class = profile_0</text>\n",
       "</g>\n",
       "<!-- 0&#45;&gt;2 -->\n",
       "<g id=\"edge2\" class=\"edge\"><title>0&#45;&gt;2</title>\n",
       "<path fill=\"none\" stroke=\"black\" d=\"M4014.82,-698.907C4027.81,-689.288 4041.76,-678.953 4055.08,-669.09\"/>\n",
       "<polygon fill=\"black\" stroke=\"black\" points=\"4057.33,-671.785 4063.28,-663.021 4053.16,-666.159 4057.33,-671.785\"/>\n",
       "<text text-anchor=\"middle\" x=\"4059.59\" y=\"-684.048\" font-family=\"Helvetica,sans-Serif\" font-size=\"14.00\">False</text>\n",
       "</g>\n",
       "<!-- 3 -->\n",
       "<g id=\"node4\" class=\"node\"><title>3</title>\n",
       "<path fill=\"#f3c5a4\" stroke=\"black\" d=\"M3399,-544C3399,-544 3073,-544 3073,-544 3067,-544 3061,-538 3061,-532 3061,-532 3061,-473 3061,-473 3061,-467 3067,-461 3073,-461 3073,-461 3399,-461 3399,-461 3405,-461 3411,-467 3411,-473 3411,-473 3411,-532 3411,-532 3411,-538 3405,-544 3399,-544\"/>\n",
       "<text text-anchor=\"start\" x=\"3178.5\" y=\"-528.8\" font-family=\"Helvetica,sans-Serif\" font-size=\"14.00\">tag__to&#45;go ≤ 0.143</text>\n",
       "<text text-anchor=\"start\" x=\"3200.5\" y=\"-513.8\" font-family=\"Helvetica,sans-Serif\" font-size=\"14.00\">gini = 0.639</text>\n",
       "<text text-anchor=\"start\" x=\"3183.5\" y=\"-498.8\" font-family=\"Helvetica,sans-Serif\" font-size=\"14.00\">samples = 15241</text>\n",
       "<text text-anchor=\"start\" x=\"3069\" y=\"-483.8\" font-family=\"Helvetica,sans-Serif\" font-size=\"14.00\">value = [8546, 617, 457, 1089, 2837, 24, 371, 426, 874]</text>\n",
       "<text text-anchor=\"start\" x=\"3186.5\" y=\"-468.8\" font-family=\"Helvetica,sans-Serif\" font-size=\"14.00\">class = profile_0</text>\n",
       "</g>\n",
       "<!-- 2&#45;&gt;3 -->\n",
       "<g id=\"edge3\" class=\"edge\"><title>2&#45;&gt;3</title>\n",
       "<path fill=\"none\" stroke=\"black\" d=\"M3939.42,-581.404C3936.59,-580.922 3933.79,-580.454 3931,-580 3759.15,-552.011 3561.7,-531.37 3421.28,-518.631\"/>\n",
       "<polygon fill=\"black\" stroke=\"black\" points=\"3421.54,-515.14 3411.27,-517.727 3420.91,-522.112 3421.54,-515.14\"/>\n",
       "</g>\n",
       "<!-- 34 -->\n",
       "<g id=\"node35\" class=\"node\"><title>34</title>\n",
       "<path fill=\"#f9cef5\" stroke=\"black\" d=\"M5347.5,-544C5347.5,-544 5074.5,-544 5074.5,-544 5068.5,-544 5062.5,-538 5062.5,-532 5062.5,-532 5062.5,-473 5062.5,-473 5062.5,-467 5068.5,-461 5074.5,-461 5074.5,-461 5347.5,-461 5347.5,-461 5353.5,-461 5359.5,-467 5359.5,-473 5359.5,-473 5359.5,-532 5359.5,-532 5359.5,-538 5353.5,-544 5347.5,-544\"/>\n",
       "<text text-anchor=\"start\" x=\"5147.5\" y=\"-528.8\" font-family=\"Helvetica,sans-Serif\" font-size=\"14.00\">tag__healthy ≤ 0.095</text>\n",
       "<text text-anchor=\"start\" x=\"5175.5\" y=\"-513.8\" font-family=\"Helvetica,sans-Serif\" font-size=\"14.00\">gini = 0.726</text>\n",
       "<text text-anchor=\"start\" x=\"5162.5\" y=\"-498.8\" font-family=\"Helvetica,sans-Serif\" font-size=\"14.00\">samples = 2670</text>\n",
       "<text text-anchor=\"start\" x=\"5070.5\" y=\"-483.8\" font-family=\"Helvetica,sans-Serif\" font-size=\"14.00\">value = [643, 183, 7, 131, 404, 0, 99, 1146, 57]</text>\n",
       "<text text-anchor=\"start\" x=\"5161.5\" y=\"-468.8\" font-family=\"Helvetica,sans-Serif\" font-size=\"14.00\">class = profile_7</text>\n",
       "</g>\n",
       "<!-- 2&#45;&gt;34 -->\n",
       "<g id=\"edge34\" class=\"edge\"><title>2&#45;&gt;34</title>\n",
       "<path fill=\"none\" stroke=\"black\" d=\"M4296.65,-601.376C4506.47,-578.917 4851.3,-542.004 5052.15,-520.504\"/>\n",
       "<polygon fill=\"black\" stroke=\"black\" points=\"5052.63,-523.973 5062.2,-519.428 5051.88,-517.013 5052.63,-523.973\"/>\n",
       "</g>\n",
       "<!-- 4 -->\n",
       "<g id=\"node5\" class=\"node\"><title>4</title>\n",
       "<path fill=\"#f2c09b\" stroke=\"black\" d=\"M1876,-425C1876,-425 1558,-425 1558,-425 1552,-425 1546,-419 1546,-413 1546,-413 1546,-354 1546,-354 1546,-348 1552,-342 1558,-342 1558,-342 1876,-342 1876,-342 1882,-342 1888,-348 1888,-354 1888,-354 1888,-413 1888,-413 1888,-419 1882,-425 1876,-425\"/>\n",
       "<text text-anchor=\"start\" x=\"1641\" y=\"-409.8\" font-family=\"Helvetica,sans-Serif\" font-size=\"14.00\">tag__taste&#45;mood ≤ 0.214</text>\n",
       "<text text-anchor=\"start\" x=\"1681.5\" y=\"-394.8\" font-family=\"Helvetica,sans-Serif\" font-size=\"14.00\">gini = 0.596</text>\n",
       "<text text-anchor=\"start\" x=\"1664.5\" y=\"-379.8\" font-family=\"Helvetica,sans-Serif\" font-size=\"14.00\">samples = 13256</text>\n",
       "<text text-anchor=\"start\" x=\"1554\" y=\"-364.8\" font-family=\"Helvetica,sans-Serif\" font-size=\"14.00\">value = [7929, 494, 455, 992, 2542, 24, 272, 385, 163]</text>\n",
       "<text text-anchor=\"start\" x=\"1667.5\" y=\"-349.8\" font-family=\"Helvetica,sans-Serif\" font-size=\"14.00\">class = profile_0</text>\n",
       "</g>\n",
       "<!-- 3&#45;&gt;4 -->\n",
       "<g id=\"edge4\" class=\"edge\"><title>3&#45;&gt;4</title>\n",
       "<path fill=\"none\" stroke=\"black\" d=\"M3060.64,-487.993C2770.31,-465.63 2192.66,-421.138 1898.4,-398.472\"/>\n",
       "<polygon fill=\"black\" stroke=\"black\" points=\"1898.29,-394.954 1888.05,-397.675 1897.75,-401.933 1898.29,-394.954\"/>\n",
       "</g>\n",
       "<!-- 19 -->\n",
       "<g id=\"node20\" class=\"node\"><title>19</title>\n",
       "<path fill=\"#fdf1f4\" stroke=\"black\" d=\"M3365,-425C3365,-425 3107,-425 3107,-425 3101,-425 3095,-419 3095,-413 3095,-413 3095,-354 3095,-354 3095,-348 3101,-342 3107,-342 3107,-342 3365,-342 3365,-342 3371,-342 3377,-348 3377,-354 3377,-354 3377,-413 3377,-413 3377,-419 3371,-425 3365,-425\"/>\n",
       "<text text-anchor=\"start\" x=\"3167\" y=\"-409.8\" font-family=\"Helvetica,sans-Serif\" font-size=\"14.00\">tag__seasonal ≤ 0.008</text>\n",
       "<text text-anchor=\"start\" x=\"3200.5\" y=\"-394.8\" font-family=\"Helvetica,sans-Serif\" font-size=\"14.00\">gini = 0.744</text>\n",
       "<text text-anchor=\"start\" x=\"3187.5\" y=\"-379.8\" font-family=\"Helvetica,sans-Serif\" font-size=\"14.00\">samples = 1985</text>\n",
       "<text text-anchor=\"start\" x=\"3103\" y=\"-364.8\" font-family=\"Helvetica,sans-Serif\" font-size=\"14.00\">value = [617, 123, 2, 97, 295, 0, 99, 41, 711]</text>\n",
       "<text text-anchor=\"start\" x=\"3186.5\" y=\"-349.8\" font-family=\"Helvetica,sans-Serif\" font-size=\"14.00\">class = profile_8</text>\n",
       "</g>\n",
       "<!-- 3&#45;&gt;19 -->\n",
       "<g id=\"edge19\" class=\"edge\"><title>3&#45;&gt;19</title>\n",
       "<path fill=\"none\" stroke=\"black\" d=\"M3236,-460.907C3236,-452.649 3236,-443.864 3236,-435.302\"/>\n",
       "<polygon fill=\"black\" stroke=\"black\" points=\"3239.5,-435.021 3236,-425.021 3232.5,-435.021 3239.5,-435.021\"/>\n",
       "</g>\n",
       "<!-- 5 -->\n",
       "<g id=\"node6\" class=\"node\"><title>5</title>\n",
       "<path fill=\"#f1bc95\" stroke=\"black\" d=\"M1080,-306C1080,-306 762,-306 762,-306 756,-306 750,-300 750,-294 750,-294 750,-235 750,-235 750,-229 756,-223 762,-223 762,-223 1080,-223 1080,-223 1086,-223 1092,-229 1092,-235 1092,-235 1092,-294 1092,-294 1092,-300 1086,-306 1080,-306\"/>\n",
       "<text text-anchor=\"start\" x=\"863.5\" y=\"-290.8\" font-family=\"Helvetica,sans-Serif\" font-size=\"14.00\">tag__meat ≤ 0.224</text>\n",
       "<text text-anchor=\"start\" x=\"885.5\" y=\"-275.8\" font-family=\"Helvetica,sans-Serif\" font-size=\"14.00\">gini = 0.556</text>\n",
       "<text text-anchor=\"start\" x=\"868.5\" y=\"-260.8\" font-family=\"Helvetica,sans-Serif\" font-size=\"14.00\">samples = 11747</text>\n",
       "<text text-anchor=\"start\" x=\"758\" y=\"-245.8\" font-family=\"Helvetica,sans-Serif\" font-size=\"14.00\">value = [7398, 394, 446, 395, 2409, 24, 183, 353, 145]</text>\n",
       "<text text-anchor=\"start\" x=\"871.5\" y=\"-230.8\" font-family=\"Helvetica,sans-Serif\" font-size=\"14.00\">class = profile_0</text>\n",
       "</g>\n",
       "<!-- 4&#45;&gt;5 -->\n",
       "<g id=\"edge5\" class=\"edge\"><title>4&#45;&gt;5</title>\n",
       "<path fill=\"none\" stroke=\"black\" d=\"M1545.75,-357.329C1415.03,-338.114 1235.33,-311.702 1102.2,-292.134\"/>\n",
       "<polygon fill=\"black\" stroke=\"black\" points=\"1102.7,-288.67 1092.3,-290.678 1101.68,-295.595 1102.7,-288.67\"/>\n",
       "</g>\n",
       "<!-- 12 -->\n",
       "<g id=\"node13\" class=\"node\"><title>12</title>\n",
       "<path fill=\"#f2fdf6\" stroke=\"black\" d=\"M1846,-306C1846,-306 1588,-306 1588,-306 1582,-306 1576,-300 1576,-294 1576,-294 1576,-235 1576,-235 1576,-229 1582,-223 1588,-223 1588,-223 1846,-223 1846,-223 1852,-223 1858,-229 1858,-235 1858,-235 1858,-294 1858,-294 1858,-300 1852,-306 1846,-306\"/>\n",
       "<text text-anchor=\"start\" x=\"1657\" y=\"-290.8\" font-family=\"Helvetica,sans-Serif\" font-size=\"14.00\">tag__winter ≤ 0.186</text>\n",
       "<text text-anchor=\"start\" x=\"1681.5\" y=\"-275.8\" font-family=\"Helvetica,sans-Serif\" font-size=\"14.00\">gini = 0.703</text>\n",
       "<text text-anchor=\"start\" x=\"1668.5\" y=\"-260.8\" font-family=\"Helvetica,sans-Serif\" font-size=\"14.00\">samples = 1509</text>\n",
       "<text text-anchor=\"start\" x=\"1584\" y=\"-245.8\" font-family=\"Helvetica,sans-Serif\" font-size=\"14.00\">value = [531, 100, 9, 597, 133, 0, 89, 32, 18]</text>\n",
       "<text text-anchor=\"start\" x=\"1667.5\" y=\"-230.8\" font-family=\"Helvetica,sans-Serif\" font-size=\"14.00\">class = profile_3</text>\n",
       "</g>\n",
       "<!-- 4&#45;&gt;12 -->\n",
       "<g id=\"edge12\" class=\"edge\"><title>4&#45;&gt;12</title>\n",
       "<path fill=\"none\" stroke=\"black\" d=\"M1717,-341.907C1717,-333.649 1717,-324.864 1717,-316.302\"/>\n",
       "<polygon fill=\"black\" stroke=\"black\" points=\"1720.5,-316.021 1717,-306.021 1713.5,-316.021 1720.5,-316.021\"/>\n",
       "</g>\n",
       "<!-- 6 -->\n",
       "<g id=\"node7\" class=\"node\"><title>6</title>\n",
       "<path fill=\"#f1bb93\" stroke=\"black\" d=\"M653,-187C653,-187 335,-187 335,-187 329,-187 323,-181 323,-175 323,-175 323,-116 323,-116 323,-110 329,-104 335,-104 335,-104 653,-104 653,-104 659,-104 665,-110 665,-116 665,-116 665,-175 665,-175 665,-181 659,-187 653,-187\"/>\n",
       "<text text-anchor=\"start\" x=\"418\" y=\"-171.8\" font-family=\"Helvetica,sans-Serif\" font-size=\"14.00\">tag__taste&#45;mood ≤ 0.024</text>\n",
       "<text text-anchor=\"start\" x=\"458.5\" y=\"-156.8\" font-family=\"Helvetica,sans-Serif\" font-size=\"14.00\">gini = 0.542</text>\n",
       "<text text-anchor=\"start\" x=\"441.5\" y=\"-141.8\" font-family=\"Helvetica,sans-Serif\" font-size=\"14.00\">samples = 11341</text>\n",
       "<text text-anchor=\"start\" x=\"331\" y=\"-126.8\" font-family=\"Helvetica,sans-Serif\" font-size=\"14.00\">value = [7258, 357, 235, 390, 2401, 24, 179, 352, 145]</text>\n",
       "<text text-anchor=\"start\" x=\"444.5\" y=\"-111.8\" font-family=\"Helvetica,sans-Serif\" font-size=\"14.00\">class = profile_0</text>\n",
       "</g>\n",
       "<!-- 5&#45;&gt;6 -->\n",
       "<g id=\"edge6\" class=\"edge\"><title>5&#45;&gt;6</title>\n",
       "<path fill=\"none\" stroke=\"black\" d=\"M773.154,-222.989C733.974,-212.254 691.526,-200.623 651.838,-189.748\"/>\n",
       "<polygon fill=\"black\" stroke=\"black\" points=\"652.649,-186.342 642.08,-187.075 650.8,-193.093 652.649,-186.342\"/>\n",
       "</g>\n",
       "<!-- 9 -->\n",
       "<g id=\"node10\" class=\"node\"><title>9</title>\n",
       "<path fill=\"#d6f8ca\" stroke=\"black\" d=\"M1027.5,-187C1027.5,-187 814.5,-187 814.5,-187 808.5,-187 802.5,-181 802.5,-175 802.5,-175 802.5,-116 802.5,-116 802.5,-110 808.5,-104 814.5,-104 814.5,-104 1027.5,-104 1027.5,-104 1033.5,-104 1039.5,-110 1039.5,-116 1039.5,-116 1039.5,-175 1039.5,-175 1039.5,-181 1033.5,-187 1027.5,-187\"/>\n",
       "<text text-anchor=\"start\" x=\"849.5\" y=\"-171.8\" font-family=\"Helvetica,sans-Serif\" font-size=\"14.00\">tag__main&#45;dish ≤ 0.308</text>\n",
       "<text text-anchor=\"start\" x=\"885.5\" y=\"-156.8\" font-family=\"Helvetica,sans-Serif\" font-size=\"14.00\">gini = 0.602</text>\n",
       "<text text-anchor=\"start\" x=\"876\" y=\"-141.8\" font-family=\"Helvetica,sans-Serif\" font-size=\"14.00\">samples = 406</text>\n",
       "<text text-anchor=\"start\" x=\"810.5\" y=\"-126.8\" font-family=\"Helvetica,sans-Serif\" font-size=\"14.00\">value = [140, 37, 211, 5, 8, 0, 4, 1, 0]</text>\n",
       "<text text-anchor=\"start\" x=\"871.5\" y=\"-111.8\" font-family=\"Helvetica,sans-Serif\" font-size=\"14.00\">class = profile_2</text>\n",
       "</g>\n",
       "<!-- 5&#45;&gt;9 -->\n",
       "<g id=\"edge9\" class=\"edge\"><title>5&#45;&gt;9</title>\n",
       "<path fill=\"none\" stroke=\"black\" d=\"M921,-222.907C921,-214.649 921,-205.864 921,-197.302\"/>\n",
       "<polygon fill=\"black\" stroke=\"black\" points=\"924.5,-197.021 921,-187.021 917.5,-197.021 924.5,-197.021\"/>\n",
       "</g>\n",
       "<!-- 7 -->\n",
       "<g id=\"node8\" class=\"node\"><title>7</title>\n",
       "<path fill=\"#eeac7c\" stroke=\"black\" d=\"M308,-68C308,-68 12,-68 12,-68 6,-68 0,-62 0,-56 0,-56 0,-12 0,-12 0,-6 6,-0 12,-0 12,-0 308,-0 308,-0 314,-0 320,-6 320,-12 320,-12 320,-56 320,-56 320,-62 314,-68 308,-68\"/>\n",
       "<text text-anchor=\"start\" x=\"124.5\" y=\"-52.8\" font-family=\"Helvetica,sans-Serif\" font-size=\"14.00\">gini = 0.503</text>\n",
       "<text text-anchor=\"start\" x=\"111.5\" y=\"-37.8\" font-family=\"Helvetica,sans-Serif\" font-size=\"14.00\">samples = 3599</text>\n",
       "<text text-anchor=\"start\" x=\"8\" y=\"-22.8\" font-family=\"Helvetica,sans-Serif\" font-size=\"14.00\">value = [2490, 246, 226, 27, 313, 24, 104, 124, 45]</text>\n",
       "<text text-anchor=\"start\" x=\"110.5\" y=\"-7.8\" font-family=\"Helvetica,sans-Serif\" font-size=\"14.00\">class = profile_0</text>\n",
       "</g>\n",
       "<!-- 6&#45;&gt;7 -->\n",
       "<g id=\"edge7\" class=\"edge\"><title>6&#45;&gt;7</title>\n",
       "<path fill=\"none\" stroke=\"black\" d=\"M370.105,-103.882C337.466,-93.1811 302.468,-81.7073 270.58,-71.253\"/>\n",
       "<polygon fill=\"black\" stroke=\"black\" points=\"271.382,-67.8329 260.79,-68.0433 269.202,-74.4845 271.382,-67.8329\"/>\n",
       "</g>\n",
       "<!-- 8 -->\n",
       "<g id=\"node9\" class=\"node\"><title>8</title>\n",
       "<path fill=\"#f3c3a1\" stroke=\"black\" d=\"M638,-68C638,-68 350,-68 350,-68 344,-68 338,-62 338,-56 338,-56 338,-12 338,-12 338,-6 344,-0 350,-0 350,-0 638,-0 638,-0 644,-0 650,-6 650,-12 650,-12 650,-56 650,-56 650,-62 644,-68 638,-68\"/>\n",
       "<text text-anchor=\"start\" x=\"458.5\" y=\"-52.8\" font-family=\"Helvetica,sans-Serif\" font-size=\"14.00\">gini = 0.544</text>\n",
       "<text text-anchor=\"start\" x=\"445.5\" y=\"-37.8\" font-family=\"Helvetica,sans-Serif\" font-size=\"14.00\">samples = 7742</text>\n",
       "<text text-anchor=\"start\" x=\"346\" y=\"-22.8\" font-family=\"Helvetica,sans-Serif\" font-size=\"14.00\">value = [4768, 111, 9, 363, 2088, 0, 75, 228, 100]</text>\n",
       "<text text-anchor=\"start\" x=\"444.5\" y=\"-7.8\" font-family=\"Helvetica,sans-Serif\" font-size=\"14.00\">class = profile_0</text>\n",
       "</g>\n",
       "<!-- 6&#45;&gt;8 -->\n",
       "<g id=\"edge8\" class=\"edge\"><title>6&#45;&gt;8</title>\n",
       "<path fill=\"none\" stroke=\"black\" d=\"M494,-103.726C494,-95.5175 494,-86.8595 494,-78.56\"/>\n",
       "<polygon fill=\"black\" stroke=\"black\" points=\"497.5,-78.2996 494,-68.2996 490.5,-78.2996 497.5,-78.2996\"/>\n",
       "</g>\n",
       "<!-- 10 -->\n",
       "<g id=\"node11\" class=\"node\"><title>10</title>\n",
       "<path fill=\"#fdf6f1\" stroke=\"black\" d=\"M893.5,-68C893.5,-68 680.5,-68 680.5,-68 674.5,-68 668.5,-62 668.5,-56 668.5,-56 668.5,-12 668.5,-12 668.5,-6 674.5,-0 680.5,-0 680.5,-0 893.5,-0 893.5,-0 899.5,-0 905.5,-6 905.5,-12 905.5,-12 905.5,-56 905.5,-56 905.5,-62 899.5,-68 893.5,-68\"/>\n",
       "<text text-anchor=\"start\" x=\"755\" y=\"-52.8\" font-family=\"Helvetica,sans-Serif\" font-size=\"14.00\">gini = 0.63</text>\n",
       "<text text-anchor=\"start\" x=\"742\" y=\"-37.8\" font-family=\"Helvetica,sans-Serif\" font-size=\"14.00\">samples = 265</text>\n",
       "<text text-anchor=\"start\" x=\"676.5\" y=\"-22.8\" font-family=\"Helvetica,sans-Serif\" font-size=\"14.00\">value = [118, 22, 107, 5, 8, 0, 4, 1, 0]</text>\n",
       "<text text-anchor=\"start\" x=\"737.5\" y=\"-7.8\" font-family=\"Helvetica,sans-Serif\" font-size=\"14.00\">class = profile_0</text>\n",
       "</g>\n",
       "<!-- 9&#45;&gt;10 -->\n",
       "<g id=\"edge10\" class=\"edge\"><title>9&#45;&gt;10</title>\n",
       "<path fill=\"none\" stroke=\"black\" d=\"M871.103,-103.726C859.495,-94.2406 847.153,-84.1551 835.602,-74.7159\"/>\n",
       "<polygon fill=\"black\" stroke=\"black\" points=\"837.708,-71.9171 827.75,-68.2996 833.279,-77.3375 837.708,-71.9171\"/>\n",
       "</g>\n",
       "<!-- 11 -->\n",
       "<g id=\"node12\" class=\"node\"><title>11</title>\n",
       "<path fill=\"#94ed77\" stroke=\"black\" d=\"M1142,-68C1142,-68 936,-68 936,-68 930,-68 924,-62 924,-56 924,-56 924,-12 924,-12 924,-6 930,-0 936,-0 936,-0 1142,-0 1142,-0 1148,-0 1154,-6 1154,-12 1154,-12 1154,-56 1154,-56 1154,-62 1148,-68 1142,-68\"/>\n",
       "<text text-anchor=\"start\" x=\"1007\" y=\"-52.8\" font-family=\"Helvetica,sans-Serif\" font-size=\"14.00\">gini = 0.42</text>\n",
       "<text text-anchor=\"start\" x=\"994\" y=\"-37.8\" font-family=\"Helvetica,sans-Serif\" font-size=\"14.00\">samples = 141</text>\n",
       "<text text-anchor=\"start\" x=\"932\" y=\"-22.8\" font-family=\"Helvetica,sans-Serif\" font-size=\"14.00\">value = [22, 15, 104, 0, 0, 0, 0, 0, 0]</text>\n",
       "<text text-anchor=\"start\" x=\"989.5\" y=\"-7.8\" font-family=\"Helvetica,sans-Serif\" font-size=\"14.00\">class = profile_2</text>\n",
       "</g>\n",
       "<!-- 9&#45;&gt;11 -->\n",
       "<g id=\"edge11\" class=\"edge\"><title>9&#45;&gt;11</title>\n",
       "<path fill=\"none\" stroke=\"black\" d=\"M964.939,-103.726C974.964,-94.423 985.611,-84.5428 995.614,-75.2612\"/>\n",
       "<polygon fill=\"black\" stroke=\"black\" points=\"998.166,-77.6673 1003.12,-68.2996 993.405,-72.5362 998.166,-77.6673\"/>\n",
       "</g>\n",
       "<!-- 13 -->\n",
       "<g id=\"node14\" class=\"node\"><title>13</title>\n",
       "<path fill=\"#f1fdf6\" stroke=\"black\" d=\"M1706.5,-187C1706.5,-187 1455.5,-187 1455.5,-187 1449.5,-187 1443.5,-181 1443.5,-175 1443.5,-175 1443.5,-116 1443.5,-116 1443.5,-110 1449.5,-104 1455.5,-104 1455.5,-104 1706.5,-104 1706.5,-104 1712.5,-104 1718.5,-110 1718.5,-116 1718.5,-116 1718.5,-175 1718.5,-175 1718.5,-181 1712.5,-187 1706.5,-187\"/>\n",
       "<text text-anchor=\"start\" x=\"1501\" y=\"-171.8\" font-family=\"Helvetica,sans-Serif\" font-size=\"14.00\">tag__comfort&#45;food ≤ 0.266</text>\n",
       "<text text-anchor=\"start\" x=\"1545.5\" y=\"-156.8\" font-family=\"Helvetica,sans-Serif\" font-size=\"14.00\">gini = 0.676</text>\n",
       "<text text-anchor=\"start\" x=\"1532.5\" y=\"-141.8\" font-family=\"Helvetica,sans-Serif\" font-size=\"14.00\">samples = 1406</text>\n",
       "<text text-anchor=\"start\" x=\"1451.5\" y=\"-126.8\" font-family=\"Helvetica,sans-Serif\" font-size=\"14.00\">value = [521, 90, 9, 585, 125, 0, 27, 32, 17]</text>\n",
       "<text text-anchor=\"start\" x=\"1531.5\" y=\"-111.8\" font-family=\"Helvetica,sans-Serif\" font-size=\"14.00\">class = profile_3</text>\n",
       "</g>\n",
       "<!-- 12&#45;&gt;13 -->\n",
       "<g id=\"edge13\" class=\"edge\"><title>12&#45;&gt;13</title>\n",
       "<path fill=\"none\" stroke=\"black\" d=\"M1669.82,-222.907C1658.84,-213.469 1647.07,-203.343 1635.81,-193.649\"/>\n",
       "<polygon fill=\"black\" stroke=\"black\" points=\"1637.96,-190.889 1628.1,-187.021 1633.4,-196.196 1637.96,-190.889\"/>\n",
       "</g>\n",
       "<!-- 16 -->\n",
       "<g id=\"node17\" class=\"node\"><title>16</title>\n",
       "<path fill=\"#ba92f1\" stroke=\"black\" d=\"M1955,-187C1955,-187 1749,-187 1749,-187 1743,-187 1737,-181 1737,-175 1737,-175 1737,-116 1737,-116 1737,-110 1743,-104 1749,-104 1749,-104 1955,-104 1955,-104 1961,-104 1967,-110 1967,-116 1967,-116 1967,-175 1967,-175 1967,-181 1961,-187 1955,-187\"/>\n",
       "<text text-anchor=\"start\" x=\"1792\" y=\"-171.8\" font-family=\"Helvetica,sans-Serif\" font-size=\"14.00\">tag__winter ≤ 0.301</text>\n",
       "<text text-anchor=\"start\" x=\"1816.5\" y=\"-156.8\" font-family=\"Helvetica,sans-Serif\" font-size=\"14.00\">gini = 0.599</text>\n",
       "<text text-anchor=\"start\" x=\"1807\" y=\"-141.8\" font-family=\"Helvetica,sans-Serif\" font-size=\"14.00\">samples = 103</text>\n",
       "<text text-anchor=\"start\" x=\"1745\" y=\"-126.8\" font-family=\"Helvetica,sans-Serif\" font-size=\"14.00\">value = [10, 10, 0, 12, 8, 0, 62, 0, 1]</text>\n",
       "<text text-anchor=\"start\" x=\"1802.5\" y=\"-111.8\" font-family=\"Helvetica,sans-Serif\" font-size=\"14.00\">class = profile_6</text>\n",
       "</g>\n",
       "<!-- 12&#45;&gt;16 -->\n",
       "<g id=\"edge16\" class=\"edge\"><title>12&#45;&gt;16</title>\n",
       "<path fill=\"none\" stroke=\"black\" d=\"M1763.84,-222.907C1774.73,-213.469 1786.41,-203.343 1797.6,-193.649\"/>\n",
       "<polygon fill=\"black\" stroke=\"black\" points=\"1799.98,-196.215 1805.25,-187.021 1795.4,-190.925 1799.98,-196.215\"/>\n",
       "</g>\n",
       "<!-- 14 -->\n",
       "<g id=\"node15\" class=\"node\"><title>14</title>\n",
       "<path fill=\"#fae7d9\" stroke=\"black\" d=\"M1435.5,-68C1435.5,-68 1184.5,-68 1184.5,-68 1178.5,-68 1172.5,-62 1172.5,-56 1172.5,-56 1172.5,-12 1172.5,-12 1172.5,-6 1178.5,-0 1184.5,-0 1184.5,-0 1435.5,-0 1435.5,-0 1441.5,-0 1447.5,-6 1447.5,-12 1447.5,-12 1447.5,-56 1447.5,-56 1447.5,-62 1441.5,-68 1435.5,-68\"/>\n",
       "<text text-anchor=\"start\" x=\"1274.5\" y=\"-52.8\" font-family=\"Helvetica,sans-Serif\" font-size=\"14.00\">gini = 0.683</text>\n",
       "<text text-anchor=\"start\" x=\"1265\" y=\"-37.8\" font-family=\"Helvetica,sans-Serif\" font-size=\"14.00\">samples = 930</text>\n",
       "<text text-anchor=\"start\" x=\"1180.5\" y=\"-22.8\" font-family=\"Helvetica,sans-Serif\" font-size=\"14.00\">value = [416, 52, 6, 293, 106, 0, 17, 26, 14]</text>\n",
       "<text text-anchor=\"start\" x=\"1260.5\" y=\"-7.8\" font-family=\"Helvetica,sans-Serif\" font-size=\"14.00\">class = profile_0</text>\n",
       "</g>\n",
       "<!-- 13&#45;&gt;14 -->\n",
       "<g id=\"edge14\" class=\"edge\"><title>13&#45;&gt;14</title>\n",
       "<path fill=\"none\" stroke=\"black\" d=\"M1480.47,-103.882C1454.45,-93.3656 1426.57,-82.1027 1401.06,-71.7947\"/>\n",
       "<polygon fill=\"black\" stroke=\"black\" points=\"1402.36,-68.5446 1391.78,-68.0433 1399.74,-75.0348 1402.36,-68.5446\"/>\n",
       "</g>\n",
       "<!-- 15 -->\n",
       "<g id=\"node16\" class=\"node\"><title>15</title>\n",
       "<path fill=\"#9bf2bf\" stroke=\"black\" d=\"M1706,-68C1706,-68 1478,-68 1478,-68 1472,-68 1466,-62 1466,-56 1466,-56 1466,-12 1466,-12 1466,-6 1472,-0 1478,-0 1478,-0 1706,-0 1706,-0 1712,-0 1718,-6 1718,-12 1718,-12 1718,-56 1718,-56 1718,-62 1712,-68 1706,-68\"/>\n",
       "<text text-anchor=\"start\" x=\"1556.5\" y=\"-52.8\" font-family=\"Helvetica,sans-Serif\" font-size=\"14.00\">gini = 0.566</text>\n",
       "<text text-anchor=\"start\" x=\"1547\" y=\"-37.8\" font-family=\"Helvetica,sans-Serif\" font-size=\"14.00\">samples = 476</text>\n",
       "<text text-anchor=\"start\" x=\"1474\" y=\"-22.8\" font-family=\"Helvetica,sans-Serif\" font-size=\"14.00\">value = [105, 38, 3, 292, 19, 0, 10, 6, 3]</text>\n",
       "<text text-anchor=\"start\" x=\"1542.5\" y=\"-7.8\" font-family=\"Helvetica,sans-Serif\" font-size=\"14.00\">class = profile_3</text>\n",
       "</g>\n",
       "<!-- 13&#45;&gt;15 -->\n",
       "<g id=\"edge15\" class=\"edge\"><title>13&#45;&gt;15</title>\n",
       "<path fill=\"none\" stroke=\"black\" d=\"M1585.1,-103.726C1585.93,-95.4263 1586.81,-86.6671 1587.65,-78.2834\"/>\n",
       "<polygon fill=\"black\" stroke=\"black\" points=\"1591.14,-78.5994 1588.65,-68.2996 1584.17,-77.8997 1591.14,-78.5994\"/>\n",
       "</g>\n",
       "<!-- 17 -->\n",
       "<g id=\"node18\" class=\"node\"><title>17</title>\n",
       "<path fill=\"#ece2fb\" stroke=\"black\" d=\"M1931.5,-68C1931.5,-68 1748.5,-68 1748.5,-68 1742.5,-68 1736.5,-62 1736.5,-56 1736.5,-56 1736.5,-12 1736.5,-12 1736.5,-6 1742.5,-0 1748.5,-0 1748.5,-0 1931.5,-0 1931.5,-0 1937.5,-0 1943.5,-6 1943.5,-12 1943.5,-12 1943.5,-56 1943.5,-56 1943.5,-62 1937.5,-68 1931.5,-68\"/>\n",
       "<text text-anchor=\"start\" x=\"1804.5\" y=\"-52.8\" font-family=\"Helvetica,sans-Serif\" font-size=\"14.00\">gini = 0.779</text>\n",
       "<text text-anchor=\"start\" x=\"1799\" y=\"-37.8\" font-family=\"Helvetica,sans-Serif\" font-size=\"14.00\">samples = 34</text>\n",
       "<text text-anchor=\"start\" x=\"1744.5\" y=\"-22.8\" font-family=\"Helvetica,sans-Serif\" font-size=\"14.00\">value = [5, 5, 0, 7, 6, 0, 11, 0, 0]</text>\n",
       "<text text-anchor=\"start\" x=\"1790.5\" y=\"-7.8\" font-family=\"Helvetica,sans-Serif\" font-size=\"14.00\">class = profile_6</text>\n",
       "</g>\n",
       "<!-- 16&#45;&gt;17 -->\n",
       "<g id=\"edge17\" class=\"edge\"><title>16&#45;&gt;17</title>\n",
       "<path fill=\"none\" stroke=\"black\" d=\"M1847.53,-103.726C1846.62,-95.4263 1845.66,-86.6671 1844.74,-78.2834\"/>\n",
       "<polygon fill=\"black\" stroke=\"black\" points=\"1848.22,-77.8588 1843.65,-68.2996 1841.26,-78.6214 1848.22,-77.8588\"/>\n",
       "</g>\n",
       "<!-- 18 -->\n",
       "<g id=\"node19\" class=\"node\"><title>18</title>\n",
       "<path fill=\"#a471ec\" stroke=\"black\" d=\"M2156.5,-68C2156.5,-68 1973.5,-68 1973.5,-68 1967.5,-68 1961.5,-62 1961.5,-56 1961.5,-56 1961.5,-12 1961.5,-12 1961.5,-6 1967.5,-0 1973.5,-0 1973.5,-0 2156.5,-0 2156.5,-0 2162.5,-0 2168.5,-6 2168.5,-12 2168.5,-12 2168.5,-56 2168.5,-56 2168.5,-62 2162.5,-68 2156.5,-68\"/>\n",
       "<text text-anchor=\"start\" x=\"2029.5\" y=\"-52.8\" font-family=\"Helvetica,sans-Serif\" font-size=\"14.00\">gini = 0.437</text>\n",
       "<text text-anchor=\"start\" x=\"2024\" y=\"-37.8\" font-family=\"Helvetica,sans-Serif\" font-size=\"14.00\">samples = 69</text>\n",
       "<text text-anchor=\"start\" x=\"1969.5\" y=\"-22.8\" font-family=\"Helvetica,sans-Serif\" font-size=\"14.00\">value = [5, 5, 0, 5, 2, 0, 51, 0, 1]</text>\n",
       "<text text-anchor=\"start\" x=\"2015.5\" y=\"-7.8\" font-family=\"Helvetica,sans-Serif\" font-size=\"14.00\">class = profile_6</text>\n",
       "</g>\n",
       "<!-- 16&#45;&gt;18 -->\n",
       "<g id=\"edge18\" class=\"edge\"><title>16&#45;&gt;18</title>\n",
       "<path fill=\"none\" stroke=\"black\" d=\"M1931.01,-103.882C1950.84,-93.6885 1972.03,-82.7936 1991.57,-72.7467\"/>\n",
       "<polygon fill=\"black\" stroke=\"black\" points=\"1993.43,-75.7282 2000.72,-68.0433 1990.23,-69.5027 1993.43,-75.7282\"/>\n",
       "</g>\n",
       "<!-- 20 -->\n",
       "<g id=\"node21\" class=\"node\"><title>20</title>\n",
       "<path fill=\"#f7c5d1\" stroke=\"black\" d=\"M3061.5,-306C3061.5,-306 2818.5,-306 2818.5,-306 2812.5,-306 2806.5,-300 2806.5,-294 2806.5,-294 2806.5,-235 2806.5,-235 2806.5,-229 2812.5,-223 2818.5,-223 2818.5,-223 3061.5,-223 3061.5,-223 3067.5,-223 3073.5,-229 3073.5,-235 3073.5,-235 3073.5,-294 3073.5,-294 3073.5,-300 3067.5,-306 3061.5,-306\"/>\n",
       "<text text-anchor=\"start\" x=\"2848\" y=\"-290.8\" font-family=\"Helvetica,sans-Serif\" font-size=\"14.00\">tag__low&#45;saturated&#45;fat ≤ 0.013</text>\n",
       "<text text-anchor=\"start\" x=\"2904.5\" y=\"-275.8\" font-family=\"Helvetica,sans-Serif\" font-size=\"14.00\">gini = 0.685</text>\n",
       "<text text-anchor=\"start\" x=\"2891.5\" y=\"-260.8\" font-family=\"Helvetica,sans-Serif\" font-size=\"14.00\">samples = 1197</text>\n",
       "<text text-anchor=\"start\" x=\"2814.5\" y=\"-245.8\" font-family=\"Helvetica,sans-Serif\" font-size=\"14.00\">value = [306, 82, 1, 78, 144, 0, 2, 15, 569]</text>\n",
       "<text text-anchor=\"start\" x=\"2890.5\" y=\"-230.8\" font-family=\"Helvetica,sans-Serif\" font-size=\"14.00\">class = profile_8</text>\n",
       "</g>\n",
       "<!-- 19&#45;&gt;20 -->\n",
       "<g id=\"edge20\" class=\"edge\"><title>19&#45;&gt;20</title>\n",
       "<path fill=\"none\" stroke=\"black\" d=\"M3133.3,-341.907C3107.02,-331.516 3078.62,-320.291 3051.89,-309.727\"/>\n",
       "<polygon fill=\"black\" stroke=\"black\" points=\"3053.1,-306.442 3042.51,-306.021 3050.53,-312.952 3053.1,-306.442\"/>\n",
       "</g>\n",
       "<!-- 27 -->\n",
       "<g id=\"node28\" class=\"node\"><title>27</title>\n",
       "<path fill=\"#f8dfcd\" stroke=\"black\" d=\"M3550.5,-306C3550.5,-306 3299.5,-306 3299.5,-306 3293.5,-306 3287.5,-300 3287.5,-294 3287.5,-294 3287.5,-235 3287.5,-235 3287.5,-229 3293.5,-223 3299.5,-223 3299.5,-223 3550.5,-223 3550.5,-223 3556.5,-223 3562.5,-229 3562.5,-235 3562.5,-235 3562.5,-294 3562.5,-294 3562.5,-300 3556.5,-306 3550.5,-306\"/>\n",
       "<text text-anchor=\"start\" x=\"3374.5\" y=\"-290.8\" font-family=\"Helvetica,sans-Serif\" font-size=\"14.00\">tag__fall ≤ 0.163</text>\n",
       "<text text-anchor=\"start\" x=\"3389.5\" y=\"-275.8\" font-family=\"Helvetica,sans-Serif\" font-size=\"14.00\">gini = 0.756</text>\n",
       "<text text-anchor=\"start\" x=\"3380\" y=\"-260.8\" font-family=\"Helvetica,sans-Serif\" font-size=\"14.00\">samples = 788</text>\n",
       "<text text-anchor=\"start\" x=\"3295.5\" y=\"-245.8\" font-family=\"Helvetica,sans-Serif\" font-size=\"14.00\">value = [311, 41, 1, 19, 151, 0, 97, 26, 142]</text>\n",
       "<text text-anchor=\"start\" x=\"3375.5\" y=\"-230.8\" font-family=\"Helvetica,sans-Serif\" font-size=\"14.00\">class = profile_0</text>\n",
       "</g>\n",
       "<!-- 19&#45;&gt;27 -->\n",
       "<g id=\"edge27\" class=\"edge\"><title>19&#45;&gt;27</title>\n",
       "<path fill=\"none\" stroke=\"black\" d=\"M3301.57,-341.907C3317.41,-332.106 3334.44,-321.563 3350.64,-311.533\"/>\n",
       "<polygon fill=\"black\" stroke=\"black\" points=\"3352.88,-314.26 3359.54,-306.021 3349.2,-308.308 3352.88,-314.26\"/>\n",
       "</g>\n",
       "<!-- 21 -->\n",
       "<g id=\"node22\" class=\"node\"><title>21</title>\n",
       "<path fill=\"#f5b2c2\" stroke=\"black\" d=\"M2683,-187C2683,-187 2447,-187 2447,-187 2441,-187 2435,-181 2435,-175 2435,-175 2435,-116 2435,-116 2435,-110 2441,-104 2447,-104 2447,-104 2683,-104 2683,-104 2689,-104 2695,-110 2695,-116 2695,-116 2695,-175 2695,-175 2695,-181 2689,-187 2683,-187\"/>\n",
       "<text text-anchor=\"start\" x=\"2497\" y=\"-171.8\" font-family=\"Helvetica,sans-Serif\" font-size=\"14.00\">tag__romantic ≤ 0.093</text>\n",
       "<text text-anchor=\"start\" x=\"2529.5\" y=\"-156.8\" font-family=\"Helvetica,sans-Serif\" font-size=\"14.00\">gini = 0.651</text>\n",
       "<text text-anchor=\"start\" x=\"2516.5\" y=\"-141.8\" font-family=\"Helvetica,sans-Serif\" font-size=\"14.00\">samples = 1018</text>\n",
       "<text text-anchor=\"start\" x=\"2443\" y=\"-126.8\" font-family=\"Helvetica,sans-Serif\" font-size=\"14.00\">value = [229, 77, 1, 67, 103, 0, 2, 2, 537]</text>\n",
       "<text text-anchor=\"start\" x=\"2515.5\" y=\"-111.8\" font-family=\"Helvetica,sans-Serif\" font-size=\"14.00\">class = profile_8</text>\n",
       "</g>\n",
       "<!-- 20&#45;&gt;21 -->\n",
       "<g id=\"edge21\" class=\"edge\"><title>20&#45;&gt;21</title>\n",
       "<path fill=\"none\" stroke=\"black\" d=\"M2810.16,-222.989C2776.11,-212.367 2739.26,-200.869 2704.72,-190.093\"/>\n",
       "<polygon fill=\"black\" stroke=\"black\" points=\"2705.64,-186.712 2695.05,-187.075 2703.55,-193.394 2705.64,-186.712\"/>\n",
       "</g>\n",
       "<!-- 24 -->\n",
       "<g id=\"node25\" class=\"node\"><title>24</title>\n",
       "<path fill=\"#f8decb\" stroke=\"black\" d=\"M3046.5,-187C3046.5,-187 2833.5,-187 2833.5,-187 2827.5,-187 2821.5,-181 2821.5,-175 2821.5,-175 2821.5,-116 2821.5,-116 2821.5,-110 2827.5,-104 2833.5,-104 2833.5,-104 3046.5,-104 3046.5,-104 3052.5,-104 3058.5,-110 3058.5,-116 3058.5,-116 3058.5,-175 3058.5,-175 3058.5,-181 3052.5,-187 3046.5,-187\"/>\n",
       "<text text-anchor=\"start\" x=\"2879.5\" y=\"-171.8\" font-family=\"Helvetica,sans-Serif\" font-size=\"14.00\">tag__lemon ≤ 0.104</text>\n",
       "<text text-anchor=\"start\" x=\"2904.5\" y=\"-156.8\" font-family=\"Helvetica,sans-Serif\" font-size=\"14.00\">gini = 0.721</text>\n",
       "<text text-anchor=\"start\" x=\"2895\" y=\"-141.8\" font-family=\"Helvetica,sans-Serif\" font-size=\"14.00\">samples = 179</text>\n",
       "<text text-anchor=\"start\" x=\"2829.5\" y=\"-126.8\" font-family=\"Helvetica,sans-Serif\" font-size=\"14.00\">value = [77, 5, 0, 11, 41, 0, 0, 13, 32]</text>\n",
       "<text text-anchor=\"start\" x=\"2890.5\" y=\"-111.8\" font-family=\"Helvetica,sans-Serif\" font-size=\"14.00\">class = profile_0</text>\n",
       "</g>\n",
       "<!-- 20&#45;&gt;24 -->\n",
       "<g id=\"edge24\" class=\"edge\"><title>20&#45;&gt;24</title>\n",
       "<path fill=\"none\" stroke=\"black\" d=\"M2940,-222.907C2940,-214.649 2940,-205.864 2940,-197.302\"/>\n",
       "<polygon fill=\"black\" stroke=\"black\" points=\"2943.5,-197.021 2940,-187.021 2936.5,-197.021 2943.5,-197.021\"/>\n",
       "</g>\n",
       "<!-- 22 -->\n",
       "<g id=\"node23\" class=\"node\"><title>22</title>\n",
       "<path fill=\"#f4adbf\" stroke=\"black\" d=\"M2427,-68C2427,-68 2199,-68 2199,-68 2193,-68 2187,-62 2187,-56 2187,-56 2187,-12 2187,-12 2187,-6 2193,-0 2199,-0 2199,-0 2427,-0 2427,-0 2433,-0 2439,-6 2439,-12 2439,-12 2439,-56 2439,-56 2439,-62 2433,-68 2427,-68\"/>\n",
       "<text text-anchor=\"start\" x=\"2281\" y=\"-52.8\" font-family=\"Helvetica,sans-Serif\" font-size=\"14.00\">gini = 0.63</text>\n",
       "<text text-anchor=\"start\" x=\"2268\" y=\"-37.8\" font-family=\"Helvetica,sans-Serif\" font-size=\"14.00\">samples = 963</text>\n",
       "<text text-anchor=\"start\" x=\"2195\" y=\"-22.8\" font-family=\"Helvetica,sans-Serif\" font-size=\"14.00\">value = [221, 74, 1, 48, 87, 0, 2, 2, 528]</text>\n",
       "<text text-anchor=\"start\" x=\"2263.5\" y=\"-7.8\" font-family=\"Helvetica,sans-Serif\" font-size=\"14.00\">class = profile_8</text>\n",
       "</g>\n",
       "<!-- 21&#45;&gt;22 -->\n",
       "<g id=\"edge22\" class=\"edge\"><title>21&#45;&gt;22</title>\n",
       "<path fill=\"none\" stroke=\"black\" d=\"M2471.52,-103.882C2447.53,-93.4579 2421.86,-82.3002 2398.3,-72.0661\"/>\n",
       "<polygon fill=\"black\" stroke=\"black\" points=\"2399.61,-68.8186 2389.04,-68.0433 2396.82,-75.2387 2399.61,-68.8186\"/>\n",
       "</g>\n",
       "<!-- 23 -->\n",
       "<g id=\"node24\" class=\"node\"><title>23</title>\n",
       "<path fill=\"#f0fdf5\" stroke=\"black\" d=\"M2660.5,-68C2660.5,-68 2469.5,-68 2469.5,-68 2463.5,-68 2457.5,-62 2457.5,-56 2457.5,-56 2457.5,-12 2457.5,-12 2457.5,-6 2463.5,-0 2469.5,-0 2469.5,-0 2660.5,-0 2660.5,-0 2666.5,-0 2672.5,-6 2672.5,-12 2672.5,-12 2672.5,-56 2672.5,-56 2672.5,-62 2666.5,-68 2660.5,-68\"/>\n",
       "<text text-anchor=\"start\" x=\"2529.5\" y=\"-52.8\" font-family=\"Helvetica,sans-Serif\" font-size=\"14.00\">gini = 0.745</text>\n",
       "<text text-anchor=\"start\" x=\"2524\" y=\"-37.8\" font-family=\"Helvetica,sans-Serif\" font-size=\"14.00\">samples = 55</text>\n",
       "<text text-anchor=\"start\" x=\"2465.5\" y=\"-22.8\" font-family=\"Helvetica,sans-Serif\" font-size=\"14.00\">value = [8, 3, 0, 19, 16, 0, 0, 0, 9]</text>\n",
       "<text text-anchor=\"start\" x=\"2515.5\" y=\"-7.8\" font-family=\"Helvetica,sans-Serif\" font-size=\"14.00\">class = profile_3</text>\n",
       "</g>\n",
       "<!-- 21&#45;&gt;23 -->\n",
       "<g id=\"edge23\" class=\"edge\"><title>21&#45;&gt;23</title>\n",
       "<path fill=\"none\" stroke=\"black\" d=\"M2565,-103.726C2565,-95.5175 2565,-86.8595 2565,-78.56\"/>\n",
       "<polygon fill=\"black\" stroke=\"black\" points=\"2568.5,-78.2996 2565,-68.2996 2561.5,-78.2996 2568.5,-78.2996\"/>\n",
       "</g>\n",
       "<!-- 25 -->\n",
       "<g id=\"node26\" class=\"node\"><title>25</title>\n",
       "<path fill=\"#fbeee4\" stroke=\"black\" d=\"M2915.5,-68C2915.5,-68 2702.5,-68 2702.5,-68 2696.5,-68 2690.5,-62 2690.5,-56 2690.5,-56 2690.5,-12 2690.5,-12 2690.5,-6 2696.5,-0 2702.5,-0 2702.5,-0 2915.5,-0 2915.5,-0 2921.5,-0 2927.5,-6 2927.5,-12 2927.5,-12 2927.5,-56 2927.5,-56 2927.5,-62 2921.5,-68 2915.5,-68\"/>\n",
       "<text text-anchor=\"start\" x=\"2773.5\" y=\"-52.8\" font-family=\"Helvetica,sans-Serif\" font-size=\"14.00\">gini = 0.749</text>\n",
       "<text text-anchor=\"start\" x=\"2764\" y=\"-37.8\" font-family=\"Helvetica,sans-Serif\" font-size=\"14.00\">samples = 158</text>\n",
       "<text text-anchor=\"start\" x=\"2698.5\" y=\"-22.8\" font-family=\"Helvetica,sans-Serif\" font-size=\"14.00\">value = [57, 4, 0, 11, 41, 0, 0, 13, 32]</text>\n",
       "<text text-anchor=\"start\" x=\"2759.5\" y=\"-7.8\" font-family=\"Helvetica,sans-Serif\" font-size=\"14.00\">class = profile_0</text>\n",
       "</g>\n",
       "<!-- 24&#45;&gt;25 -->\n",
       "<g id=\"edge25\" class=\"edge\"><title>24&#45;&gt;25</title>\n",
       "<path fill=\"none\" stroke=\"black\" d=\"M2891.22,-103.726C2879.87,-94.2406 2867.81,-84.1551 2856.51,-74.7159\"/>\n",
       "<polygon fill=\"black\" stroke=\"black\" points=\"2858.76,-72.0276 2848.84,-68.2996 2854.27,-77.3984 2858.76,-72.0276\"/>\n",
       "</g>\n",
       "<!-- 26 -->\n",
       "<g id=\"node27\" class=\"node\"><title>26</title>\n",
       "<path fill=\"#e68743\" stroke=\"black\" d=\"M3140.5,-68C3140.5,-68 2957.5,-68 2957.5,-68 2951.5,-68 2945.5,-62 2945.5,-56 2945.5,-56 2945.5,-12 2945.5,-12 2945.5,-6 2951.5,-0 2957.5,-0 2957.5,-0 3140.5,-0 3140.5,-0 3146.5,-0 3152.5,-6 3152.5,-12 3152.5,-12 3152.5,-56 3152.5,-56 3152.5,-62 3146.5,-68 3140.5,-68\"/>\n",
       "<text text-anchor=\"start\" x=\"3013.5\" y=\"-52.8\" font-family=\"Helvetica,sans-Serif\" font-size=\"14.00\">gini = 0.091</text>\n",
       "<text text-anchor=\"start\" x=\"3008\" y=\"-37.8\" font-family=\"Helvetica,sans-Serif\" font-size=\"14.00\">samples = 21</text>\n",
       "<text text-anchor=\"start\" x=\"2953.5\" y=\"-22.8\" font-family=\"Helvetica,sans-Serif\" font-size=\"14.00\">value = [20, 1, 0, 0, 0, 0, 0, 0, 0]</text>\n",
       "<text text-anchor=\"start\" x=\"2999.5\" y=\"-7.8\" font-family=\"Helvetica,sans-Serif\" font-size=\"14.00\">class = profile_0</text>\n",
       "</g>\n",
       "<!-- 24&#45;&gt;26 -->\n",
       "<g id=\"edge26\" class=\"edge\"><title>24&#45;&gt;26</title>\n",
       "<path fill=\"none\" stroke=\"black\" d=\"M2980.59,-103.726C2989.76,-94.5142 2999.49,-84.7364 3008.65,-75.5343\"/>\n",
       "<polygon fill=\"black\" stroke=\"black\" points=\"3011.28,-77.8561 3015.85,-68.2996 3006.32,-72.9176 3011.28,-77.8561\"/>\n",
       "</g>\n",
       "<!-- 28 -->\n",
       "<g id=\"node29\" class=\"node\"><title>28</title>\n",
       "<path fill=\"#f7d8c2\" stroke=\"black\" d=\"M3550.5,-187C3550.5,-187 3299.5,-187 3299.5,-187 3293.5,-187 3287.5,-181 3287.5,-175 3287.5,-175 3287.5,-116 3287.5,-116 3287.5,-110 3293.5,-104 3299.5,-104 3299.5,-104 3550.5,-104 3550.5,-104 3556.5,-104 3562.5,-110 3562.5,-116 3562.5,-116 3562.5,-175 3562.5,-175 3562.5,-181 3556.5,-187 3550.5,-187\"/>\n",
       "<text text-anchor=\"start\" x=\"3358\" y=\"-171.8\" font-family=\"Helvetica,sans-Serif\" font-size=\"14.00\">tag__summer ≤ 0.201</text>\n",
       "<text text-anchor=\"start\" x=\"3389.5\" y=\"-156.8\" font-family=\"Helvetica,sans-Serif\" font-size=\"14.00\">gini = 0.695</text>\n",
       "<text text-anchor=\"start\" x=\"3380\" y=\"-141.8\" font-family=\"Helvetica,sans-Serif\" font-size=\"14.00\">samples = 602</text>\n",
       "<text text-anchor=\"start\" x=\"3295.5\" y=\"-126.8\" font-family=\"Helvetica,sans-Serif\" font-size=\"14.00\">value = [279, 25, 1, 15, 136, 0, 10, 23, 113]</text>\n",
       "<text text-anchor=\"start\" x=\"3375.5\" y=\"-111.8\" font-family=\"Helvetica,sans-Serif\" font-size=\"14.00\">class = profile_0</text>\n",
       "</g>\n",
       "<!-- 27&#45;&gt;28 -->\n",
       "<g id=\"edge28\" class=\"edge\"><title>27&#45;&gt;28</title>\n",
       "<path fill=\"none\" stroke=\"black\" d=\"M3425,-222.907C3425,-214.649 3425,-205.864 3425,-197.302\"/>\n",
       "<polygon fill=\"black\" stroke=\"black\" points=\"3428.5,-197.021 3425,-187.021 3421.5,-197.021 3428.5,-197.021\"/>\n",
       "</g>\n",
       "<!-- 31 -->\n",
       "<g id=\"node32\" class=\"node\"><title>31</title>\n",
       "<path fill=\"#d2b8f6\" stroke=\"black\" d=\"M3925.5,-187C3925.5,-187 3712.5,-187 3712.5,-187 3706.5,-187 3700.5,-181 3700.5,-175 3700.5,-175 3700.5,-116 3700.5,-116 3700.5,-110 3706.5,-104 3712.5,-104 3712.5,-104 3925.5,-104 3925.5,-104 3931.5,-104 3937.5,-110 3937.5,-116 3937.5,-116 3937.5,-175 3937.5,-175 3937.5,-181 3931.5,-187 3925.5,-187\"/>\n",
       "<text text-anchor=\"start\" x=\"3759\" y=\"-171.8\" font-family=\"Helvetica,sans-Serif\" font-size=\"14.00\">tag__winter ≤ 0.207</text>\n",
       "<text text-anchor=\"start\" x=\"3783.5\" y=\"-156.8\" font-family=\"Helvetica,sans-Serif\" font-size=\"14.00\">gini = 0.713</text>\n",
       "<text text-anchor=\"start\" x=\"3774\" y=\"-141.8\" font-family=\"Helvetica,sans-Serif\" font-size=\"14.00\">samples = 186</text>\n",
       "<text text-anchor=\"start\" x=\"3708.5\" y=\"-126.8\" font-family=\"Helvetica,sans-Serif\" font-size=\"14.00\">value = [32, 16, 0, 4, 15, 0, 87, 3, 29]</text>\n",
       "<text text-anchor=\"start\" x=\"3769.5\" y=\"-111.8\" font-family=\"Helvetica,sans-Serif\" font-size=\"14.00\">class = profile_6</text>\n",
       "</g>\n",
       "<!-- 27&#45;&gt;31 -->\n",
       "<g id=\"edge31\" class=\"edge\"><title>27&#45;&gt;31</title>\n",
       "<path fill=\"none\" stroke=\"black\" d=\"M3561.42,-222.989C3603.4,-210.524 3649.44,-196.852 3690.84,-184.557\"/>\n",
       "<polygon fill=\"black\" stroke=\"black\" points=\"3691.84,-187.912 3700.43,-181.71 3689.85,-181.202 3691.84,-187.912\"/>\n",
       "</g>\n",
       "<!-- 29 -->\n",
       "<g id=\"node30\" class=\"node\"><title>29</title>\n",
       "<path fill=\"#fbede3\" stroke=\"black\" d=\"M3425.5,-68C3425.5,-68 3182.5,-68 3182.5,-68 3176.5,-68 3170.5,-62 3170.5,-56 3170.5,-56 3170.5,-12 3170.5,-12 3170.5,-6 3176.5,-0 3182.5,-0 3182.5,-0 3425.5,-0 3425.5,-0 3431.5,-0 3437.5,-6 3437.5,-12 3437.5,-12 3437.5,-56 3437.5,-56 3437.5,-62 3431.5,-68 3425.5,-68\"/>\n",
       "<text text-anchor=\"start\" x=\"3268.5\" y=\"-52.8\" font-family=\"Helvetica,sans-Serif\" font-size=\"14.00\">gini = 0.729</text>\n",
       "<text text-anchor=\"start\" x=\"3259\" y=\"-37.8\" font-family=\"Helvetica,sans-Serif\" font-size=\"14.00\">samples = 473</text>\n",
       "<text text-anchor=\"start\" x=\"3178.5\" y=\"-22.8\" font-family=\"Helvetica,sans-Serif\" font-size=\"14.00\">value = [179, 14, 1, 15, 131, 0, 9, 22, 102]</text>\n",
       "<text text-anchor=\"start\" x=\"3254.5\" y=\"-7.8\" font-family=\"Helvetica,sans-Serif\" font-size=\"14.00\">class = profile_0</text>\n",
       "</g>\n",
       "<!-- 28&#45;&gt;29 -->\n",
       "<g id=\"edge29\" class=\"edge\"><title>28&#45;&gt;29</title>\n",
       "<path fill=\"none\" stroke=\"black\" d=\"M3379.94,-103.726C3369.66,-94.423 3358.75,-84.5428 3348.49,-75.2612\"/>\n",
       "<polygon fill=\"black\" stroke=\"black\" points=\"3350.56,-72.4144 3340.8,-68.2996 3345.86,-77.6047 3350.56,-72.4144\"/>\n",
       "</g>\n",
       "<!-- 30 -->\n",
       "<g id=\"node31\" class=\"node\"><title>30</title>\n",
       "<path fill=\"#eba06a\" stroke=\"black\" d=\"M3674,-68C3674,-68 3468,-68 3468,-68 3462,-68 3456,-62 3456,-56 3456,-56 3456,-12 3456,-12 3456,-6 3462,-0 3468,-0 3468,-0 3674,-0 3674,-0 3680,-0 3686,-6 3686,-12 3686,-12 3686,-56 3686,-56 3686,-62 3680,-68 3674,-68\"/>\n",
       "<text text-anchor=\"start\" x=\"3535.5\" y=\"-52.8\" font-family=\"Helvetica,sans-Serif\" font-size=\"14.00\">gini = 0.383</text>\n",
       "<text text-anchor=\"start\" x=\"3526\" y=\"-37.8\" font-family=\"Helvetica,sans-Serif\" font-size=\"14.00\">samples = 129</text>\n",
       "<text text-anchor=\"start\" x=\"3464\" y=\"-22.8\" font-family=\"Helvetica,sans-Serif\" font-size=\"14.00\">value = [100, 11, 0, 0, 5, 0, 1, 1, 11]</text>\n",
       "<text text-anchor=\"start\" x=\"3521.5\" y=\"-7.8\" font-family=\"Helvetica,sans-Serif\" font-size=\"14.00\">class = profile_0</text>\n",
       "</g>\n",
       "<!-- 28&#45;&gt;30 -->\n",
       "<g id=\"edge30\" class=\"edge\"><title>28&#45;&gt;30</title>\n",
       "<path fill=\"none\" stroke=\"black\" d=\"M3479.37,-103.726C3492.13,-94.1494 3505.72,-83.9611 3518.41,-74.4438\"/>\n",
       "<polygon fill=\"black\" stroke=\"black\" points=\"3520.7,-77.0996 3526.6,-68.2996 3516.5,-71.4996 3520.7,-77.0996\"/>\n",
       "</g>\n",
       "<!-- 32 -->\n",
       "<g id=\"node33\" class=\"node\"><title>32</title>\n",
       "<path fill=\"#fdfcff\" stroke=\"black\" d=\"M3922,-68C3922,-68 3716,-68 3716,-68 3710,-68 3704,-62 3704,-56 3704,-56 3704,-12 3704,-12 3704,-6 3710,-0 3716,-0 3716,-0 3922,-0 3922,-0 3928,-0 3934,-6 3934,-12 3934,-12 3934,-56 3934,-56 3934,-62 3928,-68 3922,-68\"/>\n",
       "<text text-anchor=\"start\" x=\"3783.5\" y=\"-52.8\" font-family=\"Helvetica,sans-Serif\" font-size=\"14.00\">gini = 0.778</text>\n",
       "<text text-anchor=\"start\" x=\"3778\" y=\"-37.8\" font-family=\"Helvetica,sans-Serif\" font-size=\"14.00\">samples = 97</text>\n",
       "<text text-anchor=\"start\" x=\"3712\" y=\"-22.8\" font-family=\"Helvetica,sans-Serif\" font-size=\"14.00\">value = [25, 5, 0, 2, 11, 0, 26, 3, 25]</text>\n",
       "<text text-anchor=\"start\" x=\"3769.5\" y=\"-7.8\" font-family=\"Helvetica,sans-Serif\" font-size=\"14.00\">class = profile_6</text>\n",
       "</g>\n",
       "<!-- 31&#45;&gt;32 -->\n",
       "<g id=\"edge32\" class=\"edge\"><title>31&#45;&gt;32</title>\n",
       "<path fill=\"none\" stroke=\"black\" d=\"M3819,-103.726C3819,-95.5175 3819,-86.8595 3819,-78.56\"/>\n",
       "<polygon fill=\"black\" stroke=\"black\" points=\"3822.5,-78.2996 3819,-68.2996 3815.5,-78.2996 3822.5,-78.2996\"/>\n",
       "</g>\n",
       "<!-- 33 -->\n",
       "<g id=\"node34\" class=\"node\"><title>33</title>\n",
       "<path fill=\"#ae80ee\" stroke=\"black\" d=\"M4155.5,-68C4155.5,-68 3964.5,-68 3964.5,-68 3958.5,-68 3952.5,-62 3952.5,-56 3952.5,-56 3952.5,-12 3952.5,-12 3952.5,-6 3958.5,-0 3964.5,-0 3964.5,-0 4155.5,-0 4155.5,-0 4161.5,-0 4167.5,-6 4167.5,-12 4167.5,-12 4167.5,-56 4167.5,-56 4167.5,-62 4161.5,-68 4155.5,-68\"/>\n",
       "<text text-anchor=\"start\" x=\"4024.5\" y=\"-52.8\" font-family=\"Helvetica,sans-Serif\" font-size=\"14.00\">gini = 0.504</text>\n",
       "<text text-anchor=\"start\" x=\"4019\" y=\"-37.8\" font-family=\"Helvetica,sans-Serif\" font-size=\"14.00\">samples = 89</text>\n",
       "<text text-anchor=\"start\" x=\"3960.5\" y=\"-22.8\" font-family=\"Helvetica,sans-Serif\" font-size=\"14.00\">value = [7, 11, 0, 2, 4, 0, 61, 0, 4]</text>\n",
       "<text text-anchor=\"start\" x=\"4010.5\" y=\"-7.8\" font-family=\"Helvetica,sans-Serif\" font-size=\"14.00\">class = profile_6</text>\n",
       "</g>\n",
       "<!-- 31&#45;&gt;33 -->\n",
       "<g id=\"edge33\" class=\"edge\"><title>31&#45;&gt;33</title>\n",
       "<path fill=\"none\" stroke=\"black\" d=\"M3908.4,-103.882C3931.24,-93.504 3955.68,-82.399 3978.12,-72.202\"/>\n",
       "<polygon fill=\"black\" stroke=\"black\" points=\"3979.62,-75.3665 3987.27,-68.0433 3976.72,-68.9935 3979.62,-75.3665\"/>\n",
       "</g>\n",
       "<!-- 35 -->\n",
       "<g id=\"node36\" class=\"node\"><title>35</title>\n",
       "<path fill=\"#fffdfc\" stroke=\"black\" d=\"M5340,-425C5340,-425 5082,-425 5082,-425 5076,-425 5070,-419 5070,-413 5070,-413 5070,-354 5070,-354 5070,-348 5076,-342 5082,-342 5082,-342 5340,-342 5340,-342 5346,-342 5352,-348 5352,-354 5352,-354 5352,-413 5352,-413 5352,-419 5346,-425 5340,-425\"/>\n",
       "<text text-anchor=\"start\" x=\"5151\" y=\"-409.8\" font-family=\"Helvetica,sans-Serif\" font-size=\"14.00\">tag__winter ≤ 0.139</text>\n",
       "<text text-anchor=\"start\" x=\"5175.5\" y=\"-394.8\" font-family=\"Helvetica,sans-Serif\" font-size=\"14.00\">gini = 0.765</text>\n",
       "<text text-anchor=\"start\" x=\"5162.5\" y=\"-379.8\" font-family=\"Helvetica,sans-Serif\" font-size=\"14.00\">samples = 1561</text>\n",
       "<text text-anchor=\"start\" x=\"5078\" y=\"-364.8\" font-family=\"Helvetica,sans-Serif\" font-size=\"14.00\">value = [490, 90, 4, 101, 291, 0, 77, 472, 36]</text>\n",
       "<text text-anchor=\"start\" x=\"5161.5\" y=\"-349.8\" font-family=\"Helvetica,sans-Serif\" font-size=\"14.00\">class = profile_0</text>\n",
       "</g>\n",
       "<!-- 34&#45;&gt;35 -->\n",
       "<g id=\"edge35\" class=\"edge\"><title>34&#45;&gt;35</title>\n",
       "<path fill=\"none\" stroke=\"black\" d=\"M5211,-460.907C5211,-452.649 5211,-443.864 5211,-435.302\"/>\n",
       "<polygon fill=\"black\" stroke=\"black\" points=\"5214.5,-435.021 5211,-425.021 5207.5,-435.021 5214.5,-435.021\"/>\n",
       "</g>\n",
       "<!-- 50 -->\n",
       "<g id=\"node51\" class=\"node\"><title>50</title>\n",
       "<path fill=\"#f193e9\" stroke=\"black\" d=\"M6763.5,-425C6763.5,-425 6512.5,-425 6512.5,-425 6506.5,-425 6500.5,-419 6500.5,-413 6500.5,-413 6500.5,-354 6500.5,-354 6500.5,-348 6506.5,-342 6512.5,-342 6512.5,-342 6763.5,-342 6763.5,-342 6769.5,-342 6775.5,-348 6775.5,-354 6775.5,-354 6775.5,-413 6775.5,-413 6775.5,-419 6769.5,-425 6763.5,-425\"/>\n",
       "<text text-anchor=\"start\" x=\"6578\" y=\"-409.8\" font-family=\"Helvetica,sans-Serif\" font-size=\"14.00\">tag__winter ≤ 0.264</text>\n",
       "<text text-anchor=\"start\" x=\"6602.5\" y=\"-394.8\" font-family=\"Helvetica,sans-Serif\" font-size=\"14.00\">gini = 0.593</text>\n",
       "<text text-anchor=\"start\" x=\"6589.5\" y=\"-379.8\" font-family=\"Helvetica,sans-Serif\" font-size=\"14.00\">samples = 1109</text>\n",
       "<text text-anchor=\"start\" x=\"6508.5\" y=\"-364.8\" font-family=\"Helvetica,sans-Serif\" font-size=\"14.00\">value = [153, 93, 3, 30, 113, 0, 22, 674, 21]</text>\n",
       "<text text-anchor=\"start\" x=\"6588.5\" y=\"-349.8\" font-family=\"Helvetica,sans-Serif\" font-size=\"14.00\">class = profile_7</text>\n",
       "</g>\n",
       "<!-- 34&#45;&gt;50 -->\n",
       "<g id=\"edge50\" class=\"edge\"><title>34&#45;&gt;50</title>\n",
       "<path fill=\"none\" stroke=\"black\" d=\"M5359.68,-489.31C5634.06,-466.813 6216.93,-419.024 6490.46,-396.597\"/>\n",
       "<polygon fill=\"black\" stroke=\"black\" points=\"6490.78,-400.083 6500.46,-395.777 6490.21,-393.106 6490.78,-400.083\"/>\n",
       "</g>\n",
       "<!-- 36 -->\n",
       "<g id=\"node37\" class=\"node\"><title>36</title>\n",
       "<path fill=\"#fffefe\" stroke=\"black\" d=\"M5105.5,-306C5105.5,-306 4854.5,-306 4854.5,-306 4848.5,-306 4842.5,-300 4842.5,-294 4842.5,-294 4842.5,-235 4842.5,-235 4842.5,-229 4848.5,-223 4854.5,-223 4854.5,-223 5105.5,-223 5105.5,-223 5111.5,-223 5117.5,-229 5117.5,-235 5117.5,-235 5117.5,-294 5117.5,-294 5117.5,-300 5111.5,-306 5105.5,-306\"/>\n",
       "<text text-anchor=\"start\" x=\"4912\" y=\"-290.8\" font-family=\"Helvetica,sans-Serif\" font-size=\"14.00\">tag__romantic ≤ 0.184</text>\n",
       "<text text-anchor=\"start\" x=\"4944.5\" y=\"-275.8\" font-family=\"Helvetica,sans-Serif\" font-size=\"14.00\">gini = 0.743</text>\n",
       "<text text-anchor=\"start\" x=\"4931.5\" y=\"-260.8\" font-family=\"Helvetica,sans-Serif\" font-size=\"14.00\">samples = 1433</text>\n",
       "<text text-anchor=\"start\" x=\"4850.5\" y=\"-245.8\" font-family=\"Helvetica,sans-Serif\" font-size=\"14.00\">value = [468, 78, 4, 97, 281, 0, 10, 461, 34]</text>\n",
       "<text text-anchor=\"start\" x=\"4930.5\" y=\"-230.8\" font-family=\"Helvetica,sans-Serif\" font-size=\"14.00\">class = profile_0</text>\n",
       "</g>\n",
       "<!-- 35&#45;&gt;36 -->\n",
       "<g id=\"edge36\" class=\"edge\"><title>35&#45;&gt;36</title>\n",
       "<path fill=\"none\" stroke=\"black\" d=\"M5130.86,-341.907C5110.88,-331.789 5089.34,-320.879 5068.96,-310.559\"/>\n",
       "<polygon fill=\"black\" stroke=\"black\" points=\"5070.51,-307.417 5060,-306.021 5067.34,-313.662 5070.51,-307.417\"/>\n",
       "</g>\n",
       "<!-- 43 -->\n",
       "<g id=\"node44\" class=\"node\"><title>43</title>\n",
       "<path fill=\"#caabf4\" stroke=\"black\" d=\"M5540.5,-306C5540.5,-306 5327.5,-306 5327.5,-306 5321.5,-306 5315.5,-300 5315.5,-294 5315.5,-294 5315.5,-235 5315.5,-235 5315.5,-229 5321.5,-223 5327.5,-223 5327.5,-223 5540.5,-223 5540.5,-223 5546.5,-223 5552.5,-229 5552.5,-235 5552.5,-235 5552.5,-294 5552.5,-294 5552.5,-300 5546.5,-306 5540.5,-306\"/>\n",
       "<text text-anchor=\"start\" x=\"5376.5\" y=\"-290.8\" font-family=\"Helvetica,sans-Serif\" font-size=\"14.00\">tag__spicy ≤ 0.086</text>\n",
       "<text text-anchor=\"start\" x=\"5398.5\" y=\"-275.8\" font-family=\"Helvetica,sans-Serif\" font-size=\"14.00\">gini = 0.673</text>\n",
       "<text text-anchor=\"start\" x=\"5389\" y=\"-260.8\" font-family=\"Helvetica,sans-Serif\" font-size=\"14.00\">samples = 128</text>\n",
       "<text text-anchor=\"start\" x=\"5323.5\" y=\"-245.8\" font-family=\"Helvetica,sans-Serif\" font-size=\"14.00\">value = [22, 12, 0, 4, 10, 0, 67, 11, 2]</text>\n",
       "<text text-anchor=\"start\" x=\"5384.5\" y=\"-230.8\" font-family=\"Helvetica,sans-Serif\" font-size=\"14.00\">class = profile_6</text>\n",
       "</g>\n",
       "<!-- 35&#45;&gt;43 -->\n",
       "<g id=\"edge43\" class=\"edge\"><title>35&#45;&gt;43</title>\n",
       "<path fill=\"none\" stroke=\"black\" d=\"M5288.37,-341.907C5307.57,-331.834 5328.26,-320.977 5347.85,-310.698\"/>\n",
       "<polygon fill=\"black\" stroke=\"black\" points=\"5349.54,-313.766 5356.77,-306.021 5346.29,-307.568 5349.54,-313.766\"/>\n",
       "</g>\n",
       "<!-- 37 -->\n",
       "<g id=\"node38\" class=\"node\"><title>37</title>\n",
       "<path fill=\"#fffefe\" stroke=\"black\" d=\"M4729.5,-187C4729.5,-187 4478.5,-187 4478.5,-187 4472.5,-187 4466.5,-181 4466.5,-175 4466.5,-175 4466.5,-116 4466.5,-116 4466.5,-110 4472.5,-104 4478.5,-104 4478.5,-104 4729.5,-104 4729.5,-104 4735.5,-104 4741.5,-110 4741.5,-116 4741.5,-116 4741.5,-175 4741.5,-175 4741.5,-181 4735.5,-187 4729.5,-187\"/>\n",
       "<text text-anchor=\"start\" x=\"4542\" y=\"-171.8\" font-family=\"Helvetica,sans-Serif\" font-size=\"14.00\">tag__low&#45;fat ≤ 0.109</text>\n",
       "<text text-anchor=\"start\" x=\"4568.5\" y=\"-156.8\" font-family=\"Helvetica,sans-Serif\" font-size=\"14.00\">gini = 0.723</text>\n",
       "<text text-anchor=\"start\" x=\"4555.5\" y=\"-141.8\" font-family=\"Helvetica,sans-Serif\" font-size=\"14.00\">samples = 1339</text>\n",
       "<text text-anchor=\"start\" x=\"4474.5\" y=\"-126.8\" font-family=\"Helvetica,sans-Serif\" font-size=\"14.00\">value = [458, 68, 4, 41, 271, 0, 10, 453, 34]</text>\n",
       "<text text-anchor=\"start\" x=\"4554.5\" y=\"-111.8\" font-family=\"Helvetica,sans-Serif\" font-size=\"14.00\">class = profile_0</text>\n",
       "</g>\n",
       "<!-- 36&#45;&gt;37 -->\n",
       "<g id=\"edge37\" class=\"edge\"><title>36&#45;&gt;37</title>\n",
       "<path fill=\"none\" stroke=\"black\" d=\"M4849.81,-222.989C4815.68,-212.367 4778.72,-200.869 4744.09,-190.093\"/>\n",
       "<polygon fill=\"black\" stroke=\"black\" points=\"4744.98,-186.704 4734.39,-187.075 4742.9,-193.388 4744.98,-186.704\"/>\n",
       "</g>\n",
       "<!-- 40 -->\n",
       "<g id=\"node41\" class=\"node\"><title>40</title>\n",
       "<path fill=\"#93f1ba\" stroke=\"black\" d=\"M5083,-187C5083,-187 4877,-187 4877,-187 4871,-187 4865,-181 4865,-175 4865,-175 4865,-116 4865,-116 4865,-110 4871,-104 4877,-104 4877,-104 5083,-104 5083,-104 5089,-104 5095,-110 5095,-116 5095,-116 5095,-175 5095,-175 5095,-181 5089,-187 5083,-187\"/>\n",
       "<text text-anchor=\"start\" x=\"4918.5\" y=\"-171.8\" font-family=\"Helvetica,sans-Serif\" font-size=\"14.00\">tag__salads ≤ 0.029</text>\n",
       "<text text-anchor=\"start\" x=\"4944.5\" y=\"-156.8\" font-family=\"Helvetica,sans-Serif\" font-size=\"14.00\">gini = 0.604</text>\n",
       "<text text-anchor=\"start\" x=\"4939\" y=\"-141.8\" font-family=\"Helvetica,sans-Serif\" font-size=\"14.00\">samples = 94</text>\n",
       "<text text-anchor=\"start\" x=\"4873\" y=\"-126.8\" font-family=\"Helvetica,sans-Serif\" font-size=\"14.00\">value = [10, 10, 0, 56, 10, 0, 0, 8, 0]</text>\n",
       "<text text-anchor=\"start\" x=\"4930.5\" y=\"-111.8\" font-family=\"Helvetica,sans-Serif\" font-size=\"14.00\">class = profile_3</text>\n",
       "</g>\n",
       "<!-- 36&#45;&gt;40 -->\n",
       "<g id=\"edge40\" class=\"edge\"><title>36&#45;&gt;40</title>\n",
       "<path fill=\"none\" stroke=\"black\" d=\"M4980,-222.907C4980,-214.649 4980,-205.864 4980,-197.302\"/>\n",
       "<polygon fill=\"black\" stroke=\"black\" points=\"4983.5,-197.021 4980,-187.021 4976.5,-197.021 4983.5,-197.021\"/>\n",
       "</g>\n",
       "<!-- 38 -->\n",
       "<g id=\"node39\" class=\"node\"><title>38</title>\n",
       "<path fill=\"#f9e0ce\" stroke=\"black\" d=\"M4440.5,-68C4440.5,-68 4197.5,-68 4197.5,-68 4191.5,-68 4185.5,-62 4185.5,-56 4185.5,-56 4185.5,-12 4185.5,-12 4185.5,-6 4191.5,-0 4197.5,-0 4197.5,-0 4440.5,-0 4440.5,-0 4446.5,-0 4452.5,-6 4452.5,-12 4452.5,-12 4452.5,-56 4452.5,-56 4452.5,-62 4446.5,-68 4440.5,-68\"/>\n",
       "<text text-anchor=\"start\" x=\"4283.5\" y=\"-52.8\" font-family=\"Helvetica,sans-Serif\" font-size=\"14.00\">gini = 0.716</text>\n",
       "<text text-anchor=\"start\" x=\"4274\" y=\"-37.8\" font-family=\"Helvetica,sans-Serif\" font-size=\"14.00\">samples = 766</text>\n",
       "<text text-anchor=\"start\" x=\"4193.5\" y=\"-22.8\" font-family=\"Helvetica,sans-Serif\" font-size=\"14.00\">value = [324, 36, 3, 31, 162, 0, 8, 180, 22]</text>\n",
       "<text text-anchor=\"start\" x=\"4269.5\" y=\"-7.8\" font-family=\"Helvetica,sans-Serif\" font-size=\"14.00\">class = profile_0</text>\n",
       "</g>\n",
       "<!-- 37&#45;&gt;38 -->\n",
       "<g id=\"edge38\" class=\"edge\"><title>37&#45;&gt;38</title>\n",
       "<path fill=\"none\" stroke=\"black\" d=\"M4498.28,-103.882C4470.79,-93.3195 4441.34,-82.0039 4414.41,-71.6591\"/>\n",
       "<polygon fill=\"black\" stroke=\"black\" points=\"4415.59,-68.3627 4405,-68.0433 4413.08,-74.897 4415.59,-68.3627\"/>\n",
       "</g>\n",
       "<!-- 39 -->\n",
       "<g id=\"node40\" class=\"node\"><title>39</title>\n",
       "<path fill=\"#f7c0f2\" stroke=\"black\" d=\"M4725.5,-68C4725.5,-68 4482.5,-68 4482.5,-68 4476.5,-68 4470.5,-62 4470.5,-56 4470.5,-56 4470.5,-12 4470.5,-12 4470.5,-6 4476.5,-0 4482.5,-0 4482.5,-0 4725.5,-0 4725.5,-0 4731.5,-0 4737.5,-6 4737.5,-12 4737.5,-12 4737.5,-56 4737.5,-56 4737.5,-62 4731.5,-68 4725.5,-68\"/>\n",
       "<text text-anchor=\"start\" x=\"4568.5\" y=\"-52.8\" font-family=\"Helvetica,sans-Serif\" font-size=\"14.00\">gini = 0.678</text>\n",
       "<text text-anchor=\"start\" x=\"4559\" y=\"-37.8\" font-family=\"Helvetica,sans-Serif\" font-size=\"14.00\">samples = 573</text>\n",
       "<text text-anchor=\"start\" x=\"4478.5\" y=\"-22.8\" font-family=\"Helvetica,sans-Serif\" font-size=\"14.00\">value = [134, 32, 1, 10, 109, 0, 2, 273, 12]</text>\n",
       "<text text-anchor=\"start\" x=\"4554.5\" y=\"-7.8\" font-family=\"Helvetica,sans-Serif\" font-size=\"14.00\">class = profile_7</text>\n",
       "</g>\n",
       "<!-- 37&#45;&gt;39 -->\n",
       "<g id=\"edge39\" class=\"edge\"><title>37&#45;&gt;39</title>\n",
       "<path fill=\"none\" stroke=\"black\" d=\"M4604,-103.726C4604,-95.5175 4604,-86.8595 4604,-78.56\"/>\n",
       "<polygon fill=\"black\" stroke=\"black\" points=\"4607.5,-78.2996 4604,-68.2996 4600.5,-78.2996 4607.5,-78.2996\"/>\n",
       "</g>\n",
       "<!-- 41 -->\n",
       "<g id=\"node42\" class=\"node\"><title>41</title>\n",
       "<path fill=\"#d9fae7\" stroke=\"black\" d=\"M4950.5,-68C4950.5,-68 4767.5,-68 4767.5,-68 4761.5,-68 4755.5,-62 4755.5,-56 4755.5,-56 4755.5,-12 4755.5,-12 4755.5,-6 4761.5,-0 4767.5,-0 4767.5,-0 4950.5,-0 4950.5,-0 4956.5,-0 4962.5,-6 4962.5,-12 4962.5,-12 4962.5,-56 4962.5,-56 4962.5,-62 4956.5,-68 4950.5,-68\"/>\n",
       "<text text-anchor=\"start\" x=\"4823.5\" y=\"-52.8\" font-family=\"Helvetica,sans-Serif\" font-size=\"14.00\">gini = 0.765</text>\n",
       "<text text-anchor=\"start\" x=\"4818\" y=\"-37.8\" font-family=\"Helvetica,sans-Serif\" font-size=\"14.00\">samples = 45</text>\n",
       "<text text-anchor=\"start\" x=\"4763.5\" y=\"-22.8\" font-family=\"Helvetica,sans-Serif\" font-size=\"14.00\">value = [9, 5, 0, 16, 7, 0, 0, 8, 0]</text>\n",
       "<text text-anchor=\"start\" x=\"4809.5\" y=\"-7.8\" font-family=\"Helvetica,sans-Serif\" font-size=\"14.00\">class = profile_3</text>\n",
       "</g>\n",
       "<!-- 40&#45;&gt;41 -->\n",
       "<g id=\"edge41\" class=\"edge\"><title>40&#45;&gt;41</title>\n",
       "<path fill=\"none\" stroke=\"black\" d=\"M4934.94,-103.726C4924.66,-94.423 4913.75,-84.5428 4903.49,-75.2612\"/>\n",
       "<polygon fill=\"black\" stroke=\"black\" points=\"4905.56,-72.4144 4895.8,-68.2996 4900.86,-77.6047 4905.56,-72.4144\"/>\n",
       "</g>\n",
       "<!-- 42 -->\n",
       "<g id=\"node43\" class=\"node\"><title>42</title>\n",
       "<path fill=\"#61ea9b\" stroke=\"black\" d=\"M5175.5,-68C5175.5,-68 4992.5,-68 4992.5,-68 4986.5,-68 4980.5,-62 4980.5,-56 4980.5,-56 4980.5,-12 4980.5,-12 4980.5,-6 4986.5,-0 4992.5,-0 4992.5,-0 5175.5,-0 5175.5,-0 5181.5,-0 5187.5,-6 5187.5,-12 5187.5,-12 5187.5,-56 5187.5,-56 5187.5,-62 5181.5,-68 5175.5,-68\"/>\n",
       "<text text-anchor=\"start\" x=\"5048.5\" y=\"-52.8\" font-family=\"Helvetica,sans-Serif\" font-size=\"14.00\">gini = 0.319</text>\n",
       "<text text-anchor=\"start\" x=\"5043\" y=\"-37.8\" font-family=\"Helvetica,sans-Serif\" font-size=\"14.00\">samples = 49</text>\n",
       "<text text-anchor=\"start\" x=\"4988.5\" y=\"-22.8\" font-family=\"Helvetica,sans-Serif\" font-size=\"14.00\">value = [1, 5, 0, 40, 3, 0, 0, 0, 0]</text>\n",
       "<text text-anchor=\"start\" x=\"5034.5\" y=\"-7.8\" font-family=\"Helvetica,sans-Serif\" font-size=\"14.00\">class = profile_3</text>\n",
       "</g>\n",
       "<!-- 40&#45;&gt;42 -->\n",
       "<g id=\"edge42\" class=\"edge\"><title>40&#45;&gt;42</title>\n",
       "<path fill=\"none\" stroke=\"black\" d=\"M5018.73,-103.726C5027.39,-94.6054 5036.58,-84.93 5045.24,-75.8078\"/>\n",
       "<polygon fill=\"black\" stroke=\"black\" points=\"5048.02,-77.9608 5052.37,-68.2996 5042.95,-73.1401 5048.02,-77.9608\"/>\n",
       "</g>\n",
       "<!-- 44 -->\n",
       "<g id=\"node45\" class=\"node\"><title>44</title>\n",
       "<path fill=\"#faf8fe\" stroke=\"black\" d=\"M5537,-187C5537,-187 5331,-187 5331,-187 5325,-187 5319,-181 5319,-175 5319,-175 5319,-116 5319,-116 5319,-110 5325,-104 5331,-104 5331,-104 5537,-104 5537,-104 5543,-104 5549,-110 5549,-116 5549,-116 5549,-175 5549,-175 5549,-181 5543,-187 5537,-187\"/>\n",
       "<text text-anchor=\"start\" x=\"5373.5\" y=\"-171.8\" font-family=\"Helvetica,sans-Serif\" font-size=\"14.00\">tag__spring ≤ 0.095</text>\n",
       "<text text-anchor=\"start\" x=\"5398.5\" y=\"-156.8\" font-family=\"Helvetica,sans-Serif\" font-size=\"14.00\">gini = 0.798</text>\n",
       "<text text-anchor=\"start\" x=\"5393\" y=\"-141.8\" font-family=\"Helvetica,sans-Serif\" font-size=\"14.00\">samples = 74</text>\n",
       "<text text-anchor=\"start\" x=\"5327\" y=\"-126.8\" font-family=\"Helvetica,sans-Serif\" font-size=\"14.00\">value = [19, 8, 0, 4, 10, 0, 21, 11, 1]</text>\n",
       "<text text-anchor=\"start\" x=\"5384.5\" y=\"-111.8\" font-family=\"Helvetica,sans-Serif\" font-size=\"14.00\">class = profile_6</text>\n",
       "</g>\n",
       "<!-- 43&#45;&gt;44 -->\n",
       "<g id=\"edge44\" class=\"edge\"><title>43&#45;&gt;44</title>\n",
       "<path fill=\"none\" stroke=\"black\" d=\"M5434,-222.907C5434,-214.649 5434,-205.864 5434,-197.302\"/>\n",
       "<polygon fill=\"black\" stroke=\"black\" points=\"5437.5,-197.021 5434,-187.021 5430.5,-197.021 5437.5,-197.021\"/>\n",
       "</g>\n",
       "<!-- 47 -->\n",
       "<g id=\"node48\" class=\"node\"><title>47</title>\n",
       "<path fill=\"#9559e9\" stroke=\"black\" d=\"M5874.5,-187C5874.5,-187 5691.5,-187 5691.5,-187 5685.5,-187 5679.5,-181 5679.5,-175 5679.5,-175 5679.5,-116 5679.5,-116 5679.5,-110 5685.5,-104 5691.5,-104 5691.5,-104 5874.5,-104 5874.5,-104 5880.5,-104 5886.5,-110 5886.5,-116 5886.5,-116 5886.5,-175 5886.5,-175 5886.5,-181 5880.5,-187 5874.5,-187\"/>\n",
       "<text text-anchor=\"start\" x=\"5730\" y=\"-171.8\" font-family=\"Helvetica,sans-Serif\" font-size=\"14.00\">tag__fruit ≤ 0.095</text>\n",
       "<text text-anchor=\"start\" x=\"5747.5\" y=\"-156.8\" font-family=\"Helvetica,sans-Serif\" font-size=\"14.00\">gini = 0.265</text>\n",
       "<text text-anchor=\"start\" x=\"5742\" y=\"-141.8\" font-family=\"Helvetica,sans-Serif\" font-size=\"14.00\">samples = 54</text>\n",
       "<text text-anchor=\"start\" x=\"5687.5\" y=\"-126.8\" font-family=\"Helvetica,sans-Serif\" font-size=\"14.00\">value = [3, 4, 0, 0, 0, 0, 46, 0, 1]</text>\n",
       "<text text-anchor=\"start\" x=\"5733.5\" y=\"-111.8\" font-family=\"Helvetica,sans-Serif\" font-size=\"14.00\">class = profile_6</text>\n",
       "</g>\n",
       "<!-- 43&#45;&gt;47 -->\n",
       "<g id=\"edge47\" class=\"edge\"><title>43&#45;&gt;47</title>\n",
       "<path fill=\"none\" stroke=\"black\" d=\"M5552.64,-223.726C5590.37,-211.077 5632,-197.122 5669.37,-184.595\"/>\n",
       "<polygon fill=\"black\" stroke=\"black\" points=\"5670.91,-187.769 5679.28,-181.272 5668.68,-181.132 5670.91,-187.769\"/>\n",
       "</g>\n",
       "<!-- 45 -->\n",
       "<g id=\"node46\" class=\"node\"><title>45</title>\n",
       "<path fill=\"#fcf2eb\" stroke=\"black\" d=\"M5424,-68C5424,-68 5218,-68 5218,-68 5212,-68 5206,-62 5206,-56 5206,-56 5206,-12 5206,-12 5206,-6 5212,-0 5218,-0 5218,-0 5424,-0 5424,-0 5430,-0 5436,-6 5436,-12 5436,-12 5436,-56 5436,-56 5436,-62 5430,-68 5424,-68\"/>\n",
       "<text text-anchor=\"start\" x=\"5285.5\" y=\"-52.8\" font-family=\"Helvetica,sans-Serif\" font-size=\"14.00\">gini = 0.817</text>\n",
       "<text text-anchor=\"start\" x=\"5280\" y=\"-37.8\" font-family=\"Helvetica,sans-Serif\" font-size=\"14.00\">samples = 60</text>\n",
       "<text text-anchor=\"start\" x=\"5214\" y=\"-22.8\" font-family=\"Helvetica,sans-Serif\" font-size=\"14.00\">value = [16, 8, 0, 4, 10, 0, 10, 11, 1]</text>\n",
       "<text text-anchor=\"start\" x=\"5271.5\" y=\"-7.8\" font-family=\"Helvetica,sans-Serif\" font-size=\"14.00\">class = profile_0</text>\n",
       "</g>\n",
       "<!-- 44&#45;&gt;45 -->\n",
       "<g id=\"edge45\" class=\"edge\"><title>44&#45;&gt;45</title>\n",
       "<path fill=\"none\" stroke=\"black\" d=\"M5391.92,-103.726C5382.32,-94.423 5372.13,-84.5428 5362.55,-75.2612\"/>\n",
       "<polygon fill=\"black\" stroke=\"black\" points=\"5364.98,-72.7451 5355.36,-68.2996 5360.11,-77.7721 5364.98,-72.7451\"/>\n",
       "</g>\n",
       "<!-- 46 -->\n",
       "<g id=\"node47\" class=\"node\"><title>46</title>\n",
       "<path fill=\"#a36fec\" stroke=\"black\" d=\"M5649.5,-68C5649.5,-68 5466.5,-68 5466.5,-68 5460.5,-68 5454.5,-62 5454.5,-56 5454.5,-56 5454.5,-12 5454.5,-12 5454.5,-6 5460.5,-0 5466.5,-0 5466.5,-0 5649.5,-0 5649.5,-0 5655.5,-0 5661.5,-6 5661.5,-12 5661.5,-12 5661.5,-56 5661.5,-56 5661.5,-62 5655.5,-68 5649.5,-68\"/>\n",
       "<text text-anchor=\"start\" x=\"5522.5\" y=\"-52.8\" font-family=\"Helvetica,sans-Serif\" font-size=\"14.00\">gini = 0.337</text>\n",
       "<text text-anchor=\"start\" x=\"5517\" y=\"-37.8\" font-family=\"Helvetica,sans-Serif\" font-size=\"14.00\">samples = 14</text>\n",
       "<text text-anchor=\"start\" x=\"5462.5\" y=\"-22.8\" font-family=\"Helvetica,sans-Serif\" font-size=\"14.00\">value = [3, 0, 0, 0, 0, 0, 11, 0, 0]</text>\n",
       "<text text-anchor=\"start\" x=\"5508.5\" y=\"-7.8\" font-family=\"Helvetica,sans-Serif\" font-size=\"14.00\">class = profile_6</text>\n",
       "</g>\n",
       "<!-- 44&#45;&gt;46 -->\n",
       "<g id=\"edge46\" class=\"edge\"><title>44&#45;&gt;46</title>\n",
       "<path fill=\"none\" stroke=\"black\" d=\"M5480.17,-103.726C5490.81,-94.3318 5502.12,-84.349 5512.72,-74.9883\"/>\n",
       "<polygon fill=\"black\" stroke=\"black\" points=\"5515.11,-77.5424 5520.29,-68.2996 5510.48,-72.2953 5515.11,-77.5424\"/>\n",
       "</g>\n",
       "<!-- 48 -->\n",
       "<g id=\"node49\" class=\"node\"><title>48</title>\n",
       "<path fill=\"#8e4ee8\" stroke=\"black\" d=\"M5874.5,-68C5874.5,-68 5691.5,-68 5691.5,-68 5685.5,-68 5679.5,-62 5679.5,-56 5679.5,-56 5679.5,-12 5679.5,-12 5679.5,-6 5685.5,-0 5691.5,-0 5691.5,-0 5874.5,-0 5874.5,-0 5880.5,-0 5886.5,-6 5886.5,-12 5886.5,-12 5886.5,-56 5886.5,-56 5886.5,-62 5880.5,-68 5874.5,-68\"/>\n",
       "<text text-anchor=\"start\" x=\"5747.5\" y=\"-52.8\" font-family=\"Helvetica,sans-Serif\" font-size=\"14.00\">gini = 0.186</text>\n",
       "<text text-anchor=\"start\" x=\"5742\" y=\"-37.8\" font-family=\"Helvetica,sans-Serif\" font-size=\"14.00\">samples = 50</text>\n",
       "<text text-anchor=\"start\" x=\"5687.5\" y=\"-22.8\" font-family=\"Helvetica,sans-Serif\" font-size=\"14.00\">value = [1, 3, 0, 0, 0, 0, 45, 0, 1]</text>\n",
       "<text text-anchor=\"start\" x=\"5733.5\" y=\"-7.8\" font-family=\"Helvetica,sans-Serif\" font-size=\"14.00\">class = profile_6</text>\n",
       "</g>\n",
       "<!-- 47&#45;&gt;48 -->\n",
       "<g id=\"edge48\" class=\"edge\"><title>47&#45;&gt;48</title>\n",
       "<path fill=\"none\" stroke=\"black\" d=\"M5783,-103.726C5783,-95.5175 5783,-86.8595 5783,-78.56\"/>\n",
       "<polygon fill=\"black\" stroke=\"black\" points=\"5786.5,-78.2996 5783,-68.2996 5779.5,-78.2996 5786.5,-78.2996\"/>\n",
       "</g>\n",
       "<!-- 49 -->\n",
       "<g id=\"node50\" class=\"node\"><title>49</title>\n",
       "<path fill=\"#f6d5bd\" stroke=\"black\" d=\"M6093,-68C6093,-68 5917,-68 5917,-68 5911,-68 5905,-62 5905,-56 5905,-56 5905,-12 5905,-12 5905,-6 5911,-0 5917,-0 5917,-0 6093,-0 6093,-0 6099,-0 6105,-6 6105,-12 6105,-12 6105,-56 6105,-56 6105,-62 6099,-68 6093,-68\"/>\n",
       "<text text-anchor=\"start\" x=\"5969.5\" y=\"-52.8\" font-family=\"Helvetica,sans-Serif\" font-size=\"14.00\">gini = 0.625</text>\n",
       "<text text-anchor=\"start\" x=\"5967.5\" y=\"-37.8\" font-family=\"Helvetica,sans-Serif\" font-size=\"14.00\">samples = 4</text>\n",
       "<text text-anchor=\"start\" x=\"5913\" y=\"-22.8\" font-family=\"Helvetica,sans-Serif\" font-size=\"14.00\">value = [2, 1, 0, 0, 0, 0, 1, 0, 0]</text>\n",
       "<text text-anchor=\"start\" x=\"5955.5\" y=\"-7.8\" font-family=\"Helvetica,sans-Serif\" font-size=\"14.00\">class = profile_0</text>\n",
       "</g>\n",
       "<!-- 47&#45;&gt;49 -->\n",
       "<g id=\"edge49\" class=\"edge\"><title>47&#45;&gt;49</title>\n",
       "<path fill=\"none\" stroke=\"black\" d=\"M5865.35,-103.882C5886.2,-93.5962 5908.5,-82.5963 5929.02,-72.4742\"/>\n",
       "<polygon fill=\"black\" stroke=\"black\" points=\"5930.59,-75.6059 5938.01,-68.0433 5927.49,-69.328 5930.59,-75.6059\"/>\n",
       "</g>\n",
       "<!-- 51 -->\n",
       "<g id=\"node52\" class=\"node\"><title>51</title>\n",
       "<path fill=\"#f090e9\" stroke=\"black\" d=\"M6759.5,-306C6759.5,-306 6516.5,-306 6516.5,-306 6510.5,-306 6504.5,-300 6504.5,-294 6504.5,-294 6504.5,-235 6504.5,-235 6504.5,-229 6510.5,-223 6516.5,-223 6516.5,-223 6759.5,-223 6759.5,-223 6765.5,-223 6771.5,-229 6771.5,-235 6771.5,-235 6771.5,-294 6771.5,-294 6771.5,-300 6765.5,-306 6759.5,-306\"/>\n",
       "<text text-anchor=\"start\" x=\"6568.5\" y=\"-290.8\" font-family=\"Helvetica,sans-Serif\" font-size=\"14.00\">tag__healthy&#45;2 ≤ 0.299</text>\n",
       "<text text-anchor=\"start\" x=\"6602.5\" y=\"-275.8\" font-family=\"Helvetica,sans-Serif\" font-size=\"14.00\">gini = 0.577</text>\n",
       "<text text-anchor=\"start\" x=\"6589.5\" y=\"-260.8\" font-family=\"Helvetica,sans-Serif\" font-size=\"14.00\">samples = 1083</text>\n",
       "<text text-anchor=\"start\" x=\"6512.5\" y=\"-245.8\" font-family=\"Helvetica,sans-Serif\" font-size=\"14.00\">value = [152, 89, 3, 30, 112, 0, 5, 672, 20]</text>\n",
       "<text text-anchor=\"start\" x=\"6588.5\" y=\"-230.8\" font-family=\"Helvetica,sans-Serif\" font-size=\"14.00\">class = profile_7</text>\n",
       "</g>\n",
       "<!-- 50&#45;&gt;51 -->\n",
       "<g id=\"edge51\" class=\"edge\"><title>50&#45;&gt;51</title>\n",
       "<path fill=\"none\" stroke=\"black\" d=\"M6638,-341.907C6638,-333.649 6638,-324.864 6638,-316.302\"/>\n",
       "<polygon fill=\"black\" stroke=\"black\" points=\"6641.5,-316.021 6638,-306.021 6634.5,-316.021 6641.5,-316.021\"/>\n",
       "</g>\n",
       "<!-- 58 -->\n",
       "<g id=\"node59\" class=\"node\"><title>58</title>\n",
       "<path fill=\"#b58af0\" stroke=\"black\" d=\"M7427.5,-306C7427.5,-306 7244.5,-306 7244.5,-306 7238.5,-306 7232.5,-300 7232.5,-294 7232.5,-294 7232.5,-235 7232.5,-235 7232.5,-229 7238.5,-223 7244.5,-223 7244.5,-223 7427.5,-223 7427.5,-223 7433.5,-223 7439.5,-229 7439.5,-235 7439.5,-235 7439.5,-294 7439.5,-294 7439.5,-300 7433.5,-306 7427.5,-306\"/>\n",
       "<text text-anchor=\"start\" x=\"7265\" y=\"-290.8\" font-family=\"Helvetica,sans-Serif\" font-size=\"14.00\">tag__christmas ≤ 0.081</text>\n",
       "<text text-anchor=\"start\" x=\"7300.5\" y=\"-275.8\" font-family=\"Helvetica,sans-Serif\" font-size=\"14.00\">gini = 0.538</text>\n",
       "<text text-anchor=\"start\" x=\"7295\" y=\"-260.8\" font-family=\"Helvetica,sans-Serif\" font-size=\"14.00\">samples = 26</text>\n",
       "<text text-anchor=\"start\" x=\"7240.5\" y=\"-245.8\" font-family=\"Helvetica,sans-Serif\" font-size=\"14.00\">value = [1, 4, 0, 0, 1, 0, 17, 2, 1]</text>\n",
       "<text text-anchor=\"start\" x=\"7286.5\" y=\"-230.8\" font-family=\"Helvetica,sans-Serif\" font-size=\"14.00\">class = profile_6</text>\n",
       "</g>\n",
       "<!-- 50&#45;&gt;58 -->\n",
       "<g id=\"edge58\" class=\"edge\"><title>50&#45;&gt;58</title>\n",
       "<path fill=\"none\" stroke=\"black\" d=\"M6775.9,-359.385C6906.52,-337.49 7100.32,-305.004 7222.32,-284.556\"/>\n",
       "<polygon fill=\"black\" stroke=\"black\" points=\"7223.15,-287.965 7232.43,-282.86 7221.99,-281.062 7223.15,-287.965\"/>\n",
       "</g>\n",
       "<!-- 52 -->\n",
       "<g id=\"node53\" class=\"node\"><title>52</title>\n",
       "<path fill=\"#f3a3ec\" stroke=\"black\" d=\"M6623,-187C6623,-187 6387,-187 6387,-187 6381,-187 6375,-181 6375,-175 6375,-175 6375,-116 6375,-116 6375,-110 6381,-104 6387,-104 6387,-104 6623,-104 6623,-104 6629,-104 6635,-110 6635,-116 6635,-116 6635,-175 6635,-175 6635,-181 6629,-187 6623,-187\"/>\n",
       "<text text-anchor=\"start\" x=\"6431\" y=\"-171.8\" font-family=\"Helvetica,sans-Serif\" font-size=\"14.00\">tag__low&#45;calorie ≤ 0.087</text>\n",
       "<text text-anchor=\"start\" x=\"6469.5\" y=\"-156.8\" font-family=\"Helvetica,sans-Serif\" font-size=\"14.00\">gini = 0.633</text>\n",
       "<text text-anchor=\"start\" x=\"6460\" y=\"-141.8\" font-family=\"Helvetica,sans-Serif\" font-size=\"14.00\">samples = 775</text>\n",
       "<text text-anchor=\"start\" x=\"6383\" y=\"-126.8\" font-family=\"Helvetica,sans-Serif\" font-size=\"14.00\">value = [136, 51, 3, 28, 99, 0, 4, 434, 20]</text>\n",
       "<text text-anchor=\"start\" x=\"6455.5\" y=\"-111.8\" font-family=\"Helvetica,sans-Serif\" font-size=\"14.00\">class = profile_7</text>\n",
       "</g>\n",
       "<!-- 51&#45;&gt;52 -->\n",
       "<g id=\"edge52\" class=\"edge\"><title>51&#45;&gt;52</title>\n",
       "<path fill=\"none\" stroke=\"black\" d=\"M6591.86,-222.907C6581.13,-213.469 6569.62,-203.343 6558.6,-193.649\"/>\n",
       "<polygon fill=\"black\" stroke=\"black\" points=\"6560.88,-190.998 6551.06,-187.021 6556.26,-196.254 6560.88,-190.998\"/>\n",
       "</g>\n",
       "<!-- 55 -->\n",
       "<g id=\"node56\" class=\"node\"><title>55</title>\n",
       "<path fill=\"#ec6ce1\" stroke=\"black\" d=\"M6878.5,-187C6878.5,-187 6665.5,-187 6665.5,-187 6659.5,-187 6653.5,-181 6653.5,-175 6653.5,-175 6653.5,-116 6653.5,-116 6653.5,-110 6659.5,-104 6665.5,-104 6665.5,-104 6878.5,-104 6878.5,-104 6884.5,-104 6890.5,-110 6890.5,-116 6890.5,-116 6890.5,-175 6890.5,-175 6890.5,-181 6884.5,-187 6878.5,-187\"/>\n",
       "<text text-anchor=\"start\" x=\"6709.5\" y=\"-171.8\" font-family=\"Helvetica,sans-Serif\" font-size=\"14.00\">tag__berries ≤ 0.273</text>\n",
       "<text text-anchor=\"start\" x=\"6736.5\" y=\"-156.8\" font-family=\"Helvetica,sans-Serif\" font-size=\"14.00\">gini = 0.383</text>\n",
       "<text text-anchor=\"start\" x=\"6727\" y=\"-141.8\" font-family=\"Helvetica,sans-Serif\" font-size=\"14.00\">samples = 308</text>\n",
       "<text text-anchor=\"start\" x=\"6661.5\" y=\"-126.8\" font-family=\"Helvetica,sans-Serif\" font-size=\"14.00\">value = [16, 38, 0, 2, 13, 0, 1, 238, 0]</text>\n",
       "<text text-anchor=\"start\" x=\"6722.5\" y=\"-111.8\" font-family=\"Helvetica,sans-Serif\" font-size=\"14.00\">class = profile_7</text>\n",
       "</g>\n",
       "<!-- 51&#45;&gt;55 -->\n",
       "<g id=\"edge55\" class=\"edge\"><title>51&#45;&gt;55</title>\n",
       "<path fill=\"none\" stroke=\"black\" d=\"M6684.49,-222.907C6695.3,-213.469 6706.9,-203.343 6718,-193.649\"/>\n",
       "<polygon fill=\"black\" stroke=\"black\" points=\"6720.36,-196.234 6725.59,-187.021 6715.76,-190.961 6720.36,-196.234\"/>\n",
       "</g>\n",
       "<!-- 53 -->\n",
       "<g id=\"node54\" class=\"node\"><title>53</title>\n",
       "<path fill=\"#fce5fa\" stroke=\"black\" d=\"M6356.5,-68C6356.5,-68 6135.5,-68 6135.5,-68 6129.5,-68 6123.5,-62 6123.5,-56 6123.5,-56 6123.5,-12 6123.5,-12 6123.5,-6 6129.5,-0 6135.5,-0 6135.5,-0 6356.5,-0 6356.5,-0 6362.5,-0 6368.5,-6 6368.5,-12 6368.5,-12 6368.5,-56 6368.5,-56 6368.5,-62 6362.5,-68 6356.5,-68\"/>\n",
       "<text text-anchor=\"start\" x=\"6210.5\" y=\"-52.8\" font-family=\"Helvetica,sans-Serif\" font-size=\"14.00\">gini = 0.722</text>\n",
       "<text text-anchor=\"start\" x=\"6201\" y=\"-37.8\" font-family=\"Helvetica,sans-Serif\" font-size=\"14.00\">samples = 222</text>\n",
       "<text text-anchor=\"start\" x=\"6131.5\" y=\"-22.8\" font-family=\"Helvetica,sans-Serif\" font-size=\"14.00\">value = [69, 14, 3, 12, 23, 0, 1, 89, 11]</text>\n",
       "<text text-anchor=\"start\" x=\"6196.5\" y=\"-7.8\" font-family=\"Helvetica,sans-Serif\" font-size=\"14.00\">class = profile_7</text>\n",
       "</g>\n",
       "<!-- 52&#45;&gt;53 -->\n",
       "<g id=\"edge53\" class=\"edge\"><title>52&#45;&gt;53</title>\n",
       "<path fill=\"none\" stroke=\"black\" d=\"M6408.93,-103.882C6384.27,-93.4579 6357.88,-82.3002 6333.67,-72.0661\"/>\n",
       "<polygon fill=\"black\" stroke=\"black\" points=\"6334.73,-68.7137 6324.16,-68.0433 6332,-75.1612 6334.73,-68.7137\"/>\n",
       "</g>\n",
       "<!-- 54 -->\n",
       "<g id=\"node55\" class=\"node\"><title>54</title>\n",
       "<path fill=\"#f08fe8\" stroke=\"black\" d=\"M6619.5,-68C6619.5,-68 6398.5,-68 6398.5,-68 6392.5,-68 6386.5,-62 6386.5,-56 6386.5,-56 6386.5,-12 6386.5,-12 6386.5,-6 6392.5,-0 6398.5,-0 6398.5,-0 6619.5,-0 6619.5,-0 6625.5,-0 6631.5,-6 6631.5,-12 6631.5,-12 6631.5,-56 6631.5,-56 6631.5,-62 6625.5,-68 6619.5,-68\"/>\n",
       "<text text-anchor=\"start\" x=\"6473.5\" y=\"-52.8\" font-family=\"Helvetica,sans-Serif\" font-size=\"14.00\">gini = 0.572</text>\n",
       "<text text-anchor=\"start\" x=\"6464\" y=\"-37.8\" font-family=\"Helvetica,sans-Serif\" font-size=\"14.00\">samples = 553</text>\n",
       "<text text-anchor=\"start\" x=\"6394.5\" y=\"-22.8\" font-family=\"Helvetica,sans-Serif\" font-size=\"14.00\">value = [67, 37, 0, 16, 76, 0, 3, 345, 9]</text>\n",
       "<text text-anchor=\"start\" x=\"6459.5\" y=\"-7.8\" font-family=\"Helvetica,sans-Serif\" font-size=\"14.00\">class = profile_7</text>\n",
       "</g>\n",
       "<!-- 52&#45;&gt;54 -->\n",
       "<g id=\"edge54\" class=\"edge\"><title>52&#45;&gt;54</title>\n",
       "<path fill=\"none\" stroke=\"black\" d=\"M6506.49,-103.726C6506.79,-95.5175 6507.11,-86.8595 6507.41,-78.56\"/>\n",
       "<polygon fill=\"black\" stroke=\"black\" points=\"6510.92,-78.4207 6507.78,-68.2996 6503.92,-78.1651 6510.92,-78.4207\"/>\n",
       "</g>\n",
       "<!-- 56 -->\n",
       "<g id=\"node57\" class=\"node\"><title>56</title>\n",
       "<path fill=\"#ec6be1\" stroke=\"black\" d=\"M6874.5,-68C6874.5,-68 6661.5,-68 6661.5,-68 6655.5,-68 6649.5,-62 6649.5,-56 6649.5,-56 6649.5,-12 6649.5,-12 6649.5,-6 6655.5,-0 6661.5,-0 6661.5,-0 6874.5,-0 6874.5,-0 6880.5,-0 6886.5,-6 6886.5,-12 6886.5,-12 6886.5,-56 6886.5,-56 6886.5,-62 6880.5,-68 6874.5,-68\"/>\n",
       "<text text-anchor=\"start\" x=\"6732.5\" y=\"-52.8\" font-family=\"Helvetica,sans-Serif\" font-size=\"14.00\">gini = 0.372</text>\n",
       "<text text-anchor=\"start\" x=\"6723\" y=\"-37.8\" font-family=\"Helvetica,sans-Serif\" font-size=\"14.00\">samples = 305</text>\n",
       "<text text-anchor=\"start\" x=\"6657.5\" y=\"-22.8\" font-family=\"Helvetica,sans-Serif\" font-size=\"14.00\">value = [14, 38, 0, 2, 12, 0, 1, 238, 0]</text>\n",
       "<text text-anchor=\"start\" x=\"6718.5\" y=\"-7.8\" font-family=\"Helvetica,sans-Serif\" font-size=\"14.00\">class = profile_7</text>\n",
       "</g>\n",
       "<!-- 55&#45;&gt;56 -->\n",
       "<g id=\"edge56\" class=\"edge\"><title>55&#45;&gt;56</title>\n",
       "<path fill=\"none\" stroke=\"black\" d=\"M6770.51,-103.726C6770.21,-95.5175 6769.89,-86.8595 6769.59,-78.56\"/>\n",
       "<polygon fill=\"black\" stroke=\"black\" points=\"6773.08,-78.1651 6769.22,-68.2996 6766.08,-78.4207 6773.08,-78.1651\"/>\n",
       "</g>\n",
       "<!-- 57 -->\n",
       "<g id=\"node58\" class=\"node\"><title>57</title>\n",
       "<path fill=\"#f2c09c\" stroke=\"black\" d=\"M7093,-68C7093,-68 6917,-68 6917,-68 6911,-68 6905,-62 6905,-56 6905,-56 6905,-12 6905,-12 6905,-6 6911,-0 6917,-0 6917,-0 7093,-0 7093,-0 7099,-0 7105,-6 7105,-12 7105,-12 7105,-56 7105,-56 7105,-62 7099,-68 7093,-68\"/>\n",
       "<text text-anchor=\"start\" x=\"6969.5\" y=\"-52.8\" font-family=\"Helvetica,sans-Serif\" font-size=\"14.00\">gini = 0.444</text>\n",
       "<text text-anchor=\"start\" x=\"6967.5\" y=\"-37.8\" font-family=\"Helvetica,sans-Serif\" font-size=\"14.00\">samples = 3</text>\n",
       "<text text-anchor=\"start\" x=\"6913\" y=\"-22.8\" font-family=\"Helvetica,sans-Serif\" font-size=\"14.00\">value = [2, 0, 0, 0, 1, 0, 0, 0, 0]</text>\n",
       "<text text-anchor=\"start\" x=\"6955.5\" y=\"-7.8\" font-family=\"Helvetica,sans-Serif\" font-size=\"14.00\">class = profile_0</text>\n",
       "</g>\n",
       "<!-- 55&#45;&gt;57 -->\n",
       "<g id=\"edge57\" class=\"edge\"><title>55&#45;&gt;57</title>\n",
       "<path fill=\"none\" stroke=\"black\" d=\"M6858.43,-103.882C6880.41,-93.5501 6903.93,-82.4977 6925.55,-72.3381\"/>\n",
       "<polygon fill=\"black\" stroke=\"black\" points=\"6927.13,-75.4643 6934.69,-68.0433 6924.15,-69.129 6927.13,-75.4643\"/>\n",
       "</g>\n",
       "<!-- 59 -->\n",
       "<g id=\"node60\" class=\"node\"><title>59</title>\n",
       "<path fill=\"#9d65eb\" stroke=\"black\" d=\"M7427.5,-187C7427.5,-187 7244.5,-187 7244.5,-187 7238.5,-187 7232.5,-181 7232.5,-175 7232.5,-175 7232.5,-116 7232.5,-116 7232.5,-110 7238.5,-104 7244.5,-104 7244.5,-104 7427.5,-104 7427.5,-104 7433.5,-104 7439.5,-110 7439.5,-116 7439.5,-116 7439.5,-175 7439.5,-175 7439.5,-181 7433.5,-187 7427.5,-187\"/>\n",
       "<text text-anchor=\"start\" x=\"7262.5\" y=\"-171.8\" font-family=\"Helvetica,sans-Serif\" font-size=\"14.00\">tag__vegetarian ≤ 0.098</text>\n",
       "<text text-anchor=\"start\" x=\"7300.5\" y=\"-156.8\" font-family=\"Helvetica,sans-Serif\" font-size=\"14.00\">gini = 0.345</text>\n",
       "<text text-anchor=\"start\" x=\"7295\" y=\"-141.8\" font-family=\"Helvetica,sans-Serif\" font-size=\"14.00\">samples = 20</text>\n",
       "<text text-anchor=\"start\" x=\"7240.5\" y=\"-126.8\" font-family=\"Helvetica,sans-Serif\" font-size=\"14.00\">value = [0, 2, 0, 0, 1, 0, 16, 0, 1]</text>\n",
       "<text text-anchor=\"start\" x=\"7286.5\" y=\"-111.8\" font-family=\"Helvetica,sans-Serif\" font-size=\"14.00\">class = profile_6</text>\n",
       "</g>\n",
       "<!-- 58&#45;&gt;59 -->\n",
       "<g id=\"edge59\" class=\"edge\"><title>58&#45;&gt;59</title>\n",
       "<path fill=\"none\" stroke=\"black\" d=\"M7336,-222.907C7336,-214.649 7336,-205.864 7336,-197.302\"/>\n",
       "<polygon fill=\"black\" stroke=\"black\" points=\"7339.5,-197.021 7336,-187.021 7332.5,-197.021 7339.5,-197.021\"/>\n",
       "</g>\n",
       "<!-- 62 -->\n",
       "<g id=\"node63\" class=\"node\"><title>62</title>\n",
       "<path fill=\"#ffffff\" stroke=\"black\" d=\"M7755,-187C7755,-187 7579,-187 7579,-187 7573,-187 7567,-181 7567,-175 7567,-175 7567,-116 7567,-116 7567,-110 7573,-104 7579,-104 7579,-104 7755,-104 7755,-104 7761,-104 7767,-110 7767,-116 7767,-116 7767,-175 7767,-175 7767,-181 7761,-187 7755,-187\"/>\n",
       "<text text-anchor=\"start\" x=\"7597.5\" y=\"-171.8\" font-family=\"Helvetica,sans-Serif\" font-size=\"14.00\">perc_d_sat_fat ≤ 0.006</text>\n",
       "<text text-anchor=\"start\" x=\"7631.5\" y=\"-156.8\" font-family=\"Helvetica,sans-Serif\" font-size=\"14.00\">gini = 0.722</text>\n",
       "<text text-anchor=\"start\" x=\"7629.5\" y=\"-141.8\" font-family=\"Helvetica,sans-Serif\" font-size=\"14.00\">samples = 6</text>\n",
       "<text text-anchor=\"start\" x=\"7575\" y=\"-126.8\" font-family=\"Helvetica,sans-Serif\" font-size=\"14.00\">value = [1, 2, 0, 0, 0, 0, 1, 2, 0]</text>\n",
       "<text text-anchor=\"start\" x=\"7617.5\" y=\"-111.8\" font-family=\"Helvetica,sans-Serif\" font-size=\"14.00\">class = profile_1</text>\n",
       "</g>\n",
       "<!-- 58&#45;&gt;62 -->\n",
       "<g id=\"edge62\" class=\"edge\"><title>58&#45;&gt;62</title>\n",
       "<path fill=\"none\" stroke=\"black\" d=\"M7439.82,-226.801C7477.23,-213.58 7519.53,-198.626 7557.41,-185.236\"/>\n",
       "<polygon fill=\"black\" stroke=\"black\" points=\"7558.68,-188.501 7566.94,-181.868 7556.35,-181.901 7558.68,-188.501\"/>\n",
       "</g>\n",
       "<!-- 60 -->\n",
       "<g id=\"node61\" class=\"node\"><title>60</title>\n",
       "<path fill=\"#9152e8\" stroke=\"black\" d=\"M7318.5,-68C7318.5,-68 7135.5,-68 7135.5,-68 7129.5,-68 7123.5,-62 7123.5,-56 7123.5,-56 7123.5,-12 7123.5,-12 7123.5,-6 7129.5,-0 7135.5,-0 7135.5,-0 7318.5,-0 7318.5,-0 7324.5,-0 7330.5,-6 7330.5,-12 7330.5,-12 7330.5,-56 7330.5,-56 7330.5,-62 7324.5,-68 7318.5,-68\"/>\n",
       "<text text-anchor=\"start\" x=\"7191.5\" y=\"-52.8\" font-family=\"Helvetica,sans-Serif\" font-size=\"14.00\">gini = 0.198</text>\n",
       "<text text-anchor=\"start\" x=\"7186\" y=\"-37.8\" font-family=\"Helvetica,sans-Serif\" font-size=\"14.00\">samples = 18</text>\n",
       "<text text-anchor=\"start\" x=\"7131.5\" y=\"-22.8\" font-family=\"Helvetica,sans-Serif\" font-size=\"14.00\">value = [0, 2, 0, 0, 0, 0, 16, 0, 0]</text>\n",
       "<text text-anchor=\"start\" x=\"7177.5\" y=\"-7.8\" font-family=\"Helvetica,sans-Serif\" font-size=\"14.00\">class = profile_6</text>\n",
       "</g>\n",
       "<!-- 59&#45;&gt;60 -->\n",
       "<g id=\"edge60\" class=\"edge\"><title>59&#45;&gt;60</title>\n",
       "<path fill=\"none\" stroke=\"black\" d=\"M7295.41,-103.726C7286.24,-94.5142 7276.51,-84.7364 7267.35,-75.5343\"/>\n",
       "<polygon fill=\"black\" stroke=\"black\" points=\"7269.68,-72.9176 7260.15,-68.2996 7264.72,-77.8561 7269.68,-72.9176\"/>\n",
       "</g>\n",
       "<!-- 61 -->\n",
       "<g id=\"node62\" class=\"node\"><title>61</title>\n",
       "<path fill=\"#ffffff\" stroke=\"black\" d=\"M7537,-68C7537,-68 7361,-68 7361,-68 7355,-68 7349,-62 7349,-56 7349,-56 7349,-12 7349,-12 7349,-6 7355,-0 7361,-0 7361,-0 7537,-0 7537,-0 7543,-0 7549,-6 7549,-12 7549,-12 7549,-56 7549,-56 7549,-62 7543,-68 7537,-68\"/>\n",
       "<text text-anchor=\"start\" x=\"7421\" y=\"-52.8\" font-family=\"Helvetica,sans-Serif\" font-size=\"14.00\">gini = 0.5</text>\n",
       "<text text-anchor=\"start\" x=\"7411.5\" y=\"-37.8\" font-family=\"Helvetica,sans-Serif\" font-size=\"14.00\">samples = 2</text>\n",
       "<text text-anchor=\"start\" x=\"7357\" y=\"-22.8\" font-family=\"Helvetica,sans-Serif\" font-size=\"14.00\">value = [0, 0, 0, 0, 1, 0, 0, 0, 1]</text>\n",
       "<text text-anchor=\"start\" x=\"7399.5\" y=\"-7.8\" font-family=\"Helvetica,sans-Serif\" font-size=\"14.00\">class = profile_4</text>\n",
       "</g>\n",
       "<!-- 59&#45;&gt;61 -->\n",
       "<g id=\"edge61\" class=\"edge\"><title>59&#45;&gt;61</title>\n",
       "<path fill=\"none\" stroke=\"black\" d=\"M7378.08,-103.726C7387.68,-94.423 7397.87,-84.5428 7407.45,-75.2612\"/>\n",
       "<polygon fill=\"black\" stroke=\"black\" points=\"7409.89,-77.7721 7414.64,-68.2996 7405.02,-72.7451 7409.89,-77.7721\"/>\n",
       "</g>\n",
       "<!-- 63 -->\n",
       "<g id=\"node64\" class=\"node\"><title>63</title>\n",
       "<path fill=\"#d7e539\" stroke=\"black\" d=\"M7755,-68C7755,-68 7579,-68 7579,-68 7573,-68 7567,-62 7567,-56 7567,-56 7567,-12 7567,-12 7567,-6 7573,-0 7579,-0 7579,-0 7755,-0 7755,-0 7761,-0 7767,-6 7767,-12 7767,-12 7767,-56 7767,-56 7767,-62 7761,-68 7755,-68\"/>\n",
       "<text text-anchor=\"start\" x=\"7639\" y=\"-52.8\" font-family=\"Helvetica,sans-Serif\" font-size=\"14.00\">gini = 0.0</text>\n",
       "<text text-anchor=\"start\" x=\"7629.5\" y=\"-37.8\" font-family=\"Helvetica,sans-Serif\" font-size=\"14.00\">samples = 2</text>\n",
       "<text text-anchor=\"start\" x=\"7575\" y=\"-22.8\" font-family=\"Helvetica,sans-Serif\" font-size=\"14.00\">value = [0, 2, 0, 0, 0, 0, 0, 0, 0]</text>\n",
       "<text text-anchor=\"start\" x=\"7617.5\" y=\"-7.8\" font-family=\"Helvetica,sans-Serif\" font-size=\"14.00\">class = profile_1</text>\n",
       "</g>\n",
       "<!-- 62&#45;&gt;63 -->\n",
       "<g id=\"edge63\" class=\"edge\"><title>62&#45;&gt;63</title>\n",
       "<path fill=\"none\" stroke=\"black\" d=\"M7667,-103.726C7667,-95.5175 7667,-86.8595 7667,-78.56\"/>\n",
       "<polygon fill=\"black\" stroke=\"black\" points=\"7670.5,-78.2996 7667,-68.2996 7663.5,-78.2996 7670.5,-78.2996\"/>\n",
       "</g>\n",
       "<!-- 64 -->\n",
       "<g id=\"node65\" class=\"node\"><title>64</title>\n",
       "<path fill=\"#f6bdf2\" stroke=\"black\" d=\"M7973,-68C7973,-68 7797,-68 7797,-68 7791,-68 7785,-62 7785,-56 7785,-56 7785,-12 7785,-12 7785,-6 7791,-0 7797,-0 7797,-0 7973,-0 7973,-0 7979,-0 7985,-6 7985,-12 7985,-12 7985,-56 7985,-56 7985,-62 7979,-68 7973,-68\"/>\n",
       "<text text-anchor=\"start\" x=\"7849.5\" y=\"-52.8\" font-family=\"Helvetica,sans-Serif\" font-size=\"14.00\">gini = 0.625</text>\n",
       "<text text-anchor=\"start\" x=\"7847.5\" y=\"-37.8\" font-family=\"Helvetica,sans-Serif\" font-size=\"14.00\">samples = 4</text>\n",
       "<text text-anchor=\"start\" x=\"7793\" y=\"-22.8\" font-family=\"Helvetica,sans-Serif\" font-size=\"14.00\">value = [1, 0, 0, 0, 0, 0, 1, 2, 0]</text>\n",
       "<text text-anchor=\"start\" x=\"7835.5\" y=\"-7.8\" font-family=\"Helvetica,sans-Serif\" font-size=\"14.00\">class = profile_7</text>\n",
       "</g>\n",
       "<!-- 62&#45;&gt;64 -->\n",
       "<g id=\"edge64\" class=\"edge\"><title>62&#45;&gt;64</title>\n",
       "<path fill=\"none\" stroke=\"black\" d=\"M7747.87,-103.882C7768.25,-93.6424 7790.05,-82.695 7810.12,-72.6104\"/>\n",
       "<polygon fill=\"black\" stroke=\"black\" points=\"7811.85,-75.6595 7819.22,-68.0433 7808.71,-69.4043 7811.85,-75.6595\"/>\n",
       "</g>\n",
       "</g>\n",
       "</svg>\n"
      ],
      "text/plain": [
       "<graphviz.files.Source at 0x7f12da3b0c88>"
      ]
     },
     "execution_count": 19,
     "metadata": {},
     "output_type": "execute_result"
    }
   ],
   "source": [
    "import graphviz\n",
    "dot_data = tree.export_graphviz(dt_clf, \n",
    " out_file=None, \n",
    " class_names=sorted(['profile_0', 'profile_4', 'profile_7', 'profile_3', \n",
    "                     'profile_5', 'profile_8', 'profile_1', 'profile_2', 'profile_6']), # the target names.\n",
    " feature_names=x_train.columns, # the feature names.\n",
    " filled=True, # Whether to fill in the boxes with colours.\n",
    " rounded=True, # Whether to round the corners of the boxes.\n",
    " special_characters=True)\n",
    "graph = graphviz.Source(dot_data)\n",
    "graph"
   ]
  },
  {
   "cell_type": "code",
   "execution_count": 20,
   "metadata": {},
   "outputs": [
    {
     "data": {
      "text/plain": [
       "True"
      ]
     },
     "execution_count": 20,
     "metadata": {},
     "output_type": "execute_result"
    }
   ],
   "source": [
    "from IPython.display import Image \n",
    "graph = pydotplus.graph_from_dot_data(dot_data)\n",
    "Image(graph.create_png())\n",
    "graph.write_png(\"cluster_tree_2.png\")"
   ]
  },
  {
   "cell_type": "code",
   "execution_count": 30,
   "metadata": {},
   "outputs": [
    {
     "data": {
      "text/plain": [
       "profile_0    14150\n",
       "profile_7     1657\n",
       "profile_8      963\n",
       "profile_5      896\n",
       "profile_3      625\n",
       "profile_6      371\n",
       "profile_2      141\n",
       "profile_1        2\n",
       "profile_4        2\n",
       "dtype: int64"
      ]
     },
     "execution_count": 30,
     "metadata": {},
     "output_type": "execute_result"
    }
   ],
   "source": [
    "pd.Series(dt_clf.predict(x_train)).value_counts()"
   ]
  },
  {
   "cell_type": "code",
   "execution_count": 26,
   "metadata": {},
   "outputs": [],
   "source": [
    "import operator\n",
    "zipped = list(zip(dt_clf.feature_importances_, x_train.columns))\n",
    "sorted_zip = sorted(zipped, key = operator.itemgetter(0), reverse=True) "
   ]
  },
  {
   "cell_type": "code",
   "execution_count": 27,
   "metadata": {},
   "outputs": [
    {
     "data": {
      "text/plain": [
       "[(0.29605225432208715, 'n_steps'),\n",
       " (0.20091152613486066, 'tag__low-cholesterol'),\n",
       " (0.13849803582432324, 'tag__taste-mood'),\n",
       " (0.11811269362496944, 'tag__to-go'),\n",
       " (0.04888173302383171, 'tag__meat'),\n",
       " (0.04197000275373012, 'tag__winter'),\n",
       " (0.028736236524316238, 'tag__healthy'),\n",
       " (0.020167091696175973, 'tag__seasonal'),\n",
       " (0.01795764491941638, 'tag__romantic'),\n",
       " (0.015249458227543844, 'tag__comfort-food'),\n",
       " (0.01467392067418868, 'tag__fall'),\n",
       " (0.010298870585521647, 'tag__low-fat'),\n",
       " (0.009409872299783588, 'tag__low-saturated-fat'),\n",
       " (0.007920861302323796, 'tag__summer'),\n",
       " (0.005985756197586215, 'tag__main-dish'),\n",
       " (0.005286544101119044, 'tag__healthy-2'),\n",
       " (0.004638584190206186, 'tag__low-calorie'),\n",
       " (0.004198257079737105, 'tag__spicy'),\n",
       " (0.002877001491430443, 'tag__lemon'),\n",
       " (0.0022065919320135895, 'tag__salads'),\n",
       " (0.001759458920698091, 'tag__spring'),\n",
       " (0.0010743766882984466, 'tag__berries'),\n",
       " (0.0009126972905636174, 'tag__christmas'),\n",
       " (0.0008423206320141327, 'tag__fruit'),\n",
       " (0.0007734101538510972, 'tag__vegetarian'),\n",
       " (0.0006047994094096257, 'perc_d_sat_fat'),\n",
       " (0.0, 'cals'),\n",
       " (0.0, 'perc_d_fat'),\n",
       " (0.0, 'perc_d_sugar'),\n",
       " (0.0, 'perc_d_sodium'),\n",
       " (0.0, 'perc_d_protein'),\n",
       " (0.0, 'perc_d_carbs'),\n",
       " (0.0, 'minutes'),\n",
       " (0.0, 'tag__1-day-or-more'),\n",
       " (0.0, 'tag__15-minutes-or-less'),\n",
       " (0.0, 'tag__3-steps-or-less'),\n",
       " (0.0, 'tag__30-minutes-or-less'),\n",
       " (0.0, 'tag__4-hours-or-less'),\n",
       " (0.0, 'tag__5-ingredients-or-less'),\n",
       " (0.0, 'tag__60-minutes-or-less'),\n",
       " (0.0, 'tag__african'),\n",
       " (0.0, 'tag__american'),\n",
       " (0.0, 'tag__appetizers'),\n",
       " (0.0, 'tag__apples'),\n",
       " (0.0, 'tag__argentine'),\n",
       " (0.0, 'tag__asian'),\n",
       " (0.0, 'tag__asparagus'),\n",
       " (0.0, 'tag__australian'),\n",
       " (0.0, 'tag__bacon'),\n",
       " (0.0, 'tag__bananas')]"
      ]
     },
     "execution_count": 27,
     "metadata": {},
     "output_type": "execute_result"
    }
   ],
   "source": [
    "sorted_zip[:50]"
   ]
  },
  {
   "cell_type": "code",
   "execution_count": 28,
   "metadata": {},
   "outputs": [],
   "source": [
    "variables = [x[1] for x in sorted_zip if x[0] > 0]"
   ]
  },
  {
   "cell_type": "code",
   "execution_count": 34,
   "metadata": {},
   "outputs": [
    {
     "data": {
      "text/plain": [
       "array([ 0.00877193, -2.        ,  0.1160718 ,  0.14261501,  0.21399217,\n",
       "        0.22361111,  0.02369203, -2.        , -2.        ,  0.30789474,\n",
       "       -2.        , -2.        ,  0.18558674,  0.26624474, -2.        ,\n",
       "       -2.        ,  0.30133928, -2.        , -2.        ,  0.0078125 ,\n",
       "        0.0127551 ,  0.09282213, -2.        , -2.        ,  0.10358192,\n",
       "       -2.        , -2.        ,  0.16261237,  0.20084034, -2.        ,\n",
       "       -2.        ,  0.20692389, -2.        , -2.        ,  0.09549139,\n",
       "        0.13859276,  0.18410365,  0.10895107, -2.        , -2.        ,\n",
       "        0.0294365 , -2.        , -2.        ,  0.08608059,  0.09476745,\n",
       "       -2.        , -2.        ,  0.09529211, -2.        , -2.        ,\n",
       "        0.26358234,  0.29893617,  0.0867081 , -2.        , -2.        ,\n",
       "        0.27329193, -2.        , -2.        ,  0.08064516,  0.0983871 ,\n",
       "       -2.        , -2.        ,  0.0057714 , -2.        , -2.        ])"
      ]
     },
     "execution_count": 34,
     "metadata": {},
     "output_type": "execute_result"
    }
   ],
   "source": [
    "dt_clf.tree_.threshold"
   ]
  },
  {
   "cell_type": "code",
   "execution_count": 29,
   "metadata": {},
   "outputs": [
    {
     "data": {
      "text/plain": [
       "['n_steps',\n",
       " 'tag__low-cholesterol',\n",
       " 'tag__taste-mood',\n",
       " 'tag__to-go',\n",
       " 'tag__meat',\n",
       " 'tag__winter',\n",
       " 'tag__healthy',\n",
       " 'tag__seasonal',\n",
       " 'tag__romantic',\n",
       " 'tag__comfort-food',\n",
       " 'tag__fall',\n",
       " 'tag__low-fat',\n",
       " 'tag__low-saturated-fat',\n",
       " 'tag__summer',\n",
       " 'tag__main-dish',\n",
       " 'tag__healthy-2',\n",
       " 'tag__low-calorie',\n",
       " 'tag__spicy',\n",
       " 'tag__lemon',\n",
       " 'tag__salads',\n",
       " 'tag__spring',\n",
       " 'tag__berries',\n",
       " 'tag__christmas',\n",
       " 'tag__fruit',\n",
       " 'tag__vegetarian',\n",
       " 'perc_d_sat_fat']"
      ]
     },
     "execution_count": 29,
     "metadata": {},
     "output_type": "execute_result"
    }
   ],
   "source": [
    "variables"
   ]
  },
  {
   "cell_type": "code",
   "execution_count": 31,
   "metadata": {},
   "outputs": [],
   "source": [
    "path_to_data2 = '/home/miber/data/cluster_data/df_mod_new_data.csv'\n",
    "cluster_data_raw = pd.read_csv(path_to_data2) "
   ]
  },
  {
   "cell_type": "code",
   "execution_count": 32,
   "metadata": {},
   "outputs": [
    {
     "data": {
      "text/html": [
       "<div>\n",
       "<style scoped>\n",
       "    .dataframe tbody tr th:only-of-type {\n",
       "        vertical-align: middle;\n",
       "    }\n",
       "\n",
       "    .dataframe tbody tr th {\n",
       "        vertical-align: top;\n",
       "    }\n",
       "\n",
       "    .dataframe thead th {\n",
       "        text-align: right;\n",
       "    }\n",
       "</style>\n",
       "<table border=\"1\" class=\"dataframe\">\n",
       "  <thead>\n",
       "    <tr style=\"text-align: right;\">\n",
       "      <th></th>\n",
       "      <th>minutes</th>\n",
       "      <th>n_steps</th>\n",
       "      <th>n_ingredients</th>\n",
       "      <th>num_days</th>\n",
       "      <th>clean_ingredients__all-purpose flmy</th>\n",
       "      <th>clean_ingredients__allspice</th>\n",
       "      <th>clean_ingredients__almond</th>\n",
       "      <th>clean_ingredients__almond extract</th>\n",
       "      <th>clean_ingredients__american cheese</th>\n",
       "      <th>clean_ingredients__apple</th>\n",
       "      <th>...</th>\n",
       "      <th>profile_10</th>\n",
       "      <th>profile_11</th>\n",
       "      <th>profile_12</th>\n",
       "      <th>profile_13</th>\n",
       "      <th>profile_14</th>\n",
       "      <th>profile_15</th>\n",
       "      <th>profile_16</th>\n",
       "      <th>profile_17</th>\n",
       "      <th>profile_18</th>\n",
       "      <th>profile_19</th>\n",
       "    </tr>\n",
       "  </thead>\n",
       "  <tbody>\n",
       "    <tr>\n",
       "      <th>0</th>\n",
       "      <td>55</td>\n",
       "      <td>11</td>\n",
       "      <td>7</td>\n",
       "      <td>4827</td>\n",
       "      <td>0.0</td>\n",
       "      <td>0.0</td>\n",
       "      <td>0.0</td>\n",
       "      <td>0.0</td>\n",
       "      <td>0.0</td>\n",
       "      <td>0.0</td>\n",
       "      <td>...</td>\n",
       "      <td>0.366642</td>\n",
       "      <td>3.614765</td>\n",
       "      <td>4.6921</td>\n",
       "      <td>4.632229</td>\n",
       "      <td>5.0</td>\n",
       "      <td>4.637026</td>\n",
       "      <td>4.62348</td>\n",
       "      <td>4.61843</td>\n",
       "      <td>4.605439</td>\n",
       "      <td>4.667145</td>\n",
       "    </tr>\n",
       "    <tr>\n",
       "      <th>1</th>\n",
       "      <td>30</td>\n",
       "      <td>9</td>\n",
       "      <td>6</td>\n",
       "      <td>6014</td>\n",
       "      <td>0.0</td>\n",
       "      <td>0.0</td>\n",
       "      <td>0.0</td>\n",
       "      <td>0.0</td>\n",
       "      <td>0.0</td>\n",
       "      <td>0.0</td>\n",
       "      <td>...</td>\n",
       "      <td>0.366642</td>\n",
       "      <td>3.614765</td>\n",
       "      <td>4.6921</td>\n",
       "      <td>4.632229</td>\n",
       "      <td>4.0</td>\n",
       "      <td>4.637026</td>\n",
       "      <td>4.62348</td>\n",
       "      <td>4.61843</td>\n",
       "      <td>4.605439</td>\n",
       "      <td>4.667145</td>\n",
       "    </tr>\n",
       "    <tr>\n",
       "      <th>2</th>\n",
       "      <td>130</td>\n",
       "      <td>6</td>\n",
       "      <td>13</td>\n",
       "      <td>5030</td>\n",
       "      <td>0.0</td>\n",
       "      <td>0.0</td>\n",
       "      <td>0.0</td>\n",
       "      <td>0.0</td>\n",
       "      <td>0.0</td>\n",
       "      <td>0.0</td>\n",
       "      <td>...</td>\n",
       "      <td>0.366642</td>\n",
       "      <td>3.614765</td>\n",
       "      <td>4.6921</td>\n",
       "      <td>4.632229</td>\n",
       "      <td>5.0</td>\n",
       "      <td>4.637026</td>\n",
       "      <td>4.62348</td>\n",
       "      <td>4.61843</td>\n",
       "      <td>4.605439</td>\n",
       "      <td>4.667145</td>\n",
       "    </tr>\n",
       "    <tr>\n",
       "      <th>3</th>\n",
       "      <td>45</td>\n",
       "      <td>11</td>\n",
       "      <td>11</td>\n",
       "      <td>5713</td>\n",
       "      <td>0.0</td>\n",
       "      <td>0.0</td>\n",
       "      <td>0.0</td>\n",
       "      <td>0.0</td>\n",
       "      <td>0.0</td>\n",
       "      <td>0.0</td>\n",
       "      <td>...</td>\n",
       "      <td>0.366642</td>\n",
       "      <td>3.614765</td>\n",
       "      <td>4.6921</td>\n",
       "      <td>4.632229</td>\n",
       "      <td>4.0</td>\n",
       "      <td>4.637026</td>\n",
       "      <td>4.62348</td>\n",
       "      <td>4.61843</td>\n",
       "      <td>4.605439</td>\n",
       "      <td>4.667145</td>\n",
       "    </tr>\n",
       "    <tr>\n",
       "      <th>4</th>\n",
       "      <td>190</td>\n",
       "      <td>5</td>\n",
       "      <td>8</td>\n",
       "      <td>5884</td>\n",
       "      <td>0.0</td>\n",
       "      <td>0.0</td>\n",
       "      <td>0.0</td>\n",
       "      <td>0.0</td>\n",
       "      <td>0.0</td>\n",
       "      <td>0.0</td>\n",
       "      <td>...</td>\n",
       "      <td>0.366642</td>\n",
       "      <td>3.614765</td>\n",
       "      <td>4.6921</td>\n",
       "      <td>4.632229</td>\n",
       "      <td>5.0</td>\n",
       "      <td>4.637026</td>\n",
       "      <td>4.62348</td>\n",
       "      <td>4.61843</td>\n",
       "      <td>4.605439</td>\n",
       "      <td>4.667145</td>\n",
       "    </tr>\n",
       "  </tbody>\n",
       "</table>\n",
       "<p>5 rows × 808 columns</p>\n",
       "</div>"
      ],
      "text/plain": [
       "   minutes  n_steps  n_ingredients  num_days  \\\n",
       "0       55       11              7      4827   \n",
       "1       30        9              6      6014   \n",
       "2      130        6             13      5030   \n",
       "3       45       11             11      5713   \n",
       "4      190        5              8      5884   \n",
       "\n",
       "   clean_ingredients__all-purpose flmy  clean_ingredients__allspice  \\\n",
       "0                                  0.0                          0.0   \n",
       "1                                  0.0                          0.0   \n",
       "2                                  0.0                          0.0   \n",
       "3                                  0.0                          0.0   \n",
       "4                                  0.0                          0.0   \n",
       "\n",
       "   clean_ingredients__almond  clean_ingredients__almond extract  \\\n",
       "0                        0.0                                0.0   \n",
       "1                        0.0                                0.0   \n",
       "2                        0.0                                0.0   \n",
       "3                        0.0                                0.0   \n",
       "4                        0.0                                0.0   \n",
       "\n",
       "   clean_ingredients__american cheese  clean_ingredients__apple  ...  \\\n",
       "0                                 0.0                       0.0  ...   \n",
       "1                                 0.0                       0.0  ...   \n",
       "2                                 0.0                       0.0  ...   \n",
       "3                                 0.0                       0.0  ...   \n",
       "4                                 0.0                       0.0  ...   \n",
       "\n",
       "   profile_10  profile_11  profile_12  profile_13  profile_14  profile_15  \\\n",
       "0    0.366642    3.614765      4.6921    4.632229         5.0    4.637026   \n",
       "1    0.366642    3.614765      4.6921    4.632229         4.0    4.637026   \n",
       "2    0.366642    3.614765      4.6921    4.632229         5.0    4.637026   \n",
       "3    0.366642    3.614765      4.6921    4.632229         4.0    4.637026   \n",
       "4    0.366642    3.614765      4.6921    4.632229         5.0    4.637026   \n",
       "\n",
       "   profile_16  profile_17  profile_18  profile_19  \n",
       "0     4.62348     4.61843    4.605439    4.667145  \n",
       "1     4.62348     4.61843    4.605439    4.667145  \n",
       "2     4.62348     4.61843    4.605439    4.667145  \n",
       "3     4.62348     4.61843    4.605439    4.667145  \n",
       "4     4.62348     4.61843    4.605439    4.667145  \n",
       "\n",
       "[5 rows x 808 columns]"
      ]
     },
     "execution_count": 32,
     "metadata": {},
     "output_type": "execute_result"
    }
   ],
   "source": [
    "cluster_data_raw.head()"
   ]
  },
  {
   "cell_type": "code",
   "execution_count": 60,
   "metadata": {},
   "outputs": [],
   "source": [
    "var_dict = dict()\n",
    "\n",
    "for i in variables:\n",
    "    var_dict[i] = (np.min(cluster_data_raw[i]), np.max(cluster_data_raw[i]))"
   ]
  },
  {
   "cell_type": "code",
   "execution_count": 46,
   "metadata": {},
   "outputs": [
    {
     "data": {
      "image/svg+xml": [
       "<?xml version=\"1.0\" encoding=\"UTF-8\" standalone=\"no\"?>\n",
       "<!DOCTYPE svg PUBLIC \"-//W3C//DTD SVG 1.1//EN\"\n",
       " \"http://www.w3.org/Graphics/SVG/1.1/DTD/svg11.dtd\">\n",
       "<!-- Generated by graphviz version 2.38.0 (20140413.2041)\n",
       " -->\n",
       "<!-- Title: Tree Pages: 1 -->\n",
       "<svg width=\"7993pt\" height=\"790pt\"\n",
       " viewBox=\"0.00 0.00 7993.00 790.00\" xmlns=\"http://www.w3.org/2000/svg\" xmlns:xlink=\"http://www.w3.org/1999/xlink\">\n",
       "<g id=\"graph0\" class=\"graph\" transform=\"scale(1 1) rotate(0) translate(4 786)\">\n",
       "<title>Tree</title>\n",
       "<polygon fill=\"white\" stroke=\"none\" points=\"-4,4 -4,-786 7989,-786 7989,4 -4,4\"/>\n",
       "<!-- 0 -->\n",
       "<g id=\"node1\" class=\"node\"><title>0</title>\n",
       "<path fill=\"#f5cfb3\" stroke=\"black\" d=\"M4130.5,-782C4130.5,-782 3789.5,-782 3789.5,-782 3783.5,-782 3777.5,-776 3777.5,-770 3777.5,-770 3777.5,-711 3777.5,-711 3777.5,-705 3783.5,-699 3789.5,-699 3789.5,-699 4130.5,-699 4130.5,-699 4136.5,-699 4142.5,-705 4142.5,-711 4142.5,-711 4142.5,-770 4142.5,-770 4142.5,-776 4136.5,-782 4130.5,-782\"/>\n",
       "<text text-anchor=\"start\" x=\"3911.5\" y=\"-766.8\" font-family=\"Helvetica,sans-Serif\" font-size=\"14.00\">n_steps ≤ 0.009</text>\n",
       "<text text-anchor=\"start\" x=\"3924.5\" y=\"-751.8\" font-family=\"Helvetica,sans-Serif\" font-size=\"14.00\">gini = 0.712</text>\n",
       "<text text-anchor=\"start\" x=\"3907.5\" y=\"-736.8\" font-family=\"Helvetica,sans-Serif\" font-size=\"14.00\">samples = 18807</text>\n",
       "<text text-anchor=\"start\" x=\"3785.5\" y=\"-721.8\" font-family=\"Helvetica,sans-Serif\" font-size=\"14.00\">value = [9189, 903, 464, 1220, 3261, 797, 470, 1572, 931]</text>\n",
       "<text text-anchor=\"start\" x=\"3910.5\" y=\"-706.8\" font-family=\"Helvetica,sans-Serif\" font-size=\"14.00\">class = profile_0</text>\n",
       "</g>\n",
       "<!-- 1 -->\n",
       "<g id=\"node2\" class=\"node\"><title>1</title>\n",
       "<path fill=\"#587ce9\" stroke=\"black\" d=\"M3909.5,-655.5C3909.5,-655.5 3696.5,-655.5 3696.5,-655.5 3690.5,-655.5 3684.5,-649.5 3684.5,-643.5 3684.5,-643.5 3684.5,-599.5 3684.5,-599.5 3684.5,-593.5 3690.5,-587.5 3696.5,-587.5 3696.5,-587.5 3909.5,-587.5 3909.5,-587.5 3915.5,-587.5 3921.5,-593.5 3921.5,-599.5 3921.5,-599.5 3921.5,-643.5 3921.5,-643.5 3921.5,-649.5 3915.5,-655.5 3909.5,-655.5\"/>\n",
       "<text text-anchor=\"start\" x=\"3767.5\" y=\"-640.3\" font-family=\"Helvetica,sans-Serif\" font-size=\"14.00\">gini = 0.242</text>\n",
       "<text text-anchor=\"start\" x=\"3758\" y=\"-625.3\" font-family=\"Helvetica,sans-Serif\" font-size=\"14.00\">samples = 896</text>\n",
       "<text text-anchor=\"start\" x=\"3692.5\" y=\"-610.3\" font-family=\"Helvetica,sans-Serif\" font-size=\"14.00\">value = [0, 103, 0, 0, 20, 773, 0, 0, 0]</text>\n",
       "<text text-anchor=\"start\" x=\"3753.5\" y=\"-595.3\" font-family=\"Helvetica,sans-Serif\" font-size=\"14.00\">class = profile_5</text>\n",
       "</g>\n",
       "<!-- 0&#45;&gt;1 -->\n",
       "<g id=\"edge1\" class=\"edge\"><title>0&#45;&gt;1</title>\n",
       "<path fill=\"none\" stroke=\"black\" d=\"M3905.53,-698.907C3889.39,-686.88 3871.75,-673.735 3855.72,-661.791\"/>\n",
       "<polygon fill=\"black\" stroke=\"black\" points=\"3857.62,-658.836 3847.51,-655.667 3853.43,-664.449 3857.62,-658.836\"/>\n",
       "<text text-anchor=\"middle\" x=\"3851.12\" y=\"-676.705\" font-family=\"Helvetica,sans-Serif\" font-size=\"14.00\">True</text>\n",
       "</g>\n",
       "<!-- 2 -->\n",
       "<g id=\"node3\" class=\"node\"><title>2</title>\n",
       "<path fill=\"#f4ccaf\" stroke=\"black\" d=\"M4284.5,-663C4284.5,-663 3951.5,-663 3951.5,-663 3945.5,-663 3939.5,-657 3939.5,-651 3939.5,-651 3939.5,-592 3939.5,-592 3939.5,-586 3945.5,-580 3951.5,-580 3951.5,-580 4284.5,-580 4284.5,-580 4290.5,-580 4296.5,-586 4296.5,-592 4296.5,-592 4296.5,-651 4296.5,-651 4296.5,-657 4290.5,-663 4284.5,-663\"/>\n",
       "<text text-anchor=\"start\" x=\"4031\" y=\"-647.8\" font-family=\"Helvetica,sans-Serif\" font-size=\"14.00\">tag__low&#45;cholesterol ≤ 0.116</text>\n",
       "<text text-anchor=\"start\" x=\"4082.5\" y=\"-632.8\" font-family=\"Helvetica,sans-Serif\" font-size=\"14.00\">gini = 0.686</text>\n",
       "<text text-anchor=\"start\" x=\"4065.5\" y=\"-617.8\" font-family=\"Helvetica,sans-Serif\" font-size=\"14.00\">samples = 17911</text>\n",
       "<text text-anchor=\"start\" x=\"3947.5\" y=\"-602.8\" font-family=\"Helvetica,sans-Serif\" font-size=\"14.00\">value = [9189, 800, 464, 1220, 3241, 24, 470, 1572, 931]</text>\n",
       "<text text-anchor=\"start\" x=\"4068.5\" y=\"-587.8\" font-family=\"Helvetica,sans-Serif\" font-size=\"14.00\">class = profile_0</text>\n",
       "</g>\n",
       "<!-- 0&#45;&gt;2 -->\n",
       "<g id=\"edge2\" class=\"edge\"><title>0&#45;&gt;2</title>\n",
       "<path fill=\"none\" stroke=\"black\" d=\"M4014.82,-698.907C4027.81,-689.288 4041.76,-678.953 4055.08,-669.09\"/>\n",
       "<polygon fill=\"black\" stroke=\"black\" points=\"4057.33,-671.785 4063.28,-663.021 4053.16,-666.159 4057.33,-671.785\"/>\n",
       "<text text-anchor=\"middle\" x=\"4059.59\" y=\"-684.048\" font-family=\"Helvetica,sans-Serif\" font-size=\"14.00\">False</text>\n",
       "</g>\n",
       "<!-- 3 -->\n",
       "<g id=\"node4\" class=\"node\"><title>3</title>\n",
       "<path fill=\"#f3c5a4\" stroke=\"black\" d=\"M3399,-544C3399,-544 3073,-544 3073,-544 3067,-544 3061,-538 3061,-532 3061,-532 3061,-473 3061,-473 3061,-467 3067,-461 3073,-461 3073,-461 3399,-461 3399,-461 3405,-461 3411,-467 3411,-473 3411,-473 3411,-532 3411,-532 3411,-538 3405,-544 3399,-544\"/>\n",
       "<text text-anchor=\"start\" x=\"3178.5\" y=\"-528.8\" font-family=\"Helvetica,sans-Serif\" font-size=\"14.00\">tag__to&#45;go ≤ 0.143</text>\n",
       "<text text-anchor=\"start\" x=\"3200.5\" y=\"-513.8\" font-family=\"Helvetica,sans-Serif\" font-size=\"14.00\">gini = 0.639</text>\n",
       "<text text-anchor=\"start\" x=\"3183.5\" y=\"-498.8\" font-family=\"Helvetica,sans-Serif\" font-size=\"14.00\">samples = 15241</text>\n",
       "<text text-anchor=\"start\" x=\"3069\" y=\"-483.8\" font-family=\"Helvetica,sans-Serif\" font-size=\"14.00\">value = [8546, 617, 457, 1089, 2837, 24, 371, 426, 874]</text>\n",
       "<text text-anchor=\"start\" x=\"3186.5\" y=\"-468.8\" font-family=\"Helvetica,sans-Serif\" font-size=\"14.00\">class = profile_0</text>\n",
       "</g>\n",
       "<!-- 2&#45;&gt;3 -->\n",
       "<g id=\"edge3\" class=\"edge\"><title>2&#45;&gt;3</title>\n",
       "<path fill=\"none\" stroke=\"black\" d=\"M3939.42,-581.404C3936.59,-580.922 3933.79,-580.454 3931,-580 3759.15,-552.011 3561.7,-531.37 3421.28,-518.631\"/>\n",
       "<polygon fill=\"black\" stroke=\"black\" points=\"3421.54,-515.14 3411.27,-517.727 3420.91,-522.112 3421.54,-515.14\"/>\n",
       "</g>\n",
       "<!-- 34 -->\n",
       "<g id=\"node35\" class=\"node\"><title>34</title>\n",
       "<path fill=\"#f9cef5\" stroke=\"black\" d=\"M5347.5,-544C5347.5,-544 5074.5,-544 5074.5,-544 5068.5,-544 5062.5,-538 5062.5,-532 5062.5,-532 5062.5,-473 5062.5,-473 5062.5,-467 5068.5,-461 5074.5,-461 5074.5,-461 5347.5,-461 5347.5,-461 5353.5,-461 5359.5,-467 5359.5,-473 5359.5,-473 5359.5,-532 5359.5,-532 5359.5,-538 5353.5,-544 5347.5,-544\"/>\n",
       "<text text-anchor=\"start\" x=\"5147.5\" y=\"-528.8\" font-family=\"Helvetica,sans-Serif\" font-size=\"14.00\">tag__healthy ≤ 0.095</text>\n",
       "<text text-anchor=\"start\" x=\"5175.5\" y=\"-513.8\" font-family=\"Helvetica,sans-Serif\" font-size=\"14.00\">gini = 0.726</text>\n",
       "<text text-anchor=\"start\" x=\"5162.5\" y=\"-498.8\" font-family=\"Helvetica,sans-Serif\" font-size=\"14.00\">samples = 2670</text>\n",
       "<text text-anchor=\"start\" x=\"5070.5\" y=\"-483.8\" font-family=\"Helvetica,sans-Serif\" font-size=\"14.00\">value = [643, 183, 7, 131, 404, 0, 99, 1146, 57]</text>\n",
       "<text text-anchor=\"start\" x=\"5161.5\" y=\"-468.8\" font-family=\"Helvetica,sans-Serif\" font-size=\"14.00\">class = profile_7</text>\n",
       "</g>\n",
       "<!-- 2&#45;&gt;34 -->\n",
       "<g id=\"edge34\" class=\"edge\"><title>2&#45;&gt;34</title>\n",
       "<path fill=\"none\" stroke=\"black\" d=\"M4296.65,-601.376C4506.47,-578.917 4851.3,-542.004 5052.15,-520.504\"/>\n",
       "<polygon fill=\"black\" stroke=\"black\" points=\"5052.63,-523.973 5062.2,-519.428 5051.88,-517.013 5052.63,-523.973\"/>\n",
       "</g>\n",
       "<!-- 4 -->\n",
       "<g id=\"node5\" class=\"node\"><title>4</title>\n",
       "<path fill=\"#f2c09b\" stroke=\"black\" d=\"M1876,-425C1876,-425 1558,-425 1558,-425 1552,-425 1546,-419 1546,-413 1546,-413 1546,-354 1546,-354 1546,-348 1552,-342 1558,-342 1558,-342 1876,-342 1876,-342 1882,-342 1888,-348 1888,-354 1888,-354 1888,-413 1888,-413 1888,-419 1882,-425 1876,-425\"/>\n",
       "<text text-anchor=\"start\" x=\"1641\" y=\"-409.8\" font-family=\"Helvetica,sans-Serif\" font-size=\"14.00\">tag__taste&#45;mood ≤ 0.214</text>\n",
       "<text text-anchor=\"start\" x=\"1681.5\" y=\"-394.8\" font-family=\"Helvetica,sans-Serif\" font-size=\"14.00\">gini = 0.596</text>\n",
       "<text text-anchor=\"start\" x=\"1664.5\" y=\"-379.8\" font-family=\"Helvetica,sans-Serif\" font-size=\"14.00\">samples = 13256</text>\n",
       "<text text-anchor=\"start\" x=\"1554\" y=\"-364.8\" font-family=\"Helvetica,sans-Serif\" font-size=\"14.00\">value = [7929, 494, 455, 992, 2542, 24, 272, 385, 163]</text>\n",
       "<text text-anchor=\"start\" x=\"1667.5\" y=\"-349.8\" font-family=\"Helvetica,sans-Serif\" font-size=\"14.00\">class = profile_0</text>\n",
       "</g>\n",
       "<!-- 3&#45;&gt;4 -->\n",
       "<g id=\"edge4\" class=\"edge\"><title>3&#45;&gt;4</title>\n",
       "<path fill=\"none\" stroke=\"black\" d=\"M3060.64,-487.993C2770.31,-465.63 2192.66,-421.138 1898.4,-398.472\"/>\n",
       "<polygon fill=\"black\" stroke=\"black\" points=\"1898.29,-394.954 1888.05,-397.675 1897.75,-401.933 1898.29,-394.954\"/>\n",
       "</g>\n",
       "<!-- 19 -->\n",
       "<g id=\"node20\" class=\"node\"><title>19</title>\n",
       "<path fill=\"#fdf1f4\" stroke=\"black\" d=\"M3365,-425C3365,-425 3107,-425 3107,-425 3101,-425 3095,-419 3095,-413 3095,-413 3095,-354 3095,-354 3095,-348 3101,-342 3107,-342 3107,-342 3365,-342 3365,-342 3371,-342 3377,-348 3377,-354 3377,-354 3377,-413 3377,-413 3377,-419 3371,-425 3365,-425\"/>\n",
       "<text text-anchor=\"start\" x=\"3167\" y=\"-409.8\" font-family=\"Helvetica,sans-Serif\" font-size=\"14.00\">tag__seasonal ≤ 0.008</text>\n",
       "<text text-anchor=\"start\" x=\"3200.5\" y=\"-394.8\" font-family=\"Helvetica,sans-Serif\" font-size=\"14.00\">gini = 0.744</text>\n",
       "<text text-anchor=\"start\" x=\"3187.5\" y=\"-379.8\" font-family=\"Helvetica,sans-Serif\" font-size=\"14.00\">samples = 1985</text>\n",
       "<text text-anchor=\"start\" x=\"3103\" y=\"-364.8\" font-family=\"Helvetica,sans-Serif\" font-size=\"14.00\">value = [617, 123, 2, 97, 295, 0, 99, 41, 711]</text>\n",
       "<text text-anchor=\"start\" x=\"3186.5\" y=\"-349.8\" font-family=\"Helvetica,sans-Serif\" font-size=\"14.00\">class = profile_8</text>\n",
       "</g>\n",
       "<!-- 3&#45;&gt;19 -->\n",
       "<g id=\"edge19\" class=\"edge\"><title>3&#45;&gt;19</title>\n",
       "<path fill=\"none\" stroke=\"black\" d=\"M3236,-460.907C3236,-452.649 3236,-443.864 3236,-435.302\"/>\n",
       "<polygon fill=\"black\" stroke=\"black\" points=\"3239.5,-435.021 3236,-425.021 3232.5,-435.021 3239.5,-435.021\"/>\n",
       "</g>\n",
       "<!-- 5 -->\n",
       "<g id=\"node6\" class=\"node\"><title>5</title>\n",
       "<path fill=\"#f1bc95\" stroke=\"black\" d=\"M1080,-306C1080,-306 762,-306 762,-306 756,-306 750,-300 750,-294 750,-294 750,-235 750,-235 750,-229 756,-223 762,-223 762,-223 1080,-223 1080,-223 1086,-223 1092,-229 1092,-235 1092,-235 1092,-294 1092,-294 1092,-300 1086,-306 1080,-306\"/>\n",
       "<text text-anchor=\"start\" x=\"863.5\" y=\"-290.8\" font-family=\"Helvetica,sans-Serif\" font-size=\"14.00\">tag__meat ≤ 0.224</text>\n",
       "<text text-anchor=\"start\" x=\"885.5\" y=\"-275.8\" font-family=\"Helvetica,sans-Serif\" font-size=\"14.00\">gini = 0.556</text>\n",
       "<text text-anchor=\"start\" x=\"868.5\" y=\"-260.8\" font-family=\"Helvetica,sans-Serif\" font-size=\"14.00\">samples = 11747</text>\n",
       "<text text-anchor=\"start\" x=\"758\" y=\"-245.8\" font-family=\"Helvetica,sans-Serif\" font-size=\"14.00\">value = [7398, 394, 446, 395, 2409, 24, 183, 353, 145]</text>\n",
       "<text text-anchor=\"start\" x=\"871.5\" y=\"-230.8\" font-family=\"Helvetica,sans-Serif\" font-size=\"14.00\">class = profile_0</text>\n",
       "</g>\n",
       "<!-- 4&#45;&gt;5 -->\n",
       "<g id=\"edge5\" class=\"edge\"><title>4&#45;&gt;5</title>\n",
       "<path fill=\"none\" stroke=\"black\" d=\"M1545.75,-357.329C1415.03,-338.114 1235.33,-311.702 1102.2,-292.134\"/>\n",
       "<polygon fill=\"black\" stroke=\"black\" points=\"1102.7,-288.67 1092.3,-290.678 1101.68,-295.595 1102.7,-288.67\"/>\n",
       "</g>\n",
       "<!-- 12 -->\n",
       "<g id=\"node13\" class=\"node\"><title>12</title>\n",
       "<path fill=\"#f2fdf6\" stroke=\"black\" d=\"M1846,-306C1846,-306 1588,-306 1588,-306 1582,-306 1576,-300 1576,-294 1576,-294 1576,-235 1576,-235 1576,-229 1582,-223 1588,-223 1588,-223 1846,-223 1846,-223 1852,-223 1858,-229 1858,-235 1858,-235 1858,-294 1858,-294 1858,-300 1852,-306 1846,-306\"/>\n",
       "<text text-anchor=\"start\" x=\"1657\" y=\"-290.8\" font-family=\"Helvetica,sans-Serif\" font-size=\"14.00\">tag__winter ≤ 0.186</text>\n",
       "<text text-anchor=\"start\" x=\"1681.5\" y=\"-275.8\" font-family=\"Helvetica,sans-Serif\" font-size=\"14.00\">gini = 0.703</text>\n",
       "<text text-anchor=\"start\" x=\"1668.5\" y=\"-260.8\" font-family=\"Helvetica,sans-Serif\" font-size=\"14.00\">samples = 1509</text>\n",
       "<text text-anchor=\"start\" x=\"1584\" y=\"-245.8\" font-family=\"Helvetica,sans-Serif\" font-size=\"14.00\">value = [531, 100, 9, 597, 133, 0, 89, 32, 18]</text>\n",
       "<text text-anchor=\"start\" x=\"1667.5\" y=\"-230.8\" font-family=\"Helvetica,sans-Serif\" font-size=\"14.00\">class = profile_3</text>\n",
       "</g>\n",
       "<!-- 4&#45;&gt;12 -->\n",
       "<g id=\"edge12\" class=\"edge\"><title>4&#45;&gt;12</title>\n",
       "<path fill=\"none\" stroke=\"black\" d=\"M1717,-341.907C1717,-333.649 1717,-324.864 1717,-316.302\"/>\n",
       "<polygon fill=\"black\" stroke=\"black\" points=\"1720.5,-316.021 1717,-306.021 1713.5,-316.021 1720.5,-316.021\"/>\n",
       "</g>\n",
       "<!-- 6 -->\n",
       "<g id=\"node7\" class=\"node\"><title>6</title>\n",
       "<path fill=\"#f1bb93\" stroke=\"black\" d=\"M653,-187C653,-187 335,-187 335,-187 329,-187 323,-181 323,-175 323,-175 323,-116 323,-116 323,-110 329,-104 335,-104 335,-104 653,-104 653,-104 659,-104 665,-110 665,-116 665,-116 665,-175 665,-175 665,-181 659,-187 653,-187\"/>\n",
       "<text text-anchor=\"start\" x=\"418\" y=\"-171.8\" font-family=\"Helvetica,sans-Serif\" font-size=\"14.00\">tag__taste&#45;mood ≤ 0.024</text>\n",
       "<text text-anchor=\"start\" x=\"458.5\" y=\"-156.8\" font-family=\"Helvetica,sans-Serif\" font-size=\"14.00\">gini = 0.542</text>\n",
       "<text text-anchor=\"start\" x=\"441.5\" y=\"-141.8\" font-family=\"Helvetica,sans-Serif\" font-size=\"14.00\">samples = 11341</text>\n",
       "<text text-anchor=\"start\" x=\"331\" y=\"-126.8\" font-family=\"Helvetica,sans-Serif\" font-size=\"14.00\">value = [7258, 357, 235, 390, 2401, 24, 179, 352, 145]</text>\n",
       "<text text-anchor=\"start\" x=\"444.5\" y=\"-111.8\" font-family=\"Helvetica,sans-Serif\" font-size=\"14.00\">class = profile_0</text>\n",
       "</g>\n",
       "<!-- 5&#45;&gt;6 -->\n",
       "<g id=\"edge6\" class=\"edge\"><title>5&#45;&gt;6</title>\n",
       "<path fill=\"none\" stroke=\"black\" d=\"M773.154,-222.989C733.974,-212.254 691.526,-200.623 651.838,-189.748\"/>\n",
       "<polygon fill=\"black\" stroke=\"black\" points=\"652.649,-186.342 642.08,-187.075 650.8,-193.093 652.649,-186.342\"/>\n",
       "</g>\n",
       "<!-- 9 -->\n",
       "<g id=\"node10\" class=\"node\"><title>9</title>\n",
       "<path fill=\"#d6f8ca\" stroke=\"black\" d=\"M1027.5,-187C1027.5,-187 814.5,-187 814.5,-187 808.5,-187 802.5,-181 802.5,-175 802.5,-175 802.5,-116 802.5,-116 802.5,-110 808.5,-104 814.5,-104 814.5,-104 1027.5,-104 1027.5,-104 1033.5,-104 1039.5,-110 1039.5,-116 1039.5,-116 1039.5,-175 1039.5,-175 1039.5,-181 1033.5,-187 1027.5,-187\"/>\n",
       "<text text-anchor=\"start\" x=\"849.5\" y=\"-171.8\" font-family=\"Helvetica,sans-Serif\" font-size=\"14.00\">tag__main&#45;dish ≤ 0.308</text>\n",
       "<text text-anchor=\"start\" x=\"885.5\" y=\"-156.8\" font-family=\"Helvetica,sans-Serif\" font-size=\"14.00\">gini = 0.602</text>\n",
       "<text text-anchor=\"start\" x=\"876\" y=\"-141.8\" font-family=\"Helvetica,sans-Serif\" font-size=\"14.00\">samples = 406</text>\n",
       "<text text-anchor=\"start\" x=\"810.5\" y=\"-126.8\" font-family=\"Helvetica,sans-Serif\" font-size=\"14.00\">value = [140, 37, 211, 5, 8, 0, 4, 1, 0]</text>\n",
       "<text text-anchor=\"start\" x=\"871.5\" y=\"-111.8\" font-family=\"Helvetica,sans-Serif\" font-size=\"14.00\">class = profile_2</text>\n",
       "</g>\n",
       "<!-- 5&#45;&gt;9 -->\n",
       "<g id=\"edge9\" class=\"edge\"><title>5&#45;&gt;9</title>\n",
       "<path fill=\"none\" stroke=\"black\" d=\"M921,-222.907C921,-214.649 921,-205.864 921,-197.302\"/>\n",
       "<polygon fill=\"black\" stroke=\"black\" points=\"924.5,-197.021 921,-187.021 917.5,-197.021 924.5,-197.021\"/>\n",
       "</g>\n",
       "<!-- 7 -->\n",
       "<g id=\"node8\" class=\"node\"><title>7</title>\n",
       "<path fill=\"#eeac7c\" stroke=\"black\" d=\"M308,-68C308,-68 12,-68 12,-68 6,-68 0,-62 0,-56 0,-56 0,-12 0,-12 0,-6 6,-0 12,-0 12,-0 308,-0 308,-0 314,-0 320,-6 320,-12 320,-12 320,-56 320,-56 320,-62 314,-68 308,-68\"/>\n",
       "<text text-anchor=\"start\" x=\"124.5\" y=\"-52.8\" font-family=\"Helvetica,sans-Serif\" font-size=\"14.00\">gini = 0.503</text>\n",
       "<text text-anchor=\"start\" x=\"111.5\" y=\"-37.8\" font-family=\"Helvetica,sans-Serif\" font-size=\"14.00\">samples = 3599</text>\n",
       "<text text-anchor=\"start\" x=\"8\" y=\"-22.8\" font-family=\"Helvetica,sans-Serif\" font-size=\"14.00\">value = [2490, 246, 226, 27, 313, 24, 104, 124, 45]</text>\n",
       "<text text-anchor=\"start\" x=\"110.5\" y=\"-7.8\" font-family=\"Helvetica,sans-Serif\" font-size=\"14.00\">class = profile_0</text>\n",
       "</g>\n",
       "<!-- 6&#45;&gt;7 -->\n",
       "<g id=\"edge7\" class=\"edge\"><title>6&#45;&gt;7</title>\n",
       "<path fill=\"none\" stroke=\"black\" d=\"M370.105,-103.882C337.466,-93.1811 302.468,-81.7073 270.58,-71.253\"/>\n",
       "<polygon fill=\"black\" stroke=\"black\" points=\"271.382,-67.8329 260.79,-68.0433 269.202,-74.4845 271.382,-67.8329\"/>\n",
       "</g>\n",
       "<!-- 8 -->\n",
       "<g id=\"node9\" class=\"node\"><title>8</title>\n",
       "<path fill=\"#f3c3a1\" stroke=\"black\" d=\"M638,-68C638,-68 350,-68 350,-68 344,-68 338,-62 338,-56 338,-56 338,-12 338,-12 338,-6 344,-0 350,-0 350,-0 638,-0 638,-0 644,-0 650,-6 650,-12 650,-12 650,-56 650,-56 650,-62 644,-68 638,-68\"/>\n",
       "<text text-anchor=\"start\" x=\"458.5\" y=\"-52.8\" font-family=\"Helvetica,sans-Serif\" font-size=\"14.00\">gini = 0.544</text>\n",
       "<text text-anchor=\"start\" x=\"445.5\" y=\"-37.8\" font-family=\"Helvetica,sans-Serif\" font-size=\"14.00\">samples = 7742</text>\n",
       "<text text-anchor=\"start\" x=\"346\" y=\"-22.8\" font-family=\"Helvetica,sans-Serif\" font-size=\"14.00\">value = [4768, 111, 9, 363, 2088, 0, 75, 228, 100]</text>\n",
       "<text text-anchor=\"start\" x=\"444.5\" y=\"-7.8\" font-family=\"Helvetica,sans-Serif\" font-size=\"14.00\">class = profile_0</text>\n",
       "</g>\n",
       "<!-- 6&#45;&gt;8 -->\n",
       "<g id=\"edge8\" class=\"edge\"><title>6&#45;&gt;8</title>\n",
       "<path fill=\"none\" stroke=\"black\" d=\"M494,-103.726C494,-95.5175 494,-86.8595 494,-78.56\"/>\n",
       "<polygon fill=\"black\" stroke=\"black\" points=\"497.5,-78.2996 494,-68.2996 490.5,-78.2996 497.5,-78.2996\"/>\n",
       "</g>\n",
       "<!-- 10 -->\n",
       "<g id=\"node11\" class=\"node\"><title>10</title>\n",
       "<path fill=\"#fdf6f1\" stroke=\"black\" d=\"M893.5,-68C893.5,-68 680.5,-68 680.5,-68 674.5,-68 668.5,-62 668.5,-56 668.5,-56 668.5,-12 668.5,-12 668.5,-6 674.5,-0 680.5,-0 680.5,-0 893.5,-0 893.5,-0 899.5,-0 905.5,-6 905.5,-12 905.5,-12 905.5,-56 905.5,-56 905.5,-62 899.5,-68 893.5,-68\"/>\n",
       "<text text-anchor=\"start\" x=\"755\" y=\"-52.8\" font-family=\"Helvetica,sans-Serif\" font-size=\"14.00\">gini = 0.63</text>\n",
       "<text text-anchor=\"start\" x=\"742\" y=\"-37.8\" font-family=\"Helvetica,sans-Serif\" font-size=\"14.00\">samples = 265</text>\n",
       "<text text-anchor=\"start\" x=\"676.5\" y=\"-22.8\" font-family=\"Helvetica,sans-Serif\" font-size=\"14.00\">value = [118, 22, 107, 5, 8, 0, 4, 1, 0]</text>\n",
       "<text text-anchor=\"start\" x=\"737.5\" y=\"-7.8\" font-family=\"Helvetica,sans-Serif\" font-size=\"14.00\">class = profile_0</text>\n",
       "</g>\n",
       "<!-- 9&#45;&gt;10 -->\n",
       "<g id=\"edge10\" class=\"edge\"><title>9&#45;&gt;10</title>\n",
       "<path fill=\"none\" stroke=\"black\" d=\"M871.103,-103.726C859.495,-94.2406 847.153,-84.1551 835.602,-74.7159\"/>\n",
       "<polygon fill=\"black\" stroke=\"black\" points=\"837.708,-71.9171 827.75,-68.2996 833.279,-77.3375 837.708,-71.9171\"/>\n",
       "</g>\n",
       "<!-- 11 -->\n",
       "<g id=\"node12\" class=\"node\"><title>11</title>\n",
       "<path fill=\"#94ed77\" stroke=\"black\" d=\"M1142,-68C1142,-68 936,-68 936,-68 930,-68 924,-62 924,-56 924,-56 924,-12 924,-12 924,-6 930,-0 936,-0 936,-0 1142,-0 1142,-0 1148,-0 1154,-6 1154,-12 1154,-12 1154,-56 1154,-56 1154,-62 1148,-68 1142,-68\"/>\n",
       "<text text-anchor=\"start\" x=\"1007\" y=\"-52.8\" font-family=\"Helvetica,sans-Serif\" font-size=\"14.00\">gini = 0.42</text>\n",
       "<text text-anchor=\"start\" x=\"994\" y=\"-37.8\" font-family=\"Helvetica,sans-Serif\" font-size=\"14.00\">samples = 141</text>\n",
       "<text text-anchor=\"start\" x=\"932\" y=\"-22.8\" font-family=\"Helvetica,sans-Serif\" font-size=\"14.00\">value = [22, 15, 104, 0, 0, 0, 0, 0, 0]</text>\n",
       "<text text-anchor=\"start\" x=\"989.5\" y=\"-7.8\" font-family=\"Helvetica,sans-Serif\" font-size=\"14.00\">class = profile_2</text>\n",
       "</g>\n",
       "<!-- 9&#45;&gt;11 -->\n",
       "<g id=\"edge11\" class=\"edge\"><title>9&#45;&gt;11</title>\n",
       "<path fill=\"none\" stroke=\"black\" d=\"M964.939,-103.726C974.964,-94.423 985.611,-84.5428 995.614,-75.2612\"/>\n",
       "<polygon fill=\"black\" stroke=\"black\" points=\"998.166,-77.6673 1003.12,-68.2996 993.405,-72.5362 998.166,-77.6673\"/>\n",
       "</g>\n",
       "<!-- 13 -->\n",
       "<g id=\"node14\" class=\"node\"><title>13</title>\n",
       "<path fill=\"#f1fdf6\" stroke=\"black\" d=\"M1706.5,-187C1706.5,-187 1455.5,-187 1455.5,-187 1449.5,-187 1443.5,-181 1443.5,-175 1443.5,-175 1443.5,-116 1443.5,-116 1443.5,-110 1449.5,-104 1455.5,-104 1455.5,-104 1706.5,-104 1706.5,-104 1712.5,-104 1718.5,-110 1718.5,-116 1718.5,-116 1718.5,-175 1718.5,-175 1718.5,-181 1712.5,-187 1706.5,-187\"/>\n",
       "<text text-anchor=\"start\" x=\"1501\" y=\"-171.8\" font-family=\"Helvetica,sans-Serif\" font-size=\"14.00\">tag__comfort&#45;food ≤ 0.266</text>\n",
       "<text text-anchor=\"start\" x=\"1545.5\" y=\"-156.8\" font-family=\"Helvetica,sans-Serif\" font-size=\"14.00\">gini = 0.676</text>\n",
       "<text text-anchor=\"start\" x=\"1532.5\" y=\"-141.8\" font-family=\"Helvetica,sans-Serif\" font-size=\"14.00\">samples = 1406</text>\n",
       "<text text-anchor=\"start\" x=\"1451.5\" y=\"-126.8\" font-family=\"Helvetica,sans-Serif\" font-size=\"14.00\">value = [521, 90, 9, 585, 125, 0, 27, 32, 17]</text>\n",
       "<text text-anchor=\"start\" x=\"1531.5\" y=\"-111.8\" font-family=\"Helvetica,sans-Serif\" font-size=\"14.00\">class = profile_3</text>\n",
       "</g>\n",
       "<!-- 12&#45;&gt;13 -->\n",
       "<g id=\"edge13\" class=\"edge\"><title>12&#45;&gt;13</title>\n",
       "<path fill=\"none\" stroke=\"black\" d=\"M1669.82,-222.907C1658.84,-213.469 1647.07,-203.343 1635.81,-193.649\"/>\n",
       "<polygon fill=\"black\" stroke=\"black\" points=\"1637.96,-190.889 1628.1,-187.021 1633.4,-196.196 1637.96,-190.889\"/>\n",
       "</g>\n",
       "<!-- 16 -->\n",
       "<g id=\"node17\" class=\"node\"><title>16</title>\n",
       "<path fill=\"#ba92f1\" stroke=\"black\" d=\"M1955,-187C1955,-187 1749,-187 1749,-187 1743,-187 1737,-181 1737,-175 1737,-175 1737,-116 1737,-116 1737,-110 1743,-104 1749,-104 1749,-104 1955,-104 1955,-104 1961,-104 1967,-110 1967,-116 1967,-116 1967,-175 1967,-175 1967,-181 1961,-187 1955,-187\"/>\n",
       "<text text-anchor=\"start\" x=\"1792\" y=\"-171.8\" font-family=\"Helvetica,sans-Serif\" font-size=\"14.00\">tag__winter ≤ 0.301</text>\n",
       "<text text-anchor=\"start\" x=\"1816.5\" y=\"-156.8\" font-family=\"Helvetica,sans-Serif\" font-size=\"14.00\">gini = 0.599</text>\n",
       "<text text-anchor=\"start\" x=\"1807\" y=\"-141.8\" font-family=\"Helvetica,sans-Serif\" font-size=\"14.00\">samples = 103</text>\n",
       "<text text-anchor=\"start\" x=\"1745\" y=\"-126.8\" font-family=\"Helvetica,sans-Serif\" font-size=\"14.00\">value = [10, 10, 0, 12, 8, 0, 62, 0, 1]</text>\n",
       "<text text-anchor=\"start\" x=\"1802.5\" y=\"-111.8\" font-family=\"Helvetica,sans-Serif\" font-size=\"14.00\">class = profile_6</text>\n",
       "</g>\n",
       "<!-- 12&#45;&gt;16 -->\n",
       "<g id=\"edge16\" class=\"edge\"><title>12&#45;&gt;16</title>\n",
       "<path fill=\"none\" stroke=\"black\" d=\"M1763.84,-222.907C1774.73,-213.469 1786.41,-203.343 1797.6,-193.649\"/>\n",
       "<polygon fill=\"black\" stroke=\"black\" points=\"1799.98,-196.215 1805.25,-187.021 1795.4,-190.925 1799.98,-196.215\"/>\n",
       "</g>\n",
       "<!-- 14 -->\n",
       "<g id=\"node15\" class=\"node\"><title>14</title>\n",
       "<path fill=\"#fae7d9\" stroke=\"black\" d=\"M1435.5,-68C1435.5,-68 1184.5,-68 1184.5,-68 1178.5,-68 1172.5,-62 1172.5,-56 1172.5,-56 1172.5,-12 1172.5,-12 1172.5,-6 1178.5,-0 1184.5,-0 1184.5,-0 1435.5,-0 1435.5,-0 1441.5,-0 1447.5,-6 1447.5,-12 1447.5,-12 1447.5,-56 1447.5,-56 1447.5,-62 1441.5,-68 1435.5,-68\"/>\n",
       "<text text-anchor=\"start\" x=\"1274.5\" y=\"-52.8\" font-family=\"Helvetica,sans-Serif\" font-size=\"14.00\">gini = 0.683</text>\n",
       "<text text-anchor=\"start\" x=\"1265\" y=\"-37.8\" font-family=\"Helvetica,sans-Serif\" font-size=\"14.00\">samples = 930</text>\n",
       "<text text-anchor=\"start\" x=\"1180.5\" y=\"-22.8\" font-family=\"Helvetica,sans-Serif\" font-size=\"14.00\">value = [416, 52, 6, 293, 106, 0, 17, 26, 14]</text>\n",
       "<text text-anchor=\"start\" x=\"1260.5\" y=\"-7.8\" font-family=\"Helvetica,sans-Serif\" font-size=\"14.00\">class = profile_0</text>\n",
       "</g>\n",
       "<!-- 13&#45;&gt;14 -->\n",
       "<g id=\"edge14\" class=\"edge\"><title>13&#45;&gt;14</title>\n",
       "<path fill=\"none\" stroke=\"black\" d=\"M1480.47,-103.882C1454.45,-93.3656 1426.57,-82.1027 1401.06,-71.7947\"/>\n",
       "<polygon fill=\"black\" stroke=\"black\" points=\"1402.36,-68.5446 1391.78,-68.0433 1399.74,-75.0348 1402.36,-68.5446\"/>\n",
       "</g>\n",
       "<!-- 15 -->\n",
       "<g id=\"node16\" class=\"node\"><title>15</title>\n",
       "<path fill=\"#9bf2bf\" stroke=\"black\" d=\"M1706,-68C1706,-68 1478,-68 1478,-68 1472,-68 1466,-62 1466,-56 1466,-56 1466,-12 1466,-12 1466,-6 1472,-0 1478,-0 1478,-0 1706,-0 1706,-0 1712,-0 1718,-6 1718,-12 1718,-12 1718,-56 1718,-56 1718,-62 1712,-68 1706,-68\"/>\n",
       "<text text-anchor=\"start\" x=\"1556.5\" y=\"-52.8\" font-family=\"Helvetica,sans-Serif\" font-size=\"14.00\">gini = 0.566</text>\n",
       "<text text-anchor=\"start\" x=\"1547\" y=\"-37.8\" font-family=\"Helvetica,sans-Serif\" font-size=\"14.00\">samples = 476</text>\n",
       "<text text-anchor=\"start\" x=\"1474\" y=\"-22.8\" font-family=\"Helvetica,sans-Serif\" font-size=\"14.00\">value = [105, 38, 3, 292, 19, 0, 10, 6, 3]</text>\n",
       "<text text-anchor=\"start\" x=\"1542.5\" y=\"-7.8\" font-family=\"Helvetica,sans-Serif\" font-size=\"14.00\">class = profile_3</text>\n",
       "</g>\n",
       "<!-- 13&#45;&gt;15 -->\n",
       "<g id=\"edge15\" class=\"edge\"><title>13&#45;&gt;15</title>\n",
       "<path fill=\"none\" stroke=\"black\" d=\"M1585.1,-103.726C1585.93,-95.4263 1586.81,-86.6671 1587.65,-78.2834\"/>\n",
       "<polygon fill=\"black\" stroke=\"black\" points=\"1591.14,-78.5994 1588.65,-68.2996 1584.17,-77.8997 1591.14,-78.5994\"/>\n",
       "</g>\n",
       "<!-- 17 -->\n",
       "<g id=\"node18\" class=\"node\"><title>17</title>\n",
       "<path fill=\"#ece2fb\" stroke=\"black\" d=\"M1931.5,-68C1931.5,-68 1748.5,-68 1748.5,-68 1742.5,-68 1736.5,-62 1736.5,-56 1736.5,-56 1736.5,-12 1736.5,-12 1736.5,-6 1742.5,-0 1748.5,-0 1748.5,-0 1931.5,-0 1931.5,-0 1937.5,-0 1943.5,-6 1943.5,-12 1943.5,-12 1943.5,-56 1943.5,-56 1943.5,-62 1937.5,-68 1931.5,-68\"/>\n",
       "<text text-anchor=\"start\" x=\"1804.5\" y=\"-52.8\" font-family=\"Helvetica,sans-Serif\" font-size=\"14.00\">gini = 0.779</text>\n",
       "<text text-anchor=\"start\" x=\"1799\" y=\"-37.8\" font-family=\"Helvetica,sans-Serif\" font-size=\"14.00\">samples = 34</text>\n",
       "<text text-anchor=\"start\" x=\"1744.5\" y=\"-22.8\" font-family=\"Helvetica,sans-Serif\" font-size=\"14.00\">value = [5, 5, 0, 7, 6, 0, 11, 0, 0]</text>\n",
       "<text text-anchor=\"start\" x=\"1790.5\" y=\"-7.8\" font-family=\"Helvetica,sans-Serif\" font-size=\"14.00\">class = profile_6</text>\n",
       "</g>\n",
       "<!-- 16&#45;&gt;17 -->\n",
       "<g id=\"edge17\" class=\"edge\"><title>16&#45;&gt;17</title>\n",
       "<path fill=\"none\" stroke=\"black\" d=\"M1847.53,-103.726C1846.62,-95.4263 1845.66,-86.6671 1844.74,-78.2834\"/>\n",
       "<polygon fill=\"black\" stroke=\"black\" points=\"1848.22,-77.8588 1843.65,-68.2996 1841.26,-78.6214 1848.22,-77.8588\"/>\n",
       "</g>\n",
       "<!-- 18 -->\n",
       "<g id=\"node19\" class=\"node\"><title>18</title>\n",
       "<path fill=\"#a471ec\" stroke=\"black\" d=\"M2156.5,-68C2156.5,-68 1973.5,-68 1973.5,-68 1967.5,-68 1961.5,-62 1961.5,-56 1961.5,-56 1961.5,-12 1961.5,-12 1961.5,-6 1967.5,-0 1973.5,-0 1973.5,-0 2156.5,-0 2156.5,-0 2162.5,-0 2168.5,-6 2168.5,-12 2168.5,-12 2168.5,-56 2168.5,-56 2168.5,-62 2162.5,-68 2156.5,-68\"/>\n",
       "<text text-anchor=\"start\" x=\"2029.5\" y=\"-52.8\" font-family=\"Helvetica,sans-Serif\" font-size=\"14.00\">gini = 0.437</text>\n",
       "<text text-anchor=\"start\" x=\"2024\" y=\"-37.8\" font-family=\"Helvetica,sans-Serif\" font-size=\"14.00\">samples = 69</text>\n",
       "<text text-anchor=\"start\" x=\"1969.5\" y=\"-22.8\" font-family=\"Helvetica,sans-Serif\" font-size=\"14.00\">value = [5, 5, 0, 5, 2, 0, 51, 0, 1]</text>\n",
       "<text text-anchor=\"start\" x=\"2015.5\" y=\"-7.8\" font-family=\"Helvetica,sans-Serif\" font-size=\"14.00\">class = profile_6</text>\n",
       "</g>\n",
       "<!-- 16&#45;&gt;18 -->\n",
       "<g id=\"edge18\" class=\"edge\"><title>16&#45;&gt;18</title>\n",
       "<path fill=\"none\" stroke=\"black\" d=\"M1931.01,-103.882C1950.84,-93.6885 1972.03,-82.7936 1991.57,-72.7467\"/>\n",
       "<polygon fill=\"black\" stroke=\"black\" points=\"1993.43,-75.7282 2000.72,-68.0433 1990.23,-69.5027 1993.43,-75.7282\"/>\n",
       "</g>\n",
       "<!-- 20 -->\n",
       "<g id=\"node21\" class=\"node\"><title>20</title>\n",
       "<path fill=\"#f7c5d1\" stroke=\"black\" d=\"M3061.5,-306C3061.5,-306 2818.5,-306 2818.5,-306 2812.5,-306 2806.5,-300 2806.5,-294 2806.5,-294 2806.5,-235 2806.5,-235 2806.5,-229 2812.5,-223 2818.5,-223 2818.5,-223 3061.5,-223 3061.5,-223 3067.5,-223 3073.5,-229 3073.5,-235 3073.5,-235 3073.5,-294 3073.5,-294 3073.5,-300 3067.5,-306 3061.5,-306\"/>\n",
       "<text text-anchor=\"start\" x=\"2848\" y=\"-290.8\" font-family=\"Helvetica,sans-Serif\" font-size=\"14.00\">tag__low&#45;saturated&#45;fat ≤ 0.013</text>\n",
       "<text text-anchor=\"start\" x=\"2904.5\" y=\"-275.8\" font-family=\"Helvetica,sans-Serif\" font-size=\"14.00\">gini = 0.685</text>\n",
       "<text text-anchor=\"start\" x=\"2891.5\" y=\"-260.8\" font-family=\"Helvetica,sans-Serif\" font-size=\"14.00\">samples = 1197</text>\n",
       "<text text-anchor=\"start\" x=\"2814.5\" y=\"-245.8\" font-family=\"Helvetica,sans-Serif\" font-size=\"14.00\">value = [306, 82, 1, 78, 144, 0, 2, 15, 569]</text>\n",
       "<text text-anchor=\"start\" x=\"2890.5\" y=\"-230.8\" font-family=\"Helvetica,sans-Serif\" font-size=\"14.00\">class = profile_8</text>\n",
       "</g>\n",
       "<!-- 19&#45;&gt;20 -->\n",
       "<g id=\"edge20\" class=\"edge\"><title>19&#45;&gt;20</title>\n",
       "<path fill=\"none\" stroke=\"black\" d=\"M3133.3,-341.907C3107.02,-331.516 3078.62,-320.291 3051.89,-309.727\"/>\n",
       "<polygon fill=\"black\" stroke=\"black\" points=\"3053.1,-306.442 3042.51,-306.021 3050.53,-312.952 3053.1,-306.442\"/>\n",
       "</g>\n",
       "<!-- 27 -->\n",
       "<g id=\"node28\" class=\"node\"><title>27</title>\n",
       "<path fill=\"#f8dfcd\" stroke=\"black\" d=\"M3550.5,-306C3550.5,-306 3299.5,-306 3299.5,-306 3293.5,-306 3287.5,-300 3287.5,-294 3287.5,-294 3287.5,-235 3287.5,-235 3287.5,-229 3293.5,-223 3299.5,-223 3299.5,-223 3550.5,-223 3550.5,-223 3556.5,-223 3562.5,-229 3562.5,-235 3562.5,-235 3562.5,-294 3562.5,-294 3562.5,-300 3556.5,-306 3550.5,-306\"/>\n",
       "<text text-anchor=\"start\" x=\"3374.5\" y=\"-290.8\" font-family=\"Helvetica,sans-Serif\" font-size=\"14.00\">tag__fall ≤ 0.163</text>\n",
       "<text text-anchor=\"start\" x=\"3389.5\" y=\"-275.8\" font-family=\"Helvetica,sans-Serif\" font-size=\"14.00\">gini = 0.756</text>\n",
       "<text text-anchor=\"start\" x=\"3380\" y=\"-260.8\" font-family=\"Helvetica,sans-Serif\" font-size=\"14.00\">samples = 788</text>\n",
       "<text text-anchor=\"start\" x=\"3295.5\" y=\"-245.8\" font-family=\"Helvetica,sans-Serif\" font-size=\"14.00\">value = [311, 41, 1, 19, 151, 0, 97, 26, 142]</text>\n",
       "<text text-anchor=\"start\" x=\"3375.5\" y=\"-230.8\" font-family=\"Helvetica,sans-Serif\" font-size=\"14.00\">class = profile_0</text>\n",
       "</g>\n",
       "<!-- 19&#45;&gt;27 -->\n",
       "<g id=\"edge27\" class=\"edge\"><title>19&#45;&gt;27</title>\n",
       "<path fill=\"none\" stroke=\"black\" d=\"M3301.57,-341.907C3317.41,-332.106 3334.44,-321.563 3350.64,-311.533\"/>\n",
       "<polygon fill=\"black\" stroke=\"black\" points=\"3352.88,-314.26 3359.54,-306.021 3349.2,-308.308 3352.88,-314.26\"/>\n",
       "</g>\n",
       "<!-- 21 -->\n",
       "<g id=\"node22\" class=\"node\"><title>21</title>\n",
       "<path fill=\"#f5b2c2\" stroke=\"black\" d=\"M2683,-187C2683,-187 2447,-187 2447,-187 2441,-187 2435,-181 2435,-175 2435,-175 2435,-116 2435,-116 2435,-110 2441,-104 2447,-104 2447,-104 2683,-104 2683,-104 2689,-104 2695,-110 2695,-116 2695,-116 2695,-175 2695,-175 2695,-181 2689,-187 2683,-187\"/>\n",
       "<text text-anchor=\"start\" x=\"2497\" y=\"-171.8\" font-family=\"Helvetica,sans-Serif\" font-size=\"14.00\">tag__romantic ≤ 0.093</text>\n",
       "<text text-anchor=\"start\" x=\"2529.5\" y=\"-156.8\" font-family=\"Helvetica,sans-Serif\" font-size=\"14.00\">gini = 0.651</text>\n",
       "<text text-anchor=\"start\" x=\"2516.5\" y=\"-141.8\" font-family=\"Helvetica,sans-Serif\" font-size=\"14.00\">samples = 1018</text>\n",
       "<text text-anchor=\"start\" x=\"2443\" y=\"-126.8\" font-family=\"Helvetica,sans-Serif\" font-size=\"14.00\">value = [229, 77, 1, 67, 103, 0, 2, 2, 537]</text>\n",
       "<text text-anchor=\"start\" x=\"2515.5\" y=\"-111.8\" font-family=\"Helvetica,sans-Serif\" font-size=\"14.00\">class = profile_8</text>\n",
       "</g>\n",
       "<!-- 20&#45;&gt;21 -->\n",
       "<g id=\"edge21\" class=\"edge\"><title>20&#45;&gt;21</title>\n",
       "<path fill=\"none\" stroke=\"black\" d=\"M2810.16,-222.989C2776.11,-212.367 2739.26,-200.869 2704.72,-190.093\"/>\n",
       "<polygon fill=\"black\" stroke=\"black\" points=\"2705.64,-186.712 2695.05,-187.075 2703.55,-193.394 2705.64,-186.712\"/>\n",
       "</g>\n",
       "<!-- 24 -->\n",
       "<g id=\"node25\" class=\"node\"><title>24</title>\n",
       "<path fill=\"#f8decb\" stroke=\"black\" d=\"M3046.5,-187C3046.5,-187 2833.5,-187 2833.5,-187 2827.5,-187 2821.5,-181 2821.5,-175 2821.5,-175 2821.5,-116 2821.5,-116 2821.5,-110 2827.5,-104 2833.5,-104 2833.5,-104 3046.5,-104 3046.5,-104 3052.5,-104 3058.5,-110 3058.5,-116 3058.5,-116 3058.5,-175 3058.5,-175 3058.5,-181 3052.5,-187 3046.5,-187\"/>\n",
       "<text text-anchor=\"start\" x=\"2879.5\" y=\"-171.8\" font-family=\"Helvetica,sans-Serif\" font-size=\"14.00\">tag__lemon ≤ 0.104</text>\n",
       "<text text-anchor=\"start\" x=\"2904.5\" y=\"-156.8\" font-family=\"Helvetica,sans-Serif\" font-size=\"14.00\">gini = 0.721</text>\n",
       "<text text-anchor=\"start\" x=\"2895\" y=\"-141.8\" font-family=\"Helvetica,sans-Serif\" font-size=\"14.00\">samples = 179</text>\n",
       "<text text-anchor=\"start\" x=\"2829.5\" y=\"-126.8\" font-family=\"Helvetica,sans-Serif\" font-size=\"14.00\">value = [77, 5, 0, 11, 41, 0, 0, 13, 32]</text>\n",
       "<text text-anchor=\"start\" x=\"2890.5\" y=\"-111.8\" font-family=\"Helvetica,sans-Serif\" font-size=\"14.00\">class = profile_0</text>\n",
       "</g>\n",
       "<!-- 20&#45;&gt;24 -->\n",
       "<g id=\"edge24\" class=\"edge\"><title>20&#45;&gt;24</title>\n",
       "<path fill=\"none\" stroke=\"black\" d=\"M2940,-222.907C2940,-214.649 2940,-205.864 2940,-197.302\"/>\n",
       "<polygon fill=\"black\" stroke=\"black\" points=\"2943.5,-197.021 2940,-187.021 2936.5,-197.021 2943.5,-197.021\"/>\n",
       "</g>\n",
       "<!-- 22 -->\n",
       "<g id=\"node23\" class=\"node\"><title>22</title>\n",
       "<path fill=\"#f4adbf\" stroke=\"black\" d=\"M2427,-68C2427,-68 2199,-68 2199,-68 2193,-68 2187,-62 2187,-56 2187,-56 2187,-12 2187,-12 2187,-6 2193,-0 2199,-0 2199,-0 2427,-0 2427,-0 2433,-0 2439,-6 2439,-12 2439,-12 2439,-56 2439,-56 2439,-62 2433,-68 2427,-68\"/>\n",
       "<text text-anchor=\"start\" x=\"2281\" y=\"-52.8\" font-family=\"Helvetica,sans-Serif\" font-size=\"14.00\">gini = 0.63</text>\n",
       "<text text-anchor=\"start\" x=\"2268\" y=\"-37.8\" font-family=\"Helvetica,sans-Serif\" font-size=\"14.00\">samples = 963</text>\n",
       "<text text-anchor=\"start\" x=\"2195\" y=\"-22.8\" font-family=\"Helvetica,sans-Serif\" font-size=\"14.00\">value = [221, 74, 1, 48, 87, 0, 2, 2, 528]</text>\n",
       "<text text-anchor=\"start\" x=\"2263.5\" y=\"-7.8\" font-family=\"Helvetica,sans-Serif\" font-size=\"14.00\">class = profile_8</text>\n",
       "</g>\n",
       "<!-- 21&#45;&gt;22 -->\n",
       "<g id=\"edge22\" class=\"edge\"><title>21&#45;&gt;22</title>\n",
       "<path fill=\"none\" stroke=\"black\" d=\"M2471.52,-103.882C2447.53,-93.4579 2421.86,-82.3002 2398.3,-72.0661\"/>\n",
       "<polygon fill=\"black\" stroke=\"black\" points=\"2399.61,-68.8186 2389.04,-68.0433 2396.82,-75.2387 2399.61,-68.8186\"/>\n",
       "</g>\n",
       "<!-- 23 -->\n",
       "<g id=\"node24\" class=\"node\"><title>23</title>\n",
       "<path fill=\"#f0fdf5\" stroke=\"black\" d=\"M2660.5,-68C2660.5,-68 2469.5,-68 2469.5,-68 2463.5,-68 2457.5,-62 2457.5,-56 2457.5,-56 2457.5,-12 2457.5,-12 2457.5,-6 2463.5,-0 2469.5,-0 2469.5,-0 2660.5,-0 2660.5,-0 2666.5,-0 2672.5,-6 2672.5,-12 2672.5,-12 2672.5,-56 2672.5,-56 2672.5,-62 2666.5,-68 2660.5,-68\"/>\n",
       "<text text-anchor=\"start\" x=\"2529.5\" y=\"-52.8\" font-family=\"Helvetica,sans-Serif\" font-size=\"14.00\">gini = 0.745</text>\n",
       "<text text-anchor=\"start\" x=\"2524\" y=\"-37.8\" font-family=\"Helvetica,sans-Serif\" font-size=\"14.00\">samples = 55</text>\n",
       "<text text-anchor=\"start\" x=\"2465.5\" y=\"-22.8\" font-family=\"Helvetica,sans-Serif\" font-size=\"14.00\">value = [8, 3, 0, 19, 16, 0, 0, 0, 9]</text>\n",
       "<text text-anchor=\"start\" x=\"2515.5\" y=\"-7.8\" font-family=\"Helvetica,sans-Serif\" font-size=\"14.00\">class = profile_3</text>\n",
       "</g>\n",
       "<!-- 21&#45;&gt;23 -->\n",
       "<g id=\"edge23\" class=\"edge\"><title>21&#45;&gt;23</title>\n",
       "<path fill=\"none\" stroke=\"black\" d=\"M2565,-103.726C2565,-95.5175 2565,-86.8595 2565,-78.56\"/>\n",
       "<polygon fill=\"black\" stroke=\"black\" points=\"2568.5,-78.2996 2565,-68.2996 2561.5,-78.2996 2568.5,-78.2996\"/>\n",
       "</g>\n",
       "<!-- 25 -->\n",
       "<g id=\"node26\" class=\"node\"><title>25</title>\n",
       "<path fill=\"#fbeee4\" stroke=\"black\" d=\"M2915.5,-68C2915.5,-68 2702.5,-68 2702.5,-68 2696.5,-68 2690.5,-62 2690.5,-56 2690.5,-56 2690.5,-12 2690.5,-12 2690.5,-6 2696.5,-0 2702.5,-0 2702.5,-0 2915.5,-0 2915.5,-0 2921.5,-0 2927.5,-6 2927.5,-12 2927.5,-12 2927.5,-56 2927.5,-56 2927.5,-62 2921.5,-68 2915.5,-68\"/>\n",
       "<text text-anchor=\"start\" x=\"2773.5\" y=\"-52.8\" font-family=\"Helvetica,sans-Serif\" font-size=\"14.00\">gini = 0.749</text>\n",
       "<text text-anchor=\"start\" x=\"2764\" y=\"-37.8\" font-family=\"Helvetica,sans-Serif\" font-size=\"14.00\">samples = 158</text>\n",
       "<text text-anchor=\"start\" x=\"2698.5\" y=\"-22.8\" font-family=\"Helvetica,sans-Serif\" font-size=\"14.00\">value = [57, 4, 0, 11, 41, 0, 0, 13, 32]</text>\n",
       "<text text-anchor=\"start\" x=\"2759.5\" y=\"-7.8\" font-family=\"Helvetica,sans-Serif\" font-size=\"14.00\">class = profile_0</text>\n",
       "</g>\n",
       "<!-- 24&#45;&gt;25 -->\n",
       "<g id=\"edge25\" class=\"edge\"><title>24&#45;&gt;25</title>\n",
       "<path fill=\"none\" stroke=\"black\" d=\"M2891.22,-103.726C2879.87,-94.2406 2867.81,-84.1551 2856.51,-74.7159\"/>\n",
       "<polygon fill=\"black\" stroke=\"black\" points=\"2858.76,-72.0276 2848.84,-68.2996 2854.27,-77.3984 2858.76,-72.0276\"/>\n",
       "</g>\n",
       "<!-- 26 -->\n",
       "<g id=\"node27\" class=\"node\"><title>26</title>\n",
       "<path fill=\"#e68743\" stroke=\"black\" d=\"M3140.5,-68C3140.5,-68 2957.5,-68 2957.5,-68 2951.5,-68 2945.5,-62 2945.5,-56 2945.5,-56 2945.5,-12 2945.5,-12 2945.5,-6 2951.5,-0 2957.5,-0 2957.5,-0 3140.5,-0 3140.5,-0 3146.5,-0 3152.5,-6 3152.5,-12 3152.5,-12 3152.5,-56 3152.5,-56 3152.5,-62 3146.5,-68 3140.5,-68\"/>\n",
       "<text text-anchor=\"start\" x=\"3013.5\" y=\"-52.8\" font-family=\"Helvetica,sans-Serif\" font-size=\"14.00\">gini = 0.091</text>\n",
       "<text text-anchor=\"start\" x=\"3008\" y=\"-37.8\" font-family=\"Helvetica,sans-Serif\" font-size=\"14.00\">samples = 21</text>\n",
       "<text text-anchor=\"start\" x=\"2953.5\" y=\"-22.8\" font-family=\"Helvetica,sans-Serif\" font-size=\"14.00\">value = [20, 1, 0, 0, 0, 0, 0, 0, 0]</text>\n",
       "<text text-anchor=\"start\" x=\"2999.5\" y=\"-7.8\" font-family=\"Helvetica,sans-Serif\" font-size=\"14.00\">class = profile_0</text>\n",
       "</g>\n",
       "<!-- 24&#45;&gt;26 -->\n",
       "<g id=\"edge26\" class=\"edge\"><title>24&#45;&gt;26</title>\n",
       "<path fill=\"none\" stroke=\"black\" d=\"M2980.59,-103.726C2989.76,-94.5142 2999.49,-84.7364 3008.65,-75.5343\"/>\n",
       "<polygon fill=\"black\" stroke=\"black\" points=\"3011.28,-77.8561 3015.85,-68.2996 3006.32,-72.9176 3011.28,-77.8561\"/>\n",
       "</g>\n",
       "<!-- 28 -->\n",
       "<g id=\"node29\" class=\"node\"><title>28</title>\n",
       "<path fill=\"#f7d8c2\" stroke=\"black\" d=\"M3550.5,-187C3550.5,-187 3299.5,-187 3299.5,-187 3293.5,-187 3287.5,-181 3287.5,-175 3287.5,-175 3287.5,-116 3287.5,-116 3287.5,-110 3293.5,-104 3299.5,-104 3299.5,-104 3550.5,-104 3550.5,-104 3556.5,-104 3562.5,-110 3562.5,-116 3562.5,-116 3562.5,-175 3562.5,-175 3562.5,-181 3556.5,-187 3550.5,-187\"/>\n",
       "<text text-anchor=\"start\" x=\"3358\" y=\"-171.8\" font-family=\"Helvetica,sans-Serif\" font-size=\"14.00\">tag__summer ≤ 0.201</text>\n",
       "<text text-anchor=\"start\" x=\"3389.5\" y=\"-156.8\" font-family=\"Helvetica,sans-Serif\" font-size=\"14.00\">gini = 0.695</text>\n",
       "<text text-anchor=\"start\" x=\"3380\" y=\"-141.8\" font-family=\"Helvetica,sans-Serif\" font-size=\"14.00\">samples = 602</text>\n",
       "<text text-anchor=\"start\" x=\"3295.5\" y=\"-126.8\" font-family=\"Helvetica,sans-Serif\" font-size=\"14.00\">value = [279, 25, 1, 15, 136, 0, 10, 23, 113]</text>\n",
       "<text text-anchor=\"start\" x=\"3375.5\" y=\"-111.8\" font-family=\"Helvetica,sans-Serif\" font-size=\"14.00\">class = profile_0</text>\n",
       "</g>\n",
       "<!-- 27&#45;&gt;28 -->\n",
       "<g id=\"edge28\" class=\"edge\"><title>27&#45;&gt;28</title>\n",
       "<path fill=\"none\" stroke=\"black\" d=\"M3425,-222.907C3425,-214.649 3425,-205.864 3425,-197.302\"/>\n",
       "<polygon fill=\"black\" stroke=\"black\" points=\"3428.5,-197.021 3425,-187.021 3421.5,-197.021 3428.5,-197.021\"/>\n",
       "</g>\n",
       "<!-- 31 -->\n",
       "<g id=\"node32\" class=\"node\"><title>31</title>\n",
       "<path fill=\"#d2b8f6\" stroke=\"black\" d=\"M3925.5,-187C3925.5,-187 3712.5,-187 3712.5,-187 3706.5,-187 3700.5,-181 3700.5,-175 3700.5,-175 3700.5,-116 3700.5,-116 3700.5,-110 3706.5,-104 3712.5,-104 3712.5,-104 3925.5,-104 3925.5,-104 3931.5,-104 3937.5,-110 3937.5,-116 3937.5,-116 3937.5,-175 3937.5,-175 3937.5,-181 3931.5,-187 3925.5,-187\"/>\n",
       "<text text-anchor=\"start\" x=\"3759\" y=\"-171.8\" font-family=\"Helvetica,sans-Serif\" font-size=\"14.00\">tag__winter ≤ 0.207</text>\n",
       "<text text-anchor=\"start\" x=\"3783.5\" y=\"-156.8\" font-family=\"Helvetica,sans-Serif\" font-size=\"14.00\">gini = 0.713</text>\n",
       "<text text-anchor=\"start\" x=\"3774\" y=\"-141.8\" font-family=\"Helvetica,sans-Serif\" font-size=\"14.00\">samples = 186</text>\n",
       "<text text-anchor=\"start\" x=\"3708.5\" y=\"-126.8\" font-family=\"Helvetica,sans-Serif\" font-size=\"14.00\">value = [32, 16, 0, 4, 15, 0, 87, 3, 29]</text>\n",
       "<text text-anchor=\"start\" x=\"3769.5\" y=\"-111.8\" font-family=\"Helvetica,sans-Serif\" font-size=\"14.00\">class = profile_6</text>\n",
       "</g>\n",
       "<!-- 27&#45;&gt;31 -->\n",
       "<g id=\"edge31\" class=\"edge\"><title>27&#45;&gt;31</title>\n",
       "<path fill=\"none\" stroke=\"black\" d=\"M3561.42,-222.989C3603.4,-210.524 3649.44,-196.852 3690.84,-184.557\"/>\n",
       "<polygon fill=\"black\" stroke=\"black\" points=\"3691.84,-187.912 3700.43,-181.71 3689.85,-181.202 3691.84,-187.912\"/>\n",
       "</g>\n",
       "<!-- 29 -->\n",
       "<g id=\"node30\" class=\"node\"><title>29</title>\n",
       "<path fill=\"#fbede3\" stroke=\"black\" d=\"M3425.5,-68C3425.5,-68 3182.5,-68 3182.5,-68 3176.5,-68 3170.5,-62 3170.5,-56 3170.5,-56 3170.5,-12 3170.5,-12 3170.5,-6 3176.5,-0 3182.5,-0 3182.5,-0 3425.5,-0 3425.5,-0 3431.5,-0 3437.5,-6 3437.5,-12 3437.5,-12 3437.5,-56 3437.5,-56 3437.5,-62 3431.5,-68 3425.5,-68\"/>\n",
       "<text text-anchor=\"start\" x=\"3268.5\" y=\"-52.8\" font-family=\"Helvetica,sans-Serif\" font-size=\"14.00\">gini = 0.729</text>\n",
       "<text text-anchor=\"start\" x=\"3259\" y=\"-37.8\" font-family=\"Helvetica,sans-Serif\" font-size=\"14.00\">samples = 473</text>\n",
       "<text text-anchor=\"start\" x=\"3178.5\" y=\"-22.8\" font-family=\"Helvetica,sans-Serif\" font-size=\"14.00\">value = [179, 14, 1, 15, 131, 0, 9, 22, 102]</text>\n",
       "<text text-anchor=\"start\" x=\"3254.5\" y=\"-7.8\" font-family=\"Helvetica,sans-Serif\" font-size=\"14.00\">class = profile_0</text>\n",
       "</g>\n",
       "<!-- 28&#45;&gt;29 -->\n",
       "<g id=\"edge29\" class=\"edge\"><title>28&#45;&gt;29</title>\n",
       "<path fill=\"none\" stroke=\"black\" d=\"M3379.94,-103.726C3369.66,-94.423 3358.75,-84.5428 3348.49,-75.2612\"/>\n",
       "<polygon fill=\"black\" stroke=\"black\" points=\"3350.56,-72.4144 3340.8,-68.2996 3345.86,-77.6047 3350.56,-72.4144\"/>\n",
       "</g>\n",
       "<!-- 30 -->\n",
       "<g id=\"node31\" class=\"node\"><title>30</title>\n",
       "<path fill=\"#eba06a\" stroke=\"black\" d=\"M3674,-68C3674,-68 3468,-68 3468,-68 3462,-68 3456,-62 3456,-56 3456,-56 3456,-12 3456,-12 3456,-6 3462,-0 3468,-0 3468,-0 3674,-0 3674,-0 3680,-0 3686,-6 3686,-12 3686,-12 3686,-56 3686,-56 3686,-62 3680,-68 3674,-68\"/>\n",
       "<text text-anchor=\"start\" x=\"3535.5\" y=\"-52.8\" font-family=\"Helvetica,sans-Serif\" font-size=\"14.00\">gini = 0.383</text>\n",
       "<text text-anchor=\"start\" x=\"3526\" y=\"-37.8\" font-family=\"Helvetica,sans-Serif\" font-size=\"14.00\">samples = 129</text>\n",
       "<text text-anchor=\"start\" x=\"3464\" y=\"-22.8\" font-family=\"Helvetica,sans-Serif\" font-size=\"14.00\">value = [100, 11, 0, 0, 5, 0, 1, 1, 11]</text>\n",
       "<text text-anchor=\"start\" x=\"3521.5\" y=\"-7.8\" font-family=\"Helvetica,sans-Serif\" font-size=\"14.00\">class = profile_0</text>\n",
       "</g>\n",
       "<!-- 28&#45;&gt;30 -->\n",
       "<g id=\"edge30\" class=\"edge\"><title>28&#45;&gt;30</title>\n",
       "<path fill=\"none\" stroke=\"black\" d=\"M3479.37,-103.726C3492.13,-94.1494 3505.72,-83.9611 3518.41,-74.4438\"/>\n",
       "<polygon fill=\"black\" stroke=\"black\" points=\"3520.7,-77.0996 3526.6,-68.2996 3516.5,-71.4996 3520.7,-77.0996\"/>\n",
       "</g>\n",
       "<!-- 32 -->\n",
       "<g id=\"node33\" class=\"node\"><title>32</title>\n",
       "<path fill=\"#fdfcff\" stroke=\"black\" d=\"M3922,-68C3922,-68 3716,-68 3716,-68 3710,-68 3704,-62 3704,-56 3704,-56 3704,-12 3704,-12 3704,-6 3710,-0 3716,-0 3716,-0 3922,-0 3922,-0 3928,-0 3934,-6 3934,-12 3934,-12 3934,-56 3934,-56 3934,-62 3928,-68 3922,-68\"/>\n",
       "<text text-anchor=\"start\" x=\"3783.5\" y=\"-52.8\" font-family=\"Helvetica,sans-Serif\" font-size=\"14.00\">gini = 0.778</text>\n",
       "<text text-anchor=\"start\" x=\"3778\" y=\"-37.8\" font-family=\"Helvetica,sans-Serif\" font-size=\"14.00\">samples = 97</text>\n",
       "<text text-anchor=\"start\" x=\"3712\" y=\"-22.8\" font-family=\"Helvetica,sans-Serif\" font-size=\"14.00\">value = [25, 5, 0, 2, 11, 0, 26, 3, 25]</text>\n",
       "<text text-anchor=\"start\" x=\"3769.5\" y=\"-7.8\" font-family=\"Helvetica,sans-Serif\" font-size=\"14.00\">class = profile_6</text>\n",
       "</g>\n",
       "<!-- 31&#45;&gt;32 -->\n",
       "<g id=\"edge32\" class=\"edge\"><title>31&#45;&gt;32</title>\n",
       "<path fill=\"none\" stroke=\"black\" d=\"M3819,-103.726C3819,-95.5175 3819,-86.8595 3819,-78.56\"/>\n",
       "<polygon fill=\"black\" stroke=\"black\" points=\"3822.5,-78.2996 3819,-68.2996 3815.5,-78.2996 3822.5,-78.2996\"/>\n",
       "</g>\n",
       "<!-- 33 -->\n",
       "<g id=\"node34\" class=\"node\"><title>33</title>\n",
       "<path fill=\"#ae80ee\" stroke=\"black\" d=\"M4155.5,-68C4155.5,-68 3964.5,-68 3964.5,-68 3958.5,-68 3952.5,-62 3952.5,-56 3952.5,-56 3952.5,-12 3952.5,-12 3952.5,-6 3958.5,-0 3964.5,-0 3964.5,-0 4155.5,-0 4155.5,-0 4161.5,-0 4167.5,-6 4167.5,-12 4167.5,-12 4167.5,-56 4167.5,-56 4167.5,-62 4161.5,-68 4155.5,-68\"/>\n",
       "<text text-anchor=\"start\" x=\"4024.5\" y=\"-52.8\" font-family=\"Helvetica,sans-Serif\" font-size=\"14.00\">gini = 0.504</text>\n",
       "<text text-anchor=\"start\" x=\"4019\" y=\"-37.8\" font-family=\"Helvetica,sans-Serif\" font-size=\"14.00\">samples = 89</text>\n",
       "<text text-anchor=\"start\" x=\"3960.5\" y=\"-22.8\" font-family=\"Helvetica,sans-Serif\" font-size=\"14.00\">value = [7, 11, 0, 2, 4, 0, 61, 0, 4]</text>\n",
       "<text text-anchor=\"start\" x=\"4010.5\" y=\"-7.8\" font-family=\"Helvetica,sans-Serif\" font-size=\"14.00\">class = profile_6</text>\n",
       "</g>\n",
       "<!-- 31&#45;&gt;33 -->\n",
       "<g id=\"edge33\" class=\"edge\"><title>31&#45;&gt;33</title>\n",
       "<path fill=\"none\" stroke=\"black\" d=\"M3908.4,-103.882C3931.24,-93.504 3955.68,-82.399 3978.12,-72.202\"/>\n",
       "<polygon fill=\"black\" stroke=\"black\" points=\"3979.62,-75.3665 3987.27,-68.0433 3976.72,-68.9935 3979.62,-75.3665\"/>\n",
       "</g>\n",
       "<!-- 35 -->\n",
       "<g id=\"node36\" class=\"node\"><title>35</title>\n",
       "<path fill=\"#fffdfc\" stroke=\"black\" d=\"M5340,-425C5340,-425 5082,-425 5082,-425 5076,-425 5070,-419 5070,-413 5070,-413 5070,-354 5070,-354 5070,-348 5076,-342 5082,-342 5082,-342 5340,-342 5340,-342 5346,-342 5352,-348 5352,-354 5352,-354 5352,-413 5352,-413 5352,-419 5346,-425 5340,-425\"/>\n",
       "<text text-anchor=\"start\" x=\"5151\" y=\"-409.8\" font-family=\"Helvetica,sans-Serif\" font-size=\"14.00\">tag__winter ≤ 0.139</text>\n",
       "<text text-anchor=\"start\" x=\"5175.5\" y=\"-394.8\" font-family=\"Helvetica,sans-Serif\" font-size=\"14.00\">gini = 0.765</text>\n",
       "<text text-anchor=\"start\" x=\"5162.5\" y=\"-379.8\" font-family=\"Helvetica,sans-Serif\" font-size=\"14.00\">samples = 1561</text>\n",
       "<text text-anchor=\"start\" x=\"5078\" y=\"-364.8\" font-family=\"Helvetica,sans-Serif\" font-size=\"14.00\">value = [490, 90, 4, 101, 291, 0, 77, 472, 36]</text>\n",
       "<text text-anchor=\"start\" x=\"5161.5\" y=\"-349.8\" font-family=\"Helvetica,sans-Serif\" font-size=\"14.00\">class = profile_0</text>\n",
       "</g>\n",
       "<!-- 34&#45;&gt;35 -->\n",
       "<g id=\"edge35\" class=\"edge\"><title>34&#45;&gt;35</title>\n",
       "<path fill=\"none\" stroke=\"black\" d=\"M5211,-460.907C5211,-452.649 5211,-443.864 5211,-435.302\"/>\n",
       "<polygon fill=\"black\" stroke=\"black\" points=\"5214.5,-435.021 5211,-425.021 5207.5,-435.021 5214.5,-435.021\"/>\n",
       "</g>\n",
       "<!-- 50 -->\n",
       "<g id=\"node51\" class=\"node\"><title>50</title>\n",
       "<path fill=\"#f193e9\" stroke=\"black\" d=\"M6763.5,-425C6763.5,-425 6512.5,-425 6512.5,-425 6506.5,-425 6500.5,-419 6500.5,-413 6500.5,-413 6500.5,-354 6500.5,-354 6500.5,-348 6506.5,-342 6512.5,-342 6512.5,-342 6763.5,-342 6763.5,-342 6769.5,-342 6775.5,-348 6775.5,-354 6775.5,-354 6775.5,-413 6775.5,-413 6775.5,-419 6769.5,-425 6763.5,-425\"/>\n",
       "<text text-anchor=\"start\" x=\"6578\" y=\"-409.8\" font-family=\"Helvetica,sans-Serif\" font-size=\"14.00\">tag__winter ≤ 0.264</text>\n",
       "<text text-anchor=\"start\" x=\"6602.5\" y=\"-394.8\" font-family=\"Helvetica,sans-Serif\" font-size=\"14.00\">gini = 0.593</text>\n",
       "<text text-anchor=\"start\" x=\"6589.5\" y=\"-379.8\" font-family=\"Helvetica,sans-Serif\" font-size=\"14.00\">samples = 1109</text>\n",
       "<text text-anchor=\"start\" x=\"6508.5\" y=\"-364.8\" font-family=\"Helvetica,sans-Serif\" font-size=\"14.00\">value = [153, 93, 3, 30, 113, 0, 22, 674, 21]</text>\n",
       "<text text-anchor=\"start\" x=\"6588.5\" y=\"-349.8\" font-family=\"Helvetica,sans-Serif\" font-size=\"14.00\">class = profile_7</text>\n",
       "</g>\n",
       "<!-- 34&#45;&gt;50 -->\n",
       "<g id=\"edge50\" class=\"edge\"><title>34&#45;&gt;50</title>\n",
       "<path fill=\"none\" stroke=\"black\" d=\"M5359.68,-489.31C5634.06,-466.813 6216.93,-419.024 6490.46,-396.597\"/>\n",
       "<polygon fill=\"black\" stroke=\"black\" points=\"6490.78,-400.083 6500.46,-395.777 6490.21,-393.106 6490.78,-400.083\"/>\n",
       "</g>\n",
       "<!-- 36 -->\n",
       "<g id=\"node37\" class=\"node\"><title>36</title>\n",
       "<path fill=\"#fffefe\" stroke=\"black\" d=\"M5105.5,-306C5105.5,-306 4854.5,-306 4854.5,-306 4848.5,-306 4842.5,-300 4842.5,-294 4842.5,-294 4842.5,-235 4842.5,-235 4842.5,-229 4848.5,-223 4854.5,-223 4854.5,-223 5105.5,-223 5105.5,-223 5111.5,-223 5117.5,-229 5117.5,-235 5117.5,-235 5117.5,-294 5117.5,-294 5117.5,-300 5111.5,-306 5105.5,-306\"/>\n",
       "<text text-anchor=\"start\" x=\"4912\" y=\"-290.8\" font-family=\"Helvetica,sans-Serif\" font-size=\"14.00\">tag__romantic ≤ 0.184</text>\n",
       "<text text-anchor=\"start\" x=\"4944.5\" y=\"-275.8\" font-family=\"Helvetica,sans-Serif\" font-size=\"14.00\">gini = 0.743</text>\n",
       "<text text-anchor=\"start\" x=\"4931.5\" y=\"-260.8\" font-family=\"Helvetica,sans-Serif\" font-size=\"14.00\">samples = 1433</text>\n",
       "<text text-anchor=\"start\" x=\"4850.5\" y=\"-245.8\" font-family=\"Helvetica,sans-Serif\" font-size=\"14.00\">value = [468, 78, 4, 97, 281, 0, 10, 461, 34]</text>\n",
       "<text text-anchor=\"start\" x=\"4930.5\" y=\"-230.8\" font-family=\"Helvetica,sans-Serif\" font-size=\"14.00\">class = profile_0</text>\n",
       "</g>\n",
       "<!-- 35&#45;&gt;36 -->\n",
       "<g id=\"edge36\" class=\"edge\"><title>35&#45;&gt;36</title>\n",
       "<path fill=\"none\" stroke=\"black\" d=\"M5130.86,-341.907C5110.88,-331.789 5089.34,-320.879 5068.96,-310.559\"/>\n",
       "<polygon fill=\"black\" stroke=\"black\" points=\"5070.51,-307.417 5060,-306.021 5067.34,-313.662 5070.51,-307.417\"/>\n",
       "</g>\n",
       "<!-- 43 -->\n",
       "<g id=\"node44\" class=\"node\"><title>43</title>\n",
       "<path fill=\"#caabf4\" stroke=\"black\" d=\"M5540.5,-306C5540.5,-306 5327.5,-306 5327.5,-306 5321.5,-306 5315.5,-300 5315.5,-294 5315.5,-294 5315.5,-235 5315.5,-235 5315.5,-229 5321.5,-223 5327.5,-223 5327.5,-223 5540.5,-223 5540.5,-223 5546.5,-223 5552.5,-229 5552.5,-235 5552.5,-235 5552.5,-294 5552.5,-294 5552.5,-300 5546.5,-306 5540.5,-306\"/>\n",
       "<text text-anchor=\"start\" x=\"5376.5\" y=\"-290.8\" font-family=\"Helvetica,sans-Serif\" font-size=\"14.00\">tag__spicy ≤ 0.086</text>\n",
       "<text text-anchor=\"start\" x=\"5398.5\" y=\"-275.8\" font-family=\"Helvetica,sans-Serif\" font-size=\"14.00\">gini = 0.673</text>\n",
       "<text text-anchor=\"start\" x=\"5389\" y=\"-260.8\" font-family=\"Helvetica,sans-Serif\" font-size=\"14.00\">samples = 128</text>\n",
       "<text text-anchor=\"start\" x=\"5323.5\" y=\"-245.8\" font-family=\"Helvetica,sans-Serif\" font-size=\"14.00\">value = [22, 12, 0, 4, 10, 0, 67, 11, 2]</text>\n",
       "<text text-anchor=\"start\" x=\"5384.5\" y=\"-230.8\" font-family=\"Helvetica,sans-Serif\" font-size=\"14.00\">class = profile_6</text>\n",
       "</g>\n",
       "<!-- 35&#45;&gt;43 -->\n",
       "<g id=\"edge43\" class=\"edge\"><title>35&#45;&gt;43</title>\n",
       "<path fill=\"none\" stroke=\"black\" d=\"M5288.37,-341.907C5307.57,-331.834 5328.26,-320.977 5347.85,-310.698\"/>\n",
       "<polygon fill=\"black\" stroke=\"black\" points=\"5349.54,-313.766 5356.77,-306.021 5346.29,-307.568 5349.54,-313.766\"/>\n",
       "</g>\n",
       "<!-- 37 -->\n",
       "<g id=\"node38\" class=\"node\"><title>37</title>\n",
       "<path fill=\"#fffefe\" stroke=\"black\" d=\"M4729.5,-187C4729.5,-187 4478.5,-187 4478.5,-187 4472.5,-187 4466.5,-181 4466.5,-175 4466.5,-175 4466.5,-116 4466.5,-116 4466.5,-110 4472.5,-104 4478.5,-104 4478.5,-104 4729.5,-104 4729.5,-104 4735.5,-104 4741.5,-110 4741.5,-116 4741.5,-116 4741.5,-175 4741.5,-175 4741.5,-181 4735.5,-187 4729.5,-187\"/>\n",
       "<text text-anchor=\"start\" x=\"4542\" y=\"-171.8\" font-family=\"Helvetica,sans-Serif\" font-size=\"14.00\">tag__low&#45;fat ≤ 0.109</text>\n",
       "<text text-anchor=\"start\" x=\"4568.5\" y=\"-156.8\" font-family=\"Helvetica,sans-Serif\" font-size=\"14.00\">gini = 0.723</text>\n",
       "<text text-anchor=\"start\" x=\"4555.5\" y=\"-141.8\" font-family=\"Helvetica,sans-Serif\" font-size=\"14.00\">samples = 1339</text>\n",
       "<text text-anchor=\"start\" x=\"4474.5\" y=\"-126.8\" font-family=\"Helvetica,sans-Serif\" font-size=\"14.00\">value = [458, 68, 4, 41, 271, 0, 10, 453, 34]</text>\n",
       "<text text-anchor=\"start\" x=\"4554.5\" y=\"-111.8\" font-family=\"Helvetica,sans-Serif\" font-size=\"14.00\">class = profile_0</text>\n",
       "</g>\n",
       "<!-- 36&#45;&gt;37 -->\n",
       "<g id=\"edge37\" class=\"edge\"><title>36&#45;&gt;37</title>\n",
       "<path fill=\"none\" stroke=\"black\" d=\"M4849.81,-222.989C4815.68,-212.367 4778.72,-200.869 4744.09,-190.093\"/>\n",
       "<polygon fill=\"black\" stroke=\"black\" points=\"4744.98,-186.704 4734.39,-187.075 4742.9,-193.388 4744.98,-186.704\"/>\n",
       "</g>\n",
       "<!-- 40 -->\n",
       "<g id=\"node41\" class=\"node\"><title>40</title>\n",
       "<path fill=\"#93f1ba\" stroke=\"black\" d=\"M5083,-187C5083,-187 4877,-187 4877,-187 4871,-187 4865,-181 4865,-175 4865,-175 4865,-116 4865,-116 4865,-110 4871,-104 4877,-104 4877,-104 5083,-104 5083,-104 5089,-104 5095,-110 5095,-116 5095,-116 5095,-175 5095,-175 5095,-181 5089,-187 5083,-187\"/>\n",
       "<text text-anchor=\"start\" x=\"4918.5\" y=\"-171.8\" font-family=\"Helvetica,sans-Serif\" font-size=\"14.00\">tag__salads ≤ 0.029</text>\n",
       "<text text-anchor=\"start\" x=\"4944.5\" y=\"-156.8\" font-family=\"Helvetica,sans-Serif\" font-size=\"14.00\">gini = 0.604</text>\n",
       "<text text-anchor=\"start\" x=\"4939\" y=\"-141.8\" font-family=\"Helvetica,sans-Serif\" font-size=\"14.00\">samples = 94</text>\n",
       "<text text-anchor=\"start\" x=\"4873\" y=\"-126.8\" font-family=\"Helvetica,sans-Serif\" font-size=\"14.00\">value = [10, 10, 0, 56, 10, 0, 0, 8, 0]</text>\n",
       "<text text-anchor=\"start\" x=\"4930.5\" y=\"-111.8\" font-family=\"Helvetica,sans-Serif\" font-size=\"14.00\">class = profile_3</text>\n",
       "</g>\n",
       "<!-- 36&#45;&gt;40 -->\n",
       "<g id=\"edge40\" class=\"edge\"><title>36&#45;&gt;40</title>\n",
       "<path fill=\"none\" stroke=\"black\" d=\"M4980,-222.907C4980,-214.649 4980,-205.864 4980,-197.302\"/>\n",
       "<polygon fill=\"black\" stroke=\"black\" points=\"4983.5,-197.021 4980,-187.021 4976.5,-197.021 4983.5,-197.021\"/>\n",
       "</g>\n",
       "<!-- 38 -->\n",
       "<g id=\"node39\" class=\"node\"><title>38</title>\n",
       "<path fill=\"#f9e0ce\" stroke=\"black\" d=\"M4440.5,-68C4440.5,-68 4197.5,-68 4197.5,-68 4191.5,-68 4185.5,-62 4185.5,-56 4185.5,-56 4185.5,-12 4185.5,-12 4185.5,-6 4191.5,-0 4197.5,-0 4197.5,-0 4440.5,-0 4440.5,-0 4446.5,-0 4452.5,-6 4452.5,-12 4452.5,-12 4452.5,-56 4452.5,-56 4452.5,-62 4446.5,-68 4440.5,-68\"/>\n",
       "<text text-anchor=\"start\" x=\"4283.5\" y=\"-52.8\" font-family=\"Helvetica,sans-Serif\" font-size=\"14.00\">gini = 0.716</text>\n",
       "<text text-anchor=\"start\" x=\"4274\" y=\"-37.8\" font-family=\"Helvetica,sans-Serif\" font-size=\"14.00\">samples = 766</text>\n",
       "<text text-anchor=\"start\" x=\"4193.5\" y=\"-22.8\" font-family=\"Helvetica,sans-Serif\" font-size=\"14.00\">value = [324, 36, 3, 31, 162, 0, 8, 180, 22]</text>\n",
       "<text text-anchor=\"start\" x=\"4269.5\" y=\"-7.8\" font-family=\"Helvetica,sans-Serif\" font-size=\"14.00\">class = profile_0</text>\n",
       "</g>\n",
       "<!-- 37&#45;&gt;38 -->\n",
       "<g id=\"edge38\" class=\"edge\"><title>37&#45;&gt;38</title>\n",
       "<path fill=\"none\" stroke=\"black\" d=\"M4498.28,-103.882C4470.79,-93.3195 4441.34,-82.0039 4414.41,-71.6591\"/>\n",
       "<polygon fill=\"black\" stroke=\"black\" points=\"4415.59,-68.3627 4405,-68.0433 4413.08,-74.897 4415.59,-68.3627\"/>\n",
       "</g>\n",
       "<!-- 39 -->\n",
       "<g id=\"node40\" class=\"node\"><title>39</title>\n",
       "<path fill=\"#f7c0f2\" stroke=\"black\" d=\"M4725.5,-68C4725.5,-68 4482.5,-68 4482.5,-68 4476.5,-68 4470.5,-62 4470.5,-56 4470.5,-56 4470.5,-12 4470.5,-12 4470.5,-6 4476.5,-0 4482.5,-0 4482.5,-0 4725.5,-0 4725.5,-0 4731.5,-0 4737.5,-6 4737.5,-12 4737.5,-12 4737.5,-56 4737.5,-56 4737.5,-62 4731.5,-68 4725.5,-68\"/>\n",
       "<text text-anchor=\"start\" x=\"4568.5\" y=\"-52.8\" font-family=\"Helvetica,sans-Serif\" font-size=\"14.00\">gini = 0.678</text>\n",
       "<text text-anchor=\"start\" x=\"4559\" y=\"-37.8\" font-family=\"Helvetica,sans-Serif\" font-size=\"14.00\">samples = 573</text>\n",
       "<text text-anchor=\"start\" x=\"4478.5\" y=\"-22.8\" font-family=\"Helvetica,sans-Serif\" font-size=\"14.00\">value = [134, 32, 1, 10, 109, 0, 2, 273, 12]</text>\n",
       "<text text-anchor=\"start\" x=\"4554.5\" y=\"-7.8\" font-family=\"Helvetica,sans-Serif\" font-size=\"14.00\">class = profile_7</text>\n",
       "</g>\n",
       "<!-- 37&#45;&gt;39 -->\n",
       "<g id=\"edge39\" class=\"edge\"><title>37&#45;&gt;39</title>\n",
       "<path fill=\"none\" stroke=\"black\" d=\"M4604,-103.726C4604,-95.5175 4604,-86.8595 4604,-78.56\"/>\n",
       "<polygon fill=\"black\" stroke=\"black\" points=\"4607.5,-78.2996 4604,-68.2996 4600.5,-78.2996 4607.5,-78.2996\"/>\n",
       "</g>\n",
       "<!-- 41 -->\n",
       "<g id=\"node42\" class=\"node\"><title>41</title>\n",
       "<path fill=\"#d9fae7\" stroke=\"black\" d=\"M4950.5,-68C4950.5,-68 4767.5,-68 4767.5,-68 4761.5,-68 4755.5,-62 4755.5,-56 4755.5,-56 4755.5,-12 4755.5,-12 4755.5,-6 4761.5,-0 4767.5,-0 4767.5,-0 4950.5,-0 4950.5,-0 4956.5,-0 4962.5,-6 4962.5,-12 4962.5,-12 4962.5,-56 4962.5,-56 4962.5,-62 4956.5,-68 4950.5,-68\"/>\n",
       "<text text-anchor=\"start\" x=\"4823.5\" y=\"-52.8\" font-family=\"Helvetica,sans-Serif\" font-size=\"14.00\">gini = 0.765</text>\n",
       "<text text-anchor=\"start\" x=\"4818\" y=\"-37.8\" font-family=\"Helvetica,sans-Serif\" font-size=\"14.00\">samples = 45</text>\n",
       "<text text-anchor=\"start\" x=\"4763.5\" y=\"-22.8\" font-family=\"Helvetica,sans-Serif\" font-size=\"14.00\">value = [9, 5, 0, 16, 7, 0, 0, 8, 0]</text>\n",
       "<text text-anchor=\"start\" x=\"4809.5\" y=\"-7.8\" font-family=\"Helvetica,sans-Serif\" font-size=\"14.00\">class = profile_3</text>\n",
       "</g>\n",
       "<!-- 40&#45;&gt;41 -->\n",
       "<g id=\"edge41\" class=\"edge\"><title>40&#45;&gt;41</title>\n",
       "<path fill=\"none\" stroke=\"black\" d=\"M4934.94,-103.726C4924.66,-94.423 4913.75,-84.5428 4903.49,-75.2612\"/>\n",
       "<polygon fill=\"black\" stroke=\"black\" points=\"4905.56,-72.4144 4895.8,-68.2996 4900.86,-77.6047 4905.56,-72.4144\"/>\n",
       "</g>\n",
       "<!-- 42 -->\n",
       "<g id=\"node43\" class=\"node\"><title>42</title>\n",
       "<path fill=\"#61ea9b\" stroke=\"black\" d=\"M5175.5,-68C5175.5,-68 4992.5,-68 4992.5,-68 4986.5,-68 4980.5,-62 4980.5,-56 4980.5,-56 4980.5,-12 4980.5,-12 4980.5,-6 4986.5,-0 4992.5,-0 4992.5,-0 5175.5,-0 5175.5,-0 5181.5,-0 5187.5,-6 5187.5,-12 5187.5,-12 5187.5,-56 5187.5,-56 5187.5,-62 5181.5,-68 5175.5,-68\"/>\n",
       "<text text-anchor=\"start\" x=\"5048.5\" y=\"-52.8\" font-family=\"Helvetica,sans-Serif\" font-size=\"14.00\">gini = 0.319</text>\n",
       "<text text-anchor=\"start\" x=\"5043\" y=\"-37.8\" font-family=\"Helvetica,sans-Serif\" font-size=\"14.00\">samples = 49</text>\n",
       "<text text-anchor=\"start\" x=\"4988.5\" y=\"-22.8\" font-family=\"Helvetica,sans-Serif\" font-size=\"14.00\">value = [1, 5, 0, 40, 3, 0, 0, 0, 0]</text>\n",
       "<text text-anchor=\"start\" x=\"5034.5\" y=\"-7.8\" font-family=\"Helvetica,sans-Serif\" font-size=\"14.00\">class = profile_3</text>\n",
       "</g>\n",
       "<!-- 40&#45;&gt;42 -->\n",
       "<g id=\"edge42\" class=\"edge\"><title>40&#45;&gt;42</title>\n",
       "<path fill=\"none\" stroke=\"black\" d=\"M5018.73,-103.726C5027.39,-94.6054 5036.58,-84.93 5045.24,-75.8078\"/>\n",
       "<polygon fill=\"black\" stroke=\"black\" points=\"5048.02,-77.9608 5052.37,-68.2996 5042.95,-73.1401 5048.02,-77.9608\"/>\n",
       "</g>\n",
       "<!-- 44 -->\n",
       "<g id=\"node45\" class=\"node\"><title>44</title>\n",
       "<path fill=\"#faf8fe\" stroke=\"black\" d=\"M5537,-187C5537,-187 5331,-187 5331,-187 5325,-187 5319,-181 5319,-175 5319,-175 5319,-116 5319,-116 5319,-110 5325,-104 5331,-104 5331,-104 5537,-104 5537,-104 5543,-104 5549,-110 5549,-116 5549,-116 5549,-175 5549,-175 5549,-181 5543,-187 5537,-187\"/>\n",
       "<text text-anchor=\"start\" x=\"5373.5\" y=\"-171.8\" font-family=\"Helvetica,sans-Serif\" font-size=\"14.00\">tag__spring ≤ 0.095</text>\n",
       "<text text-anchor=\"start\" x=\"5398.5\" y=\"-156.8\" font-family=\"Helvetica,sans-Serif\" font-size=\"14.00\">gini = 0.798</text>\n",
       "<text text-anchor=\"start\" x=\"5393\" y=\"-141.8\" font-family=\"Helvetica,sans-Serif\" font-size=\"14.00\">samples = 74</text>\n",
       "<text text-anchor=\"start\" x=\"5327\" y=\"-126.8\" font-family=\"Helvetica,sans-Serif\" font-size=\"14.00\">value = [19, 8, 0, 4, 10, 0, 21, 11, 1]</text>\n",
       "<text text-anchor=\"start\" x=\"5384.5\" y=\"-111.8\" font-family=\"Helvetica,sans-Serif\" font-size=\"14.00\">class = profile_6</text>\n",
       "</g>\n",
       "<!-- 43&#45;&gt;44 -->\n",
       "<g id=\"edge44\" class=\"edge\"><title>43&#45;&gt;44</title>\n",
       "<path fill=\"none\" stroke=\"black\" d=\"M5434,-222.907C5434,-214.649 5434,-205.864 5434,-197.302\"/>\n",
       "<polygon fill=\"black\" stroke=\"black\" points=\"5437.5,-197.021 5434,-187.021 5430.5,-197.021 5437.5,-197.021\"/>\n",
       "</g>\n",
       "<!-- 47 -->\n",
       "<g id=\"node48\" class=\"node\"><title>47</title>\n",
       "<path fill=\"#9559e9\" stroke=\"black\" d=\"M5874.5,-187C5874.5,-187 5691.5,-187 5691.5,-187 5685.5,-187 5679.5,-181 5679.5,-175 5679.5,-175 5679.5,-116 5679.5,-116 5679.5,-110 5685.5,-104 5691.5,-104 5691.5,-104 5874.5,-104 5874.5,-104 5880.5,-104 5886.5,-110 5886.5,-116 5886.5,-116 5886.5,-175 5886.5,-175 5886.5,-181 5880.5,-187 5874.5,-187\"/>\n",
       "<text text-anchor=\"start\" x=\"5730\" y=\"-171.8\" font-family=\"Helvetica,sans-Serif\" font-size=\"14.00\">tag__fruit ≤ 0.095</text>\n",
       "<text text-anchor=\"start\" x=\"5747.5\" y=\"-156.8\" font-family=\"Helvetica,sans-Serif\" font-size=\"14.00\">gini = 0.265</text>\n",
       "<text text-anchor=\"start\" x=\"5742\" y=\"-141.8\" font-family=\"Helvetica,sans-Serif\" font-size=\"14.00\">samples = 54</text>\n",
       "<text text-anchor=\"start\" x=\"5687.5\" y=\"-126.8\" font-family=\"Helvetica,sans-Serif\" font-size=\"14.00\">value = [3, 4, 0, 0, 0, 0, 46, 0, 1]</text>\n",
       "<text text-anchor=\"start\" x=\"5733.5\" y=\"-111.8\" font-family=\"Helvetica,sans-Serif\" font-size=\"14.00\">class = profile_6</text>\n",
       "</g>\n",
       "<!-- 43&#45;&gt;47 -->\n",
       "<g id=\"edge47\" class=\"edge\"><title>43&#45;&gt;47</title>\n",
       "<path fill=\"none\" stroke=\"black\" d=\"M5552.64,-223.726C5590.37,-211.077 5632,-197.122 5669.37,-184.595\"/>\n",
       "<polygon fill=\"black\" stroke=\"black\" points=\"5670.91,-187.769 5679.28,-181.272 5668.68,-181.132 5670.91,-187.769\"/>\n",
       "</g>\n",
       "<!-- 45 -->\n",
       "<g id=\"node46\" class=\"node\"><title>45</title>\n",
       "<path fill=\"#fcf2eb\" stroke=\"black\" d=\"M5424,-68C5424,-68 5218,-68 5218,-68 5212,-68 5206,-62 5206,-56 5206,-56 5206,-12 5206,-12 5206,-6 5212,-0 5218,-0 5218,-0 5424,-0 5424,-0 5430,-0 5436,-6 5436,-12 5436,-12 5436,-56 5436,-56 5436,-62 5430,-68 5424,-68\"/>\n",
       "<text text-anchor=\"start\" x=\"5285.5\" y=\"-52.8\" font-family=\"Helvetica,sans-Serif\" font-size=\"14.00\">gini = 0.817</text>\n",
       "<text text-anchor=\"start\" x=\"5280\" y=\"-37.8\" font-family=\"Helvetica,sans-Serif\" font-size=\"14.00\">samples = 60</text>\n",
       "<text text-anchor=\"start\" x=\"5214\" y=\"-22.8\" font-family=\"Helvetica,sans-Serif\" font-size=\"14.00\">value = [16, 8, 0, 4, 10, 0, 10, 11, 1]</text>\n",
       "<text text-anchor=\"start\" x=\"5271.5\" y=\"-7.8\" font-family=\"Helvetica,sans-Serif\" font-size=\"14.00\">class = profile_0</text>\n",
       "</g>\n",
       "<!-- 44&#45;&gt;45 -->\n",
       "<g id=\"edge45\" class=\"edge\"><title>44&#45;&gt;45</title>\n",
       "<path fill=\"none\" stroke=\"black\" d=\"M5391.92,-103.726C5382.32,-94.423 5372.13,-84.5428 5362.55,-75.2612\"/>\n",
       "<polygon fill=\"black\" stroke=\"black\" points=\"5364.98,-72.7451 5355.36,-68.2996 5360.11,-77.7721 5364.98,-72.7451\"/>\n",
       "</g>\n",
       "<!-- 46 -->\n",
       "<g id=\"node47\" class=\"node\"><title>46</title>\n",
       "<path fill=\"#a36fec\" stroke=\"black\" d=\"M5649.5,-68C5649.5,-68 5466.5,-68 5466.5,-68 5460.5,-68 5454.5,-62 5454.5,-56 5454.5,-56 5454.5,-12 5454.5,-12 5454.5,-6 5460.5,-0 5466.5,-0 5466.5,-0 5649.5,-0 5649.5,-0 5655.5,-0 5661.5,-6 5661.5,-12 5661.5,-12 5661.5,-56 5661.5,-56 5661.5,-62 5655.5,-68 5649.5,-68\"/>\n",
       "<text text-anchor=\"start\" x=\"5522.5\" y=\"-52.8\" font-family=\"Helvetica,sans-Serif\" font-size=\"14.00\">gini = 0.337</text>\n",
       "<text text-anchor=\"start\" x=\"5517\" y=\"-37.8\" font-family=\"Helvetica,sans-Serif\" font-size=\"14.00\">samples = 14</text>\n",
       "<text text-anchor=\"start\" x=\"5462.5\" y=\"-22.8\" font-family=\"Helvetica,sans-Serif\" font-size=\"14.00\">value = [3, 0, 0, 0, 0, 0, 11, 0, 0]</text>\n",
       "<text text-anchor=\"start\" x=\"5508.5\" y=\"-7.8\" font-family=\"Helvetica,sans-Serif\" font-size=\"14.00\">class = profile_6</text>\n",
       "</g>\n",
       "<!-- 44&#45;&gt;46 -->\n",
       "<g id=\"edge46\" class=\"edge\"><title>44&#45;&gt;46</title>\n",
       "<path fill=\"none\" stroke=\"black\" d=\"M5480.17,-103.726C5490.81,-94.3318 5502.12,-84.349 5512.72,-74.9883\"/>\n",
       "<polygon fill=\"black\" stroke=\"black\" points=\"5515.11,-77.5424 5520.29,-68.2996 5510.48,-72.2953 5515.11,-77.5424\"/>\n",
       "</g>\n",
       "<!-- 48 -->\n",
       "<g id=\"node49\" class=\"node\"><title>48</title>\n",
       "<path fill=\"#8e4ee8\" stroke=\"black\" d=\"M5874.5,-68C5874.5,-68 5691.5,-68 5691.5,-68 5685.5,-68 5679.5,-62 5679.5,-56 5679.5,-56 5679.5,-12 5679.5,-12 5679.5,-6 5685.5,-0 5691.5,-0 5691.5,-0 5874.5,-0 5874.5,-0 5880.5,-0 5886.5,-6 5886.5,-12 5886.5,-12 5886.5,-56 5886.5,-56 5886.5,-62 5880.5,-68 5874.5,-68\"/>\n",
       "<text text-anchor=\"start\" x=\"5747.5\" y=\"-52.8\" font-family=\"Helvetica,sans-Serif\" font-size=\"14.00\">gini = 0.186</text>\n",
       "<text text-anchor=\"start\" x=\"5742\" y=\"-37.8\" font-family=\"Helvetica,sans-Serif\" font-size=\"14.00\">samples = 50</text>\n",
       "<text text-anchor=\"start\" x=\"5687.5\" y=\"-22.8\" font-family=\"Helvetica,sans-Serif\" font-size=\"14.00\">value = [1, 3, 0, 0, 0, 0, 45, 0, 1]</text>\n",
       "<text text-anchor=\"start\" x=\"5733.5\" y=\"-7.8\" font-family=\"Helvetica,sans-Serif\" font-size=\"14.00\">class = profile_6</text>\n",
       "</g>\n",
       "<!-- 47&#45;&gt;48 -->\n",
       "<g id=\"edge48\" class=\"edge\"><title>47&#45;&gt;48</title>\n",
       "<path fill=\"none\" stroke=\"black\" d=\"M5783,-103.726C5783,-95.5175 5783,-86.8595 5783,-78.56\"/>\n",
       "<polygon fill=\"black\" stroke=\"black\" points=\"5786.5,-78.2996 5783,-68.2996 5779.5,-78.2996 5786.5,-78.2996\"/>\n",
       "</g>\n",
       "<!-- 49 -->\n",
       "<g id=\"node50\" class=\"node\"><title>49</title>\n",
       "<path fill=\"#f6d5bd\" stroke=\"black\" d=\"M6093,-68C6093,-68 5917,-68 5917,-68 5911,-68 5905,-62 5905,-56 5905,-56 5905,-12 5905,-12 5905,-6 5911,-0 5917,-0 5917,-0 6093,-0 6093,-0 6099,-0 6105,-6 6105,-12 6105,-12 6105,-56 6105,-56 6105,-62 6099,-68 6093,-68\"/>\n",
       "<text text-anchor=\"start\" x=\"5969.5\" y=\"-52.8\" font-family=\"Helvetica,sans-Serif\" font-size=\"14.00\">gini = 0.625</text>\n",
       "<text text-anchor=\"start\" x=\"5967.5\" y=\"-37.8\" font-family=\"Helvetica,sans-Serif\" font-size=\"14.00\">samples = 4</text>\n",
       "<text text-anchor=\"start\" x=\"5913\" y=\"-22.8\" font-family=\"Helvetica,sans-Serif\" font-size=\"14.00\">value = [2, 1, 0, 0, 0, 0, 1, 0, 0]</text>\n",
       "<text text-anchor=\"start\" x=\"5955.5\" y=\"-7.8\" font-family=\"Helvetica,sans-Serif\" font-size=\"14.00\">class = profile_0</text>\n",
       "</g>\n",
       "<!-- 47&#45;&gt;49 -->\n",
       "<g id=\"edge49\" class=\"edge\"><title>47&#45;&gt;49</title>\n",
       "<path fill=\"none\" stroke=\"black\" d=\"M5865.35,-103.882C5886.2,-93.5962 5908.5,-82.5963 5929.02,-72.4742\"/>\n",
       "<polygon fill=\"black\" stroke=\"black\" points=\"5930.59,-75.6059 5938.01,-68.0433 5927.49,-69.328 5930.59,-75.6059\"/>\n",
       "</g>\n",
       "<!-- 51 -->\n",
       "<g id=\"node52\" class=\"node\"><title>51</title>\n",
       "<path fill=\"#f090e9\" stroke=\"black\" d=\"M6759.5,-306C6759.5,-306 6516.5,-306 6516.5,-306 6510.5,-306 6504.5,-300 6504.5,-294 6504.5,-294 6504.5,-235 6504.5,-235 6504.5,-229 6510.5,-223 6516.5,-223 6516.5,-223 6759.5,-223 6759.5,-223 6765.5,-223 6771.5,-229 6771.5,-235 6771.5,-235 6771.5,-294 6771.5,-294 6771.5,-300 6765.5,-306 6759.5,-306\"/>\n",
       "<text text-anchor=\"start\" x=\"6568.5\" y=\"-290.8\" font-family=\"Helvetica,sans-Serif\" font-size=\"14.00\">tag__healthy&#45;2 ≤ 0.299</text>\n",
       "<text text-anchor=\"start\" x=\"6602.5\" y=\"-275.8\" font-family=\"Helvetica,sans-Serif\" font-size=\"14.00\">gini = 0.577</text>\n",
       "<text text-anchor=\"start\" x=\"6589.5\" y=\"-260.8\" font-family=\"Helvetica,sans-Serif\" font-size=\"14.00\">samples = 1083</text>\n",
       "<text text-anchor=\"start\" x=\"6512.5\" y=\"-245.8\" font-family=\"Helvetica,sans-Serif\" font-size=\"14.00\">value = [152, 89, 3, 30, 112, 0, 5, 672, 20]</text>\n",
       "<text text-anchor=\"start\" x=\"6588.5\" y=\"-230.8\" font-family=\"Helvetica,sans-Serif\" font-size=\"14.00\">class = profile_7</text>\n",
       "</g>\n",
       "<!-- 50&#45;&gt;51 -->\n",
       "<g id=\"edge51\" class=\"edge\"><title>50&#45;&gt;51</title>\n",
       "<path fill=\"none\" stroke=\"black\" d=\"M6638,-341.907C6638,-333.649 6638,-324.864 6638,-316.302\"/>\n",
       "<polygon fill=\"black\" stroke=\"black\" points=\"6641.5,-316.021 6638,-306.021 6634.5,-316.021 6641.5,-316.021\"/>\n",
       "</g>\n",
       "<!-- 58 -->\n",
       "<g id=\"node59\" class=\"node\"><title>58</title>\n",
       "<path fill=\"#b58af0\" stroke=\"black\" d=\"M7427.5,-306C7427.5,-306 7244.5,-306 7244.5,-306 7238.5,-306 7232.5,-300 7232.5,-294 7232.5,-294 7232.5,-235 7232.5,-235 7232.5,-229 7238.5,-223 7244.5,-223 7244.5,-223 7427.5,-223 7427.5,-223 7433.5,-223 7439.5,-229 7439.5,-235 7439.5,-235 7439.5,-294 7439.5,-294 7439.5,-300 7433.5,-306 7427.5,-306\"/>\n",
       "<text text-anchor=\"start\" x=\"7265\" y=\"-290.8\" font-family=\"Helvetica,sans-Serif\" font-size=\"14.00\">tag__christmas ≤ 0.081</text>\n",
       "<text text-anchor=\"start\" x=\"7300.5\" y=\"-275.8\" font-family=\"Helvetica,sans-Serif\" font-size=\"14.00\">gini = 0.538</text>\n",
       "<text text-anchor=\"start\" x=\"7295\" y=\"-260.8\" font-family=\"Helvetica,sans-Serif\" font-size=\"14.00\">samples = 26</text>\n",
       "<text text-anchor=\"start\" x=\"7240.5\" y=\"-245.8\" font-family=\"Helvetica,sans-Serif\" font-size=\"14.00\">value = [1, 4, 0, 0, 1, 0, 17, 2, 1]</text>\n",
       "<text text-anchor=\"start\" x=\"7286.5\" y=\"-230.8\" font-family=\"Helvetica,sans-Serif\" font-size=\"14.00\">class = profile_6</text>\n",
       "</g>\n",
       "<!-- 50&#45;&gt;58 -->\n",
       "<g id=\"edge58\" class=\"edge\"><title>50&#45;&gt;58</title>\n",
       "<path fill=\"none\" stroke=\"black\" d=\"M6775.9,-359.385C6906.52,-337.49 7100.32,-305.004 7222.32,-284.556\"/>\n",
       "<polygon fill=\"black\" stroke=\"black\" points=\"7223.15,-287.965 7232.43,-282.86 7221.99,-281.062 7223.15,-287.965\"/>\n",
       "</g>\n",
       "<!-- 52 -->\n",
       "<g id=\"node53\" class=\"node\"><title>52</title>\n",
       "<path fill=\"#f3a3ec\" stroke=\"black\" d=\"M6623,-187C6623,-187 6387,-187 6387,-187 6381,-187 6375,-181 6375,-175 6375,-175 6375,-116 6375,-116 6375,-110 6381,-104 6387,-104 6387,-104 6623,-104 6623,-104 6629,-104 6635,-110 6635,-116 6635,-116 6635,-175 6635,-175 6635,-181 6629,-187 6623,-187\"/>\n",
       "<text text-anchor=\"start\" x=\"6431\" y=\"-171.8\" font-family=\"Helvetica,sans-Serif\" font-size=\"14.00\">tag__low&#45;calorie ≤ 0.087</text>\n",
       "<text text-anchor=\"start\" x=\"6469.5\" y=\"-156.8\" font-family=\"Helvetica,sans-Serif\" font-size=\"14.00\">gini = 0.633</text>\n",
       "<text text-anchor=\"start\" x=\"6460\" y=\"-141.8\" font-family=\"Helvetica,sans-Serif\" font-size=\"14.00\">samples = 775</text>\n",
       "<text text-anchor=\"start\" x=\"6383\" y=\"-126.8\" font-family=\"Helvetica,sans-Serif\" font-size=\"14.00\">value = [136, 51, 3, 28, 99, 0, 4, 434, 20]</text>\n",
       "<text text-anchor=\"start\" x=\"6455.5\" y=\"-111.8\" font-family=\"Helvetica,sans-Serif\" font-size=\"14.00\">class = profile_7</text>\n",
       "</g>\n",
       "<!-- 51&#45;&gt;52 -->\n",
       "<g id=\"edge52\" class=\"edge\"><title>51&#45;&gt;52</title>\n",
       "<path fill=\"none\" stroke=\"black\" d=\"M6591.86,-222.907C6581.13,-213.469 6569.62,-203.343 6558.6,-193.649\"/>\n",
       "<polygon fill=\"black\" stroke=\"black\" points=\"6560.88,-190.998 6551.06,-187.021 6556.26,-196.254 6560.88,-190.998\"/>\n",
       "</g>\n",
       "<!-- 55 -->\n",
       "<g id=\"node56\" class=\"node\"><title>55</title>\n",
       "<path fill=\"#ec6ce1\" stroke=\"black\" d=\"M6878.5,-187C6878.5,-187 6665.5,-187 6665.5,-187 6659.5,-187 6653.5,-181 6653.5,-175 6653.5,-175 6653.5,-116 6653.5,-116 6653.5,-110 6659.5,-104 6665.5,-104 6665.5,-104 6878.5,-104 6878.5,-104 6884.5,-104 6890.5,-110 6890.5,-116 6890.5,-116 6890.5,-175 6890.5,-175 6890.5,-181 6884.5,-187 6878.5,-187\"/>\n",
       "<text text-anchor=\"start\" x=\"6709.5\" y=\"-171.8\" font-family=\"Helvetica,sans-Serif\" font-size=\"14.00\">tag__berries ≤ 0.273</text>\n",
       "<text text-anchor=\"start\" x=\"6736.5\" y=\"-156.8\" font-family=\"Helvetica,sans-Serif\" font-size=\"14.00\">gini = 0.383</text>\n",
       "<text text-anchor=\"start\" x=\"6727\" y=\"-141.8\" font-family=\"Helvetica,sans-Serif\" font-size=\"14.00\">samples = 308</text>\n",
       "<text text-anchor=\"start\" x=\"6661.5\" y=\"-126.8\" font-family=\"Helvetica,sans-Serif\" font-size=\"14.00\">value = [16, 38, 0, 2, 13, 0, 1, 238, 0]</text>\n",
       "<text text-anchor=\"start\" x=\"6722.5\" y=\"-111.8\" font-family=\"Helvetica,sans-Serif\" font-size=\"14.00\">class = profile_7</text>\n",
       "</g>\n",
       "<!-- 51&#45;&gt;55 -->\n",
       "<g id=\"edge55\" class=\"edge\"><title>51&#45;&gt;55</title>\n",
       "<path fill=\"none\" stroke=\"black\" d=\"M6684.49,-222.907C6695.3,-213.469 6706.9,-203.343 6718,-193.649\"/>\n",
       "<polygon fill=\"black\" stroke=\"black\" points=\"6720.36,-196.234 6725.59,-187.021 6715.76,-190.961 6720.36,-196.234\"/>\n",
       "</g>\n",
       "<!-- 53 -->\n",
       "<g id=\"node54\" class=\"node\"><title>53</title>\n",
       "<path fill=\"#fce5fa\" stroke=\"black\" d=\"M6356.5,-68C6356.5,-68 6135.5,-68 6135.5,-68 6129.5,-68 6123.5,-62 6123.5,-56 6123.5,-56 6123.5,-12 6123.5,-12 6123.5,-6 6129.5,-0 6135.5,-0 6135.5,-0 6356.5,-0 6356.5,-0 6362.5,-0 6368.5,-6 6368.5,-12 6368.5,-12 6368.5,-56 6368.5,-56 6368.5,-62 6362.5,-68 6356.5,-68\"/>\n",
       "<text text-anchor=\"start\" x=\"6210.5\" y=\"-52.8\" font-family=\"Helvetica,sans-Serif\" font-size=\"14.00\">gini = 0.722</text>\n",
       "<text text-anchor=\"start\" x=\"6201\" y=\"-37.8\" font-family=\"Helvetica,sans-Serif\" font-size=\"14.00\">samples = 222</text>\n",
       "<text text-anchor=\"start\" x=\"6131.5\" y=\"-22.8\" font-family=\"Helvetica,sans-Serif\" font-size=\"14.00\">value = [69, 14, 3, 12, 23, 0, 1, 89, 11]</text>\n",
       "<text text-anchor=\"start\" x=\"6196.5\" y=\"-7.8\" font-family=\"Helvetica,sans-Serif\" font-size=\"14.00\">class = profile_7</text>\n",
       "</g>\n",
       "<!-- 52&#45;&gt;53 -->\n",
       "<g id=\"edge53\" class=\"edge\"><title>52&#45;&gt;53</title>\n",
       "<path fill=\"none\" stroke=\"black\" d=\"M6408.93,-103.882C6384.27,-93.4579 6357.88,-82.3002 6333.67,-72.0661\"/>\n",
       "<polygon fill=\"black\" stroke=\"black\" points=\"6334.73,-68.7137 6324.16,-68.0433 6332,-75.1612 6334.73,-68.7137\"/>\n",
       "</g>\n",
       "<!-- 54 -->\n",
       "<g id=\"node55\" class=\"node\"><title>54</title>\n",
       "<path fill=\"#f08fe8\" stroke=\"black\" d=\"M6619.5,-68C6619.5,-68 6398.5,-68 6398.5,-68 6392.5,-68 6386.5,-62 6386.5,-56 6386.5,-56 6386.5,-12 6386.5,-12 6386.5,-6 6392.5,-0 6398.5,-0 6398.5,-0 6619.5,-0 6619.5,-0 6625.5,-0 6631.5,-6 6631.5,-12 6631.5,-12 6631.5,-56 6631.5,-56 6631.5,-62 6625.5,-68 6619.5,-68\"/>\n",
       "<text text-anchor=\"start\" x=\"6473.5\" y=\"-52.8\" font-family=\"Helvetica,sans-Serif\" font-size=\"14.00\">gini = 0.572</text>\n",
       "<text text-anchor=\"start\" x=\"6464\" y=\"-37.8\" font-family=\"Helvetica,sans-Serif\" font-size=\"14.00\">samples = 553</text>\n",
       "<text text-anchor=\"start\" x=\"6394.5\" y=\"-22.8\" font-family=\"Helvetica,sans-Serif\" font-size=\"14.00\">value = [67, 37, 0, 16, 76, 0, 3, 345, 9]</text>\n",
       "<text text-anchor=\"start\" x=\"6459.5\" y=\"-7.8\" font-family=\"Helvetica,sans-Serif\" font-size=\"14.00\">class = profile_7</text>\n",
       "</g>\n",
       "<!-- 52&#45;&gt;54 -->\n",
       "<g id=\"edge54\" class=\"edge\"><title>52&#45;&gt;54</title>\n",
       "<path fill=\"none\" stroke=\"black\" d=\"M6506.49,-103.726C6506.79,-95.5175 6507.11,-86.8595 6507.41,-78.56\"/>\n",
       "<polygon fill=\"black\" stroke=\"black\" points=\"6510.92,-78.4207 6507.78,-68.2996 6503.92,-78.1651 6510.92,-78.4207\"/>\n",
       "</g>\n",
       "<!-- 56 -->\n",
       "<g id=\"node57\" class=\"node\"><title>56</title>\n",
       "<path fill=\"#ec6be1\" stroke=\"black\" d=\"M6874.5,-68C6874.5,-68 6661.5,-68 6661.5,-68 6655.5,-68 6649.5,-62 6649.5,-56 6649.5,-56 6649.5,-12 6649.5,-12 6649.5,-6 6655.5,-0 6661.5,-0 6661.5,-0 6874.5,-0 6874.5,-0 6880.5,-0 6886.5,-6 6886.5,-12 6886.5,-12 6886.5,-56 6886.5,-56 6886.5,-62 6880.5,-68 6874.5,-68\"/>\n",
       "<text text-anchor=\"start\" x=\"6732.5\" y=\"-52.8\" font-family=\"Helvetica,sans-Serif\" font-size=\"14.00\">gini = 0.372</text>\n",
       "<text text-anchor=\"start\" x=\"6723\" y=\"-37.8\" font-family=\"Helvetica,sans-Serif\" font-size=\"14.00\">samples = 305</text>\n",
       "<text text-anchor=\"start\" x=\"6657.5\" y=\"-22.8\" font-family=\"Helvetica,sans-Serif\" font-size=\"14.00\">value = [14, 38, 0, 2, 12, 0, 1, 238, 0]</text>\n",
       "<text text-anchor=\"start\" x=\"6718.5\" y=\"-7.8\" font-family=\"Helvetica,sans-Serif\" font-size=\"14.00\">class = profile_7</text>\n",
       "</g>\n",
       "<!-- 55&#45;&gt;56 -->\n",
       "<g id=\"edge56\" class=\"edge\"><title>55&#45;&gt;56</title>\n",
       "<path fill=\"none\" stroke=\"black\" d=\"M6770.51,-103.726C6770.21,-95.5175 6769.89,-86.8595 6769.59,-78.56\"/>\n",
       "<polygon fill=\"black\" stroke=\"black\" points=\"6773.08,-78.1651 6769.22,-68.2996 6766.08,-78.4207 6773.08,-78.1651\"/>\n",
       "</g>\n",
       "<!-- 57 -->\n",
       "<g id=\"node58\" class=\"node\"><title>57</title>\n",
       "<path fill=\"#f2c09c\" stroke=\"black\" d=\"M7093,-68C7093,-68 6917,-68 6917,-68 6911,-68 6905,-62 6905,-56 6905,-56 6905,-12 6905,-12 6905,-6 6911,-0 6917,-0 6917,-0 7093,-0 7093,-0 7099,-0 7105,-6 7105,-12 7105,-12 7105,-56 7105,-56 7105,-62 7099,-68 7093,-68\"/>\n",
       "<text text-anchor=\"start\" x=\"6969.5\" y=\"-52.8\" font-family=\"Helvetica,sans-Serif\" font-size=\"14.00\">gini = 0.444</text>\n",
       "<text text-anchor=\"start\" x=\"6967.5\" y=\"-37.8\" font-family=\"Helvetica,sans-Serif\" font-size=\"14.00\">samples = 3</text>\n",
       "<text text-anchor=\"start\" x=\"6913\" y=\"-22.8\" font-family=\"Helvetica,sans-Serif\" font-size=\"14.00\">value = [2, 0, 0, 0, 1, 0, 0, 0, 0]</text>\n",
       "<text text-anchor=\"start\" x=\"6955.5\" y=\"-7.8\" font-family=\"Helvetica,sans-Serif\" font-size=\"14.00\">class = profile_0</text>\n",
       "</g>\n",
       "<!-- 55&#45;&gt;57 -->\n",
       "<g id=\"edge57\" class=\"edge\"><title>55&#45;&gt;57</title>\n",
       "<path fill=\"none\" stroke=\"black\" d=\"M6858.43,-103.882C6880.41,-93.5501 6903.93,-82.4977 6925.55,-72.3381\"/>\n",
       "<polygon fill=\"black\" stroke=\"black\" points=\"6927.13,-75.4643 6934.69,-68.0433 6924.15,-69.129 6927.13,-75.4643\"/>\n",
       "</g>\n",
       "<!-- 59 -->\n",
       "<g id=\"node60\" class=\"node\"><title>59</title>\n",
       "<path fill=\"#9d65eb\" stroke=\"black\" d=\"M7427.5,-187C7427.5,-187 7244.5,-187 7244.5,-187 7238.5,-187 7232.5,-181 7232.5,-175 7232.5,-175 7232.5,-116 7232.5,-116 7232.5,-110 7238.5,-104 7244.5,-104 7244.5,-104 7427.5,-104 7427.5,-104 7433.5,-104 7439.5,-110 7439.5,-116 7439.5,-116 7439.5,-175 7439.5,-175 7439.5,-181 7433.5,-187 7427.5,-187\"/>\n",
       "<text text-anchor=\"start\" x=\"7262.5\" y=\"-171.8\" font-family=\"Helvetica,sans-Serif\" font-size=\"14.00\">tag__vegetarian ≤ 0.098</text>\n",
       "<text text-anchor=\"start\" x=\"7300.5\" y=\"-156.8\" font-family=\"Helvetica,sans-Serif\" font-size=\"14.00\">gini = 0.345</text>\n",
       "<text text-anchor=\"start\" x=\"7295\" y=\"-141.8\" font-family=\"Helvetica,sans-Serif\" font-size=\"14.00\">samples = 20</text>\n",
       "<text text-anchor=\"start\" x=\"7240.5\" y=\"-126.8\" font-family=\"Helvetica,sans-Serif\" font-size=\"14.00\">value = [0, 2, 0, 0, 1, 0, 16, 0, 1]</text>\n",
       "<text text-anchor=\"start\" x=\"7286.5\" y=\"-111.8\" font-family=\"Helvetica,sans-Serif\" font-size=\"14.00\">class = profile_6</text>\n",
       "</g>\n",
       "<!-- 58&#45;&gt;59 -->\n",
       "<g id=\"edge59\" class=\"edge\"><title>58&#45;&gt;59</title>\n",
       "<path fill=\"none\" stroke=\"black\" d=\"M7336,-222.907C7336,-214.649 7336,-205.864 7336,-197.302\"/>\n",
       "<polygon fill=\"black\" stroke=\"black\" points=\"7339.5,-197.021 7336,-187.021 7332.5,-197.021 7339.5,-197.021\"/>\n",
       "</g>\n",
       "<!-- 62 -->\n",
       "<g id=\"node63\" class=\"node\"><title>62</title>\n",
       "<path fill=\"#ffffff\" stroke=\"black\" d=\"M7755,-187C7755,-187 7579,-187 7579,-187 7573,-187 7567,-181 7567,-175 7567,-175 7567,-116 7567,-116 7567,-110 7573,-104 7579,-104 7579,-104 7755,-104 7755,-104 7761,-104 7767,-110 7767,-116 7767,-116 7767,-175 7767,-175 7767,-181 7761,-187 7755,-187\"/>\n",
       "<text text-anchor=\"start\" x=\"7597.5\" y=\"-171.8\" font-family=\"Helvetica,sans-Serif\" font-size=\"14.00\">perc_d_sat_fat ≤ 0.006</text>\n",
       "<text text-anchor=\"start\" x=\"7631.5\" y=\"-156.8\" font-family=\"Helvetica,sans-Serif\" font-size=\"14.00\">gini = 0.722</text>\n",
       "<text text-anchor=\"start\" x=\"7629.5\" y=\"-141.8\" font-family=\"Helvetica,sans-Serif\" font-size=\"14.00\">samples = 6</text>\n",
       "<text text-anchor=\"start\" x=\"7575\" y=\"-126.8\" font-family=\"Helvetica,sans-Serif\" font-size=\"14.00\">value = [1, 2, 0, 0, 0, 0, 1, 2, 0]</text>\n",
       "<text text-anchor=\"start\" x=\"7617.5\" y=\"-111.8\" font-family=\"Helvetica,sans-Serif\" font-size=\"14.00\">class = profile_1</text>\n",
       "</g>\n",
       "<!-- 58&#45;&gt;62 -->\n",
       "<g id=\"edge62\" class=\"edge\"><title>58&#45;&gt;62</title>\n",
       "<path fill=\"none\" stroke=\"black\" d=\"M7439.82,-226.801C7477.23,-213.58 7519.53,-198.626 7557.41,-185.236\"/>\n",
       "<polygon fill=\"black\" stroke=\"black\" points=\"7558.68,-188.501 7566.94,-181.868 7556.35,-181.901 7558.68,-188.501\"/>\n",
       "</g>\n",
       "<!-- 60 -->\n",
       "<g id=\"node61\" class=\"node\"><title>60</title>\n",
       "<path fill=\"#9152e8\" stroke=\"black\" d=\"M7318.5,-68C7318.5,-68 7135.5,-68 7135.5,-68 7129.5,-68 7123.5,-62 7123.5,-56 7123.5,-56 7123.5,-12 7123.5,-12 7123.5,-6 7129.5,-0 7135.5,-0 7135.5,-0 7318.5,-0 7318.5,-0 7324.5,-0 7330.5,-6 7330.5,-12 7330.5,-12 7330.5,-56 7330.5,-56 7330.5,-62 7324.5,-68 7318.5,-68\"/>\n",
       "<text text-anchor=\"start\" x=\"7191.5\" y=\"-52.8\" font-family=\"Helvetica,sans-Serif\" font-size=\"14.00\">gini = 0.198</text>\n",
       "<text text-anchor=\"start\" x=\"7186\" y=\"-37.8\" font-family=\"Helvetica,sans-Serif\" font-size=\"14.00\">samples = 18</text>\n",
       "<text text-anchor=\"start\" x=\"7131.5\" y=\"-22.8\" font-family=\"Helvetica,sans-Serif\" font-size=\"14.00\">value = [0, 2, 0, 0, 0, 0, 16, 0, 0]</text>\n",
       "<text text-anchor=\"start\" x=\"7177.5\" y=\"-7.8\" font-family=\"Helvetica,sans-Serif\" font-size=\"14.00\">class = profile_6</text>\n",
       "</g>\n",
       "<!-- 59&#45;&gt;60 -->\n",
       "<g id=\"edge60\" class=\"edge\"><title>59&#45;&gt;60</title>\n",
       "<path fill=\"none\" stroke=\"black\" d=\"M7295.41,-103.726C7286.24,-94.5142 7276.51,-84.7364 7267.35,-75.5343\"/>\n",
       "<polygon fill=\"black\" stroke=\"black\" points=\"7269.68,-72.9176 7260.15,-68.2996 7264.72,-77.8561 7269.68,-72.9176\"/>\n",
       "</g>\n",
       "<!-- 61 -->\n",
       "<g id=\"node62\" class=\"node\"><title>61</title>\n",
       "<path fill=\"#ffffff\" stroke=\"black\" d=\"M7537,-68C7537,-68 7361,-68 7361,-68 7355,-68 7349,-62 7349,-56 7349,-56 7349,-12 7349,-12 7349,-6 7355,-0 7361,-0 7361,-0 7537,-0 7537,-0 7543,-0 7549,-6 7549,-12 7549,-12 7549,-56 7549,-56 7549,-62 7543,-68 7537,-68\"/>\n",
       "<text text-anchor=\"start\" x=\"7421\" y=\"-52.8\" font-family=\"Helvetica,sans-Serif\" font-size=\"14.00\">gini = 0.5</text>\n",
       "<text text-anchor=\"start\" x=\"7411.5\" y=\"-37.8\" font-family=\"Helvetica,sans-Serif\" font-size=\"14.00\">samples = 2</text>\n",
       "<text text-anchor=\"start\" x=\"7357\" y=\"-22.8\" font-family=\"Helvetica,sans-Serif\" font-size=\"14.00\">value = [0, 0, 0, 0, 1, 0, 0, 0, 1]</text>\n",
       "<text text-anchor=\"start\" x=\"7399.5\" y=\"-7.8\" font-family=\"Helvetica,sans-Serif\" font-size=\"14.00\">class = profile_4</text>\n",
       "</g>\n",
       "<!-- 59&#45;&gt;61 -->\n",
       "<g id=\"edge61\" class=\"edge\"><title>59&#45;&gt;61</title>\n",
       "<path fill=\"none\" stroke=\"black\" d=\"M7378.08,-103.726C7387.68,-94.423 7397.87,-84.5428 7407.45,-75.2612\"/>\n",
       "<polygon fill=\"black\" stroke=\"black\" points=\"7409.89,-77.7721 7414.64,-68.2996 7405.02,-72.7451 7409.89,-77.7721\"/>\n",
       "</g>\n",
       "<!-- 63 -->\n",
       "<g id=\"node64\" class=\"node\"><title>63</title>\n",
       "<path fill=\"#d7e539\" stroke=\"black\" d=\"M7755,-68C7755,-68 7579,-68 7579,-68 7573,-68 7567,-62 7567,-56 7567,-56 7567,-12 7567,-12 7567,-6 7573,-0 7579,-0 7579,-0 7755,-0 7755,-0 7761,-0 7767,-6 7767,-12 7767,-12 7767,-56 7767,-56 7767,-62 7761,-68 7755,-68\"/>\n",
       "<text text-anchor=\"start\" x=\"7639\" y=\"-52.8\" font-family=\"Helvetica,sans-Serif\" font-size=\"14.00\">gini = 0.0</text>\n",
       "<text text-anchor=\"start\" x=\"7629.5\" y=\"-37.8\" font-family=\"Helvetica,sans-Serif\" font-size=\"14.00\">samples = 2</text>\n",
       "<text text-anchor=\"start\" x=\"7575\" y=\"-22.8\" font-family=\"Helvetica,sans-Serif\" font-size=\"14.00\">value = [0, 2, 0, 0, 0, 0, 0, 0, 0]</text>\n",
       "<text text-anchor=\"start\" x=\"7617.5\" y=\"-7.8\" font-family=\"Helvetica,sans-Serif\" font-size=\"14.00\">class = profile_1</text>\n",
       "</g>\n",
       "<!-- 62&#45;&gt;63 -->\n",
       "<g id=\"edge63\" class=\"edge\"><title>62&#45;&gt;63</title>\n",
       "<path fill=\"none\" stroke=\"black\" d=\"M7667,-103.726C7667,-95.5175 7667,-86.8595 7667,-78.56\"/>\n",
       "<polygon fill=\"black\" stroke=\"black\" points=\"7670.5,-78.2996 7667,-68.2996 7663.5,-78.2996 7670.5,-78.2996\"/>\n",
       "</g>\n",
       "<!-- 64 -->\n",
       "<g id=\"node65\" class=\"node\"><title>64</title>\n",
       "<path fill=\"#f6bdf2\" stroke=\"black\" d=\"M7973,-68C7973,-68 7797,-68 7797,-68 7791,-68 7785,-62 7785,-56 7785,-56 7785,-12 7785,-12 7785,-6 7791,-0 7797,-0 7797,-0 7973,-0 7973,-0 7979,-0 7985,-6 7985,-12 7985,-12 7985,-56 7985,-56 7985,-62 7979,-68 7973,-68\"/>\n",
       "<text text-anchor=\"start\" x=\"7849.5\" y=\"-52.8\" font-family=\"Helvetica,sans-Serif\" font-size=\"14.00\">gini = 0.625</text>\n",
       "<text text-anchor=\"start\" x=\"7847.5\" y=\"-37.8\" font-family=\"Helvetica,sans-Serif\" font-size=\"14.00\">samples = 4</text>\n",
       "<text text-anchor=\"start\" x=\"7793\" y=\"-22.8\" font-family=\"Helvetica,sans-Serif\" font-size=\"14.00\">value = [1, 0, 0, 0, 0, 0, 1, 2, 0]</text>\n",
       "<text text-anchor=\"start\" x=\"7835.5\" y=\"-7.8\" font-family=\"Helvetica,sans-Serif\" font-size=\"14.00\">class = profile_7</text>\n",
       "</g>\n",
       "<!-- 62&#45;&gt;64 -->\n",
       "<g id=\"edge64\" class=\"edge\"><title>62&#45;&gt;64</title>\n",
       "<path fill=\"none\" stroke=\"black\" d=\"M7747.87,-103.882C7768.25,-93.6424 7790.05,-82.695 7810.12,-72.6104\"/>\n",
       "<polygon fill=\"black\" stroke=\"black\" points=\"7811.85,-75.6595 7819.22,-68.0433 7808.71,-69.4043 7811.85,-75.6595\"/>\n",
       "</g>\n",
       "</g>\n",
       "</svg>\n"
      ],
      "text/plain": [
       "<graphviz.files.Source at 0x7f12cd9ab438>"
      ]
     },
     "execution_count": 46,
     "metadata": {},
     "output_type": "execute_result"
    }
   ],
   "source": [
    "import graphviz\n",
    "dot_data = tree.export_graphviz(dt_clf, \n",
    " out_file=None, \n",
    " class_names=sorted(['profile_0', 'profile_4', 'profile_7', 'profile_3', \n",
    "                     'profile_5', 'profile_8', 'profile_1', 'profile_2', 'profile_6']), # the target names.\n",
    " feature_names=x_train.columns, # the feature names.\n",
    " filled=True, # Whether to fill in the boxes with colours.\n",
    " rounded=True, # Whether to round the corners of the boxes.\n",
    " special_characters=True)\n",
    "graph = graphviz.Source(dot_data)\n",
    "graph"
   ]
  },
  {
   "cell_type": "code",
   "execution_count": 61,
   "metadata": {},
   "outputs": [
    {
     "data": {
      "text/plain": [
       "{'n_steps': (0, 145),\n",
       " 'perc_d_sat_fat': (0.0, 10395.0),\n",
       " 'tag__berries': (0.0, 1.0),\n",
       " 'tag__christmas': (0.0, 1.0),\n",
       " 'tag__comfort-food': (0.0, 1.0),\n",
       " 'tag__fall': (0.0, 1.0),\n",
       " 'tag__fruit': (0.0, 1.0),\n",
       " 'tag__healthy': (0.0, 1.0),\n",
       " 'tag__healthy-2': (0.0, 1.0),\n",
       " 'tag__lemon': (0.0, 1.0),\n",
       " 'tag__low-calorie': (0.0, 1.0),\n",
       " 'tag__low-cholesterol': (0.0, 1.0),\n",
       " 'tag__low-fat': (0.0, 1.0),\n",
       " 'tag__low-saturated-fat': (0.0, 1.0),\n",
       " 'tag__main-dish': (0.0, 1.0),\n",
       " 'tag__meat': (0.0, 1.0),\n",
       " 'tag__romantic': (0.0, 1.0),\n",
       " 'tag__salads': (0.0, 1.0),\n",
       " 'tag__seasonal': (0.0, 1.0),\n",
       " 'tag__spicy': (0.0, 1.0),\n",
       " 'tag__spring': (0.0, 1.0),\n",
       " 'tag__summer': (0.0, 1.0),\n",
       " 'tag__taste-mood': (0.0, 1.0),\n",
       " 'tag__to-go': (0.0, 1.0),\n",
       " 'tag__vegetarian': (0.0, 1.0),\n",
       " 'tag__winter': (0.0, 1.0)}"
      ]
     },
     "execution_count": 61,
     "metadata": {},
     "output_type": "execute_result"
    }
   ],
   "source": [
    "var_dict"
   ]
  },
  {
   "cell_type": "code",
   "execution_count": 47,
   "metadata": {},
   "outputs": [
    {
     "data": {
      "text/plain": [
       "array([ 0.00877193, -2.        ,  0.1160718 ,  0.14261501,  0.21399217,\n",
       "        0.22361111,  0.02369203, -2.        , -2.        ,  0.30789474,\n",
       "       -2.        , -2.        ,  0.18558674,  0.26624474, -2.        ,\n",
       "       -2.        ,  0.30133928, -2.        , -2.        ,  0.0078125 ,\n",
       "        0.0127551 ,  0.09282213, -2.        , -2.        ,  0.10358192,\n",
       "       -2.        , -2.        ,  0.16261237,  0.20084034, -2.        ,\n",
       "       -2.        ,  0.20692389, -2.        , -2.        ,  0.09549139,\n",
       "        0.13859276,  0.18410365,  0.10895107, -2.        , -2.        ,\n",
       "        0.0294365 , -2.        , -2.        ,  0.08608059,  0.09476745,\n",
       "       -2.        , -2.        ,  0.09529211, -2.        , -2.        ,\n",
       "        0.26358234,  0.29893617,  0.0867081 , -2.        , -2.        ,\n",
       "        0.27329193, -2.        , -2.        ,  0.08064516,  0.0983871 ,\n",
       "       -2.        , -2.        ,  0.0057714 , -2.        , -2.        ])"
      ]
     },
     "execution_count": 47,
     "metadata": {},
     "output_type": "execute_result"
    }
   ],
   "source": [
    "dt_clf.tree_.threshold"
   ]
  },
  {
   "cell_type": "code",
   "execution_count": 62,
   "metadata": {},
   "outputs": [],
   "source": [
    "def denormalize(tag, threshold):\n",
    "    mi, ma = var_dict[tag]\n",
    "    return (threshold + mi)*ma"
   ]
  },
  {
   "cell_type": "code",
   "execution_count": null,
   "metadata": {},
   "outputs": [],
   "source": [
    "from sklearn import preprocessing\n",
    "def min_max_normalize(df_copy, list_columns):\n",
    "    df_label_vals = pd.DataFrame(columns = ['var' , 'min', 'max'])\n",
    "    for col in list_columns:\n",
    "        df_label_vals = df_label_vals.append({'var' : col , 'min' : np.min(df_copy[col]), 'max' : np.max(df_copy[col])} , ignore_index=True)\n",
    "        x = df_copy[col].values.reshape(-1, 1) #returns a numpy array\n",
    "        min_max_scaler = preprocessing.MinMaxScaler()\n",
    "        x_scaled = min_max_scaler.fit_transform(x)\n",
    "        df_copy[col] = pd.DataFrame(x_scaled)\n",
    "    return df_copy, df_label_vals\n"
   ]
  },
  {
   "cell_type": "code",
   "execution_count": 63,
   "metadata": {},
   "outputs": [
    {
     "data": {
      "text/plain": [
       "1.27192985"
      ]
     },
     "execution_count": 63,
     "metadata": {},
     "output_type": "execute_result"
    }
   ],
   "source": [
    "denormalize('n_steps', 0.00877193)"
   ]
  },
  {
   "cell_type": "code",
   "execution_count": 64,
   "metadata": {},
   "outputs": [
    {
     "data": {
      "text/plain": [
       "count    231637.000000\n",
       "mean          9.765499\n",
       "std           5.995128\n",
       "min           0.000000\n",
       "25%           6.000000\n",
       "50%           9.000000\n",
       "75%          12.000000\n",
       "max         145.000000\n",
       "Name: n_steps, dtype: float64"
      ]
     },
     "execution_count": 64,
     "metadata": {},
     "output_type": "execute_result"
    }
   ],
   "source": [
    "cluster_data_raw['n_steps'].describe()"
   ]
  },
  {
   "cell_type": "code",
   "execution_count": 65,
   "metadata": {},
   "outputs": [
    {
     "data": {
      "text/plain": [
       "0.1160718"
      ]
     },
     "execution_count": 65,
     "metadata": {},
     "output_type": "execute_result"
    }
   ],
   "source": [
    "denormalize('tag__low-cholesterol', 0.1160718)"
   ]
  },
  {
   "cell_type": "code",
   "execution_count": 66,
   "metadata": {},
   "outputs": [
    {
     "data": {
      "text/plain": [
       "count    231525.000000\n",
       "mean          0.158700\n",
       "std           0.365397\n",
       "min           0.000000\n",
       "25%           0.000000\n",
       "50%           0.000000\n",
       "75%           0.000000\n",
       "max           1.000000\n",
       "Name: tag__low-cholesterol, dtype: float64"
      ]
     },
     "execution_count": 66,
     "metadata": {},
     "output_type": "execute_result"
    }
   ],
   "source": [
    "cluster_data_raw['tag__low-cholesterol'].describe()"
   ]
  },
  {
   "cell_type": "code",
   "execution_count": 67,
   "metadata": {},
   "outputs": [
    {
     "data": {
      "text/plain": [
       "0.14261501"
      ]
     },
     "execution_count": 67,
     "metadata": {},
     "output_type": "execute_result"
    }
   ],
   "source": [
    "denormalize('tag__to-go', 0.14261501)"
   ]
  },
  {
   "cell_type": "code",
   "execution_count": 68,
   "metadata": {},
   "outputs": [
    {
     "data": {
      "text/plain": [
       "count    231525.000000\n",
       "mean          0.080009\n",
       "std           0.271307\n",
       "min           0.000000\n",
       "25%           0.000000\n",
       "50%           0.000000\n",
       "75%           0.000000\n",
       "max           1.000000\n",
       "Name: tag__to-go, dtype: float64"
      ]
     },
     "execution_count": 68,
     "metadata": {},
     "output_type": "execute_result"
    }
   ],
   "source": [
    "cluster_data_raw['tag__to-go'].describe()"
   ]
  },
  {
   "cell_type": "code",
   "execution_count": 69,
   "metadata": {},
   "outputs": [
    {
     "data": {
      "text/plain": [
       "0.21399217"
      ]
     },
     "execution_count": 69,
     "metadata": {},
     "output_type": "execute_result"
    }
   ],
   "source": [
    "denormalize('tag__taste-mood', 0.21399217)"
   ]
  },
  {
   "cell_type": "code",
   "execution_count": 70,
   "metadata": {},
   "outputs": [
    {
     "data": {
      "text/plain": [
       "count    231525.000000\n",
       "mean          0.225215\n",
       "std           0.417725\n",
       "min           0.000000\n",
       "25%           0.000000\n",
       "50%           0.000000\n",
       "75%           0.000000\n",
       "max           1.000000\n",
       "Name: tag__taste-mood, dtype: float64"
      ]
     },
     "execution_count": 70,
     "metadata": {},
     "output_type": "execute_result"
    }
   ],
   "source": [
    "cluster_data_raw['tag__taste-mood'].describe()"
   ]
  },
  {
   "cell_type": "code",
   "execution_count": 71,
   "metadata": {},
   "outputs": [
    {
     "data": {
      "text/plain": [
       "0.22361111"
      ]
     },
     "execution_count": 71,
     "metadata": {},
     "output_type": "execute_result"
    }
   ],
   "source": [
    "denormalize('tag__meat', 0.22361111)"
   ]
  },
  {
   "cell_type": "code",
   "execution_count": 72,
   "metadata": {},
   "outputs": [
    {
     "data": {
      "text/plain": [
       "count    231525.000000\n",
       "mean          0.242056\n",
       "std           0.428329\n",
       "min           0.000000\n",
       "25%           0.000000\n",
       "50%           0.000000\n",
       "75%           0.000000\n",
       "max           1.000000\n",
       "Name: tag__meat, dtype: float64"
      ]
     },
     "execution_count": 72,
     "metadata": {},
     "output_type": "execute_result"
    }
   ],
   "source": [
    "cluster_data_raw['tag__meat'].describe()"
   ]
  },
  {
   "cell_type": "code",
   "execution_count": 73,
   "metadata": {},
   "outputs": [
    {
     "data": {
      "text/plain": [
       "0.02369203"
      ]
     },
     "execution_count": 73,
     "metadata": {},
     "output_type": "execute_result"
    }
   ],
   "source": [
    "denormalize('tag__taste-mood', 0.02369203)"
   ]
  },
  {
   "cell_type": "code",
   "execution_count": 74,
   "metadata": {},
   "outputs": [
    {
     "data": {
      "text/plain": [
       "0.30789474"
      ]
     },
     "execution_count": 74,
     "metadata": {},
     "output_type": "execute_result"
    }
   ],
   "source": [
    "denormalize('tag__main-dish', 0.30789474)"
   ]
  },
  {
   "cell_type": "code",
   "execution_count": 75,
   "metadata": {},
   "outputs": [
    {
     "data": {
      "text/plain": [
       "count    231525.000000\n",
       "mean          0.310057\n",
       "std           0.462518\n",
       "min           0.000000\n",
       "25%           0.000000\n",
       "50%           0.000000\n",
       "75%           1.000000\n",
       "max           1.000000\n",
       "Name: tag__main-dish, dtype: float64"
      ]
     },
     "execution_count": 75,
     "metadata": {},
     "output_type": "execute_result"
    }
   ],
   "source": [
    "cluster_data_raw['tag__main-dish'].describe()"
   ]
  },
  {
   "cell_type": "code",
   "execution_count": 92,
   "metadata": {},
   "outputs": [
    {
     "data": {
      "text/plain": [
       "0.18558674"
      ]
     },
     "execution_count": 92,
     "metadata": {},
     "output_type": "execute_result"
    }
   ],
   "source": [
    "denormalize('tag__winter', 0.18558674)"
   ]
  },
  {
   "cell_type": "code",
   "execution_count": 93,
   "metadata": {},
   "outputs": [
    {
     "data": {
      "text/plain": [
       "count    231525.000000\n",
       "mean          0.033059\n",
       "std           0.178791\n",
       "min           0.000000\n",
       "25%           0.000000\n",
       "50%           0.000000\n",
       "75%           0.000000\n",
       "max           1.000000\n",
       "Name: tag__winter, dtype: float64"
      ]
     },
     "execution_count": 93,
     "metadata": {},
     "output_type": "execute_result"
    }
   ],
   "source": [
    "cluster_data_raw['tag__winter'].describe()"
   ]
  },
  {
   "cell_type": "code",
   "execution_count": 94,
   "metadata": {},
   "outputs": [
    {
     "data": {
      "text/plain": [
       "0.26624474"
      ]
     },
     "execution_count": 94,
     "metadata": {},
     "output_type": "execute_result"
    }
   ],
   "source": [
    "denormalize('tag__comfort-food', 0.26624474)"
   ]
  },
  {
   "cell_type": "code",
   "execution_count": 95,
   "metadata": {},
   "outputs": [
    {
     "data": {
      "text/plain": [
       "count    231525.000000\n",
       "mean          0.112886\n",
       "std           0.316454\n",
       "min           0.000000\n",
       "25%           0.000000\n",
       "50%           0.000000\n",
       "75%           0.000000\n",
       "max           1.000000\n",
       "Name: tag__comfort-food, dtype: float64"
      ]
     },
     "execution_count": 95,
     "metadata": {},
     "output_type": "execute_result"
    }
   ],
   "source": [
    "cluster_data_raw['tag__comfort-food'].describe()"
   ]
  },
  {
   "cell_type": "code",
   "execution_count": 96,
   "metadata": {},
   "outputs": [
    {
     "data": {
      "text/plain": [
       "0.30133928"
      ]
     },
     "execution_count": 96,
     "metadata": {},
     "output_type": "execute_result"
    }
   ],
   "source": [
    "denormalize('tag__winter', 0.30133928)"
   ]
  },
  {
   "cell_type": "code",
   "execution_count": 97,
   "metadata": {},
   "outputs": [
    {
     "data": {
      "text/plain": [
       "0.0078125"
      ]
     },
     "execution_count": 97,
     "metadata": {},
     "output_type": "execute_result"
    }
   ],
   "source": [
    "denormalize('tag__seasonal', 0.0078125)"
   ]
  },
  {
   "cell_type": "code",
   "execution_count": 98,
   "metadata": {},
   "outputs": [
    {
     "data": {
      "text/plain": [
       "count    231525.000000\n",
       "mean          0.094733\n",
       "std           0.292846\n",
       "min           0.000000\n",
       "25%           0.000000\n",
       "50%           0.000000\n",
       "75%           0.000000\n",
       "max           1.000000\n",
       "Name: tag__seasonal, dtype: float64"
      ]
     },
     "execution_count": 98,
     "metadata": {},
     "output_type": "execute_result"
    }
   ],
   "source": [
    "cluster_data_raw['tag__seasonal'].describe()"
   ]
  },
  {
   "cell_type": "code",
   "execution_count": 99,
   "metadata": {},
   "outputs": [
    {
     "data": {
      "text/plain": [
       "0.0127551"
      ]
     },
     "execution_count": 99,
     "metadata": {},
     "output_type": "execute_result"
    }
   ],
   "source": [
    "denormalize('tag__low-saturated-fat', 0.0127551)"
   ]
  },
  {
   "cell_type": "code",
   "execution_count": 100,
   "metadata": {},
   "outputs": [
    {
     "data": {
      "text/plain": [
       "count    231525.000000\n",
       "mean          0.135527\n",
       "std           0.342287\n",
       "min           0.000000\n",
       "25%           0.000000\n",
       "50%           0.000000\n",
       "75%           0.000000\n",
       "max           1.000000\n",
       "Name: tag__low-saturated-fat, dtype: float64"
      ]
     },
     "execution_count": 100,
     "metadata": {},
     "output_type": "execute_result"
    }
   ],
   "source": [
    "cluster_data_raw['tag__low-saturated-fat'].describe()"
   ]
  },
  {
   "cell_type": "code",
   "execution_count": 101,
   "metadata": {},
   "outputs": [
    {
     "data": {
      "text/plain": [
       "0.09282213"
      ]
     },
     "execution_count": 101,
     "metadata": {},
     "output_type": "execute_result"
    }
   ],
   "source": [
    "denormalize('tag__romantic', 0.09282213)"
   ]
  },
  {
   "cell_type": "code",
   "execution_count": 102,
   "metadata": {},
   "outputs": [
    {
     "data": {
      "text/plain": [
       "count    231525.000000\n",
       "mean          0.022369\n",
       "std           0.147881\n",
       "min           0.000000\n",
       "25%           0.000000\n",
       "50%           0.000000\n",
       "75%           0.000000\n",
       "max           1.000000\n",
       "Name: tag__romantic, dtype: float64"
      ]
     },
     "execution_count": 102,
     "metadata": {},
     "output_type": "execute_result"
    }
   ],
   "source": [
    "cluster_data_raw['tag__romantic'].describe()"
   ]
  },
  {
   "cell_type": "code",
   "execution_count": 103,
   "metadata": {},
   "outputs": [
    {
     "data": {
      "text/plain": [
       "0.10358192"
      ]
     },
     "execution_count": 103,
     "metadata": {},
     "output_type": "execute_result"
    }
   ],
   "source": [
    "denormalize('tag__lemon', 0.10358192)"
   ]
  },
  {
   "cell_type": "code",
   "execution_count": 104,
   "metadata": {},
   "outputs": [
    {
     "data": {
      "text/plain": [
       "count    231525.000000\n",
       "mean          0.007364\n",
       "std           0.085499\n",
       "min           0.000000\n",
       "25%           0.000000\n",
       "50%           0.000000\n",
       "75%           0.000000\n",
       "max           1.000000\n",
       "Name: tag__lemon, dtype: float64"
      ]
     },
     "execution_count": 104,
     "metadata": {},
     "output_type": "execute_result"
    }
   ],
   "source": [
    "cluster_data_raw['tag__lemon'].describe()"
   ]
  },
  {
   "cell_type": "code",
   "execution_count": 105,
   "metadata": {},
   "outputs": [
    {
     "data": {
      "text/plain": [
       "0.16261237"
      ]
     },
     "execution_count": 105,
     "metadata": {},
     "output_type": "execute_result"
    }
   ],
   "source": [
    "denormalize('tag__fall', 0.16261237)"
   ]
  },
  {
   "cell_type": "code",
   "execution_count": 106,
   "metadata": {},
   "outputs": [
    {
     "data": {
      "text/plain": [
       "count    231525.000000\n",
       "mean          0.033491\n",
       "std           0.179915\n",
       "min           0.000000\n",
       "25%           0.000000\n",
       "50%           0.000000\n",
       "75%           0.000000\n",
       "max           1.000000\n",
       "Name: tag__fall, dtype: float64"
      ]
     },
     "execution_count": 106,
     "metadata": {},
     "output_type": "execute_result"
    }
   ],
   "source": [
    "cluster_data_raw['tag__fall'].describe()"
   ]
  },
  {
   "cell_type": "code",
   "execution_count": 107,
   "metadata": {},
   "outputs": [
    {
     "data": {
      "text/plain": [
       "0.20084034"
      ]
     },
     "execution_count": 107,
     "metadata": {},
     "output_type": "execute_result"
    }
   ],
   "source": [
    "denormalize('tag__summer', 0.20084034)"
   ]
  },
  {
   "cell_type": "code",
   "execution_count": 108,
   "metadata": {},
   "outputs": [
    {
     "data": {
      "text/plain": [
       "count    231525.000000\n",
       "mean          0.043360\n",
       "std           0.203667\n",
       "min           0.000000\n",
       "25%           0.000000\n",
       "50%           0.000000\n",
       "75%           0.000000\n",
       "max           1.000000\n",
       "Name: tag__summer, dtype: float64"
      ]
     },
     "execution_count": 108,
     "metadata": {},
     "output_type": "execute_result"
    }
   ],
   "source": [
    "cluster_data_raw['tag__summer'].describe()"
   ]
  },
  {
   "cell_type": "code",
   "execution_count": 109,
   "metadata": {},
   "outputs": [
    {
     "data": {
      "text/plain": [
       "0.20692389"
      ]
     },
     "execution_count": 109,
     "metadata": {},
     "output_type": "execute_result"
    }
   ],
   "source": [
    "denormalize('tag__winter',0.20692389)"
   ]
  },
  {
   "cell_type": "code",
   "execution_count": 110,
   "metadata": {},
   "outputs": [
    {
     "data": {
      "text/plain": [
       "0.09549139"
      ]
     },
     "execution_count": 110,
     "metadata": {},
     "output_type": "execute_result"
    }
   ],
   "source": [
    "denormalize('tag__healthy', 0.09549139)"
   ]
  },
  {
   "cell_type": "code",
   "execution_count": 111,
   "metadata": {},
   "outputs": [
    {
     "data": {
      "text/plain": [
       "count    231525.000000\n",
       "mean          0.174236\n",
       "std           0.379313\n",
       "min           0.000000\n",
       "25%           0.000000\n",
       "50%           0.000000\n",
       "75%           0.000000\n",
       "max           1.000000\n",
       "Name: tag__healthy, dtype: float64"
      ]
     },
     "execution_count": 111,
     "metadata": {},
     "output_type": "execute_result"
    }
   ],
   "source": [
    "cluster_data_raw['tag__healthy'].describe()"
   ]
  },
  {
   "cell_type": "code",
   "execution_count": 112,
   "metadata": {},
   "outputs": [
    {
     "data": {
      "text/plain": [
       "0.13859276"
      ]
     },
     "execution_count": 112,
     "metadata": {},
     "output_type": "execute_result"
    }
   ],
   "source": [
    "denormalize('tag__winter', 0.13859276)"
   ]
  },
  {
   "cell_type": "code",
   "execution_count": 114,
   "metadata": {},
   "outputs": [
    {
     "data": {
      "text/plain": [
       "0.18410365"
      ]
     },
     "execution_count": 114,
     "metadata": {},
     "output_type": "execute_result"
    }
   ],
   "source": [
    "denormalize('tag__romantic', 0.18410365)"
   ]
  },
  {
   "cell_type": "code",
   "execution_count": 115,
   "metadata": {},
   "outputs": [
    {
     "data": {
      "text/plain": [
       "0.10895107"
      ]
     },
     "execution_count": 115,
     "metadata": {},
     "output_type": "execute_result"
    }
   ],
   "source": [
    "denormalize('tag__low-fat', 0.10895107)"
   ]
  },
  {
   "cell_type": "code",
   "execution_count": 116,
   "metadata": {},
   "outputs": [
    {
     "data": {
      "text/plain": [
       "count    231525.000000\n",
       "mean          0.095756\n",
       "std           0.294258\n",
       "min           0.000000\n",
       "25%           0.000000\n",
       "50%           0.000000\n",
       "75%           0.000000\n",
       "max           1.000000\n",
       "Name: tag__low-fat, dtype: float64"
      ]
     },
     "execution_count": 116,
     "metadata": {},
     "output_type": "execute_result"
    }
   ],
   "source": [
    "cluster_data_raw['tag__low-fat'].describe()"
   ]
  },
  {
   "cell_type": "code",
   "execution_count": 117,
   "metadata": {},
   "outputs": [
    {
     "data": {
      "text/plain": [
       "0.0294365"
      ]
     },
     "execution_count": 117,
     "metadata": {},
     "output_type": "execute_result"
    }
   ],
   "source": [
    "denormalize('tag__salads', 0.0294365)"
   ]
  },
  {
   "cell_type": "code",
   "execution_count": 118,
   "metadata": {},
   "outputs": [
    {
     "data": {
      "text/plain": [
       "count    231525.000000\n",
       "mean          0.063436\n",
       "std           0.243746\n",
       "min           0.000000\n",
       "25%           0.000000\n",
       "50%           0.000000\n",
       "75%           0.000000\n",
       "max           1.000000\n",
       "Name: tag__salads, dtype: float64"
      ]
     },
     "execution_count": 118,
     "metadata": {},
     "output_type": "execute_result"
    }
   ],
   "source": [
    "cluster_data_raw['tag__salads'].describe()"
   ]
  },
  {
   "cell_type": "code",
   "execution_count": 119,
   "metadata": {},
   "outputs": [
    {
     "data": {
      "text/plain": [
       "0.08608059"
      ]
     },
     "execution_count": 119,
     "metadata": {},
     "output_type": "execute_result"
    }
   ],
   "source": [
    "denormalize('tag__spicy', 0.08608059)"
   ]
  },
  {
   "cell_type": "code",
   "execution_count": 120,
   "metadata": {},
   "outputs": [
    {
     "data": {
      "text/plain": [
       "count    231525.000000\n",
       "mean          0.035525\n",
       "std           0.185104\n",
       "min           0.000000\n",
       "25%           0.000000\n",
       "50%           0.000000\n",
       "75%           0.000000\n",
       "max           1.000000\n",
       "Name: tag__spicy, dtype: float64"
      ]
     },
     "execution_count": 120,
     "metadata": {},
     "output_type": "execute_result"
    }
   ],
   "source": [
    "cluster_data_raw['tag__spicy'].describe()"
   ]
  },
  {
   "cell_type": "code",
   "execution_count": 121,
   "metadata": {},
   "outputs": [
    {
     "data": {
      "text/plain": [
       "0.09476745"
      ]
     },
     "execution_count": 121,
     "metadata": {},
     "output_type": "execute_result"
    }
   ],
   "source": [
    "denormalize('tag__spring', 0.09476745)"
   ]
  },
  {
   "cell_type": "code",
   "execution_count": 122,
   "metadata": {},
   "outputs": [
    {
     "data": {
      "text/plain": [
       "count    231525.000000\n",
       "mean          0.017588\n",
       "std           0.131448\n",
       "min           0.000000\n",
       "25%           0.000000\n",
       "50%           0.000000\n",
       "75%           0.000000\n",
       "max           1.000000\n",
       "Name: tag__spring, dtype: float64"
      ]
     },
     "execution_count": 122,
     "metadata": {},
     "output_type": "execute_result"
    }
   ],
   "source": [
    "cluster_data_raw['tag__spring'].describe()"
   ]
  },
  {
   "cell_type": "code",
   "execution_count": 123,
   "metadata": {},
   "outputs": [
    {
     "data": {
      "text/plain": [
       "0.09529211"
      ]
     },
     "execution_count": 123,
     "metadata": {},
     "output_type": "execute_result"
    }
   ],
   "source": [
    "denormalize('tag__fruit', 0.09529211)"
   ]
  },
  {
   "cell_type": "code",
   "execution_count": 124,
   "metadata": {},
   "outputs": [
    {
     "data": {
      "text/plain": [
       "count    231525.000000\n",
       "mean          0.135294\n",
       "std           0.342038\n",
       "min           0.000000\n",
       "25%           0.000000\n",
       "50%           0.000000\n",
       "75%           0.000000\n",
       "max           1.000000\n",
       "Name: tag__fruit, dtype: float64"
      ]
     },
     "execution_count": 124,
     "metadata": {},
     "output_type": "execute_result"
    }
   ],
   "source": [
    "cluster_data_raw['tag__fruit'].describe()"
   ]
  },
  {
   "cell_type": "code",
   "execution_count": 125,
   "metadata": {},
   "outputs": [
    {
     "data": {
      "text/plain": [
       "0.26358234"
      ]
     },
     "execution_count": 125,
     "metadata": {},
     "output_type": "execute_result"
    }
   ],
   "source": [
    "denormalize('tag__winter', 0.26358234)"
   ]
  },
  {
   "cell_type": "code",
   "execution_count": 126,
   "metadata": {},
   "outputs": [
    {
     "data": {
      "text/plain": [
       "count    231525.000000\n",
       "mean          0.033059\n",
       "std           0.178791\n",
       "min           0.000000\n",
       "25%           0.000000\n",
       "50%           0.000000\n",
       "75%           0.000000\n",
       "max           1.000000\n",
       "Name: tag__winter, dtype: float64"
      ]
     },
     "execution_count": 126,
     "metadata": {},
     "output_type": "execute_result"
    }
   ],
   "source": [
    "cluster_data_raw['tag__winter'].describe()"
   ]
  },
  {
   "cell_type": "code",
   "execution_count": 127,
   "metadata": {},
   "outputs": [
    {
     "data": {
      "text/plain": [
       "0.29893617"
      ]
     },
     "execution_count": 127,
     "metadata": {},
     "output_type": "execute_result"
    }
   ],
   "source": [
    "denormalize('tag__healthy-2', 0.29893617)"
   ]
  },
  {
   "cell_type": "code",
   "execution_count": 128,
   "metadata": {},
   "outputs": [
    {
     "data": {
      "text/plain": [
       "count    231525.000000\n",
       "mean          0.114972\n",
       "std           0.318989\n",
       "min           0.000000\n",
       "25%           0.000000\n",
       "50%           0.000000\n",
       "75%           0.000000\n",
       "max           1.000000\n",
       "Name: tag__healthy-2, dtype: float64"
      ]
     },
     "execution_count": 128,
     "metadata": {},
     "output_type": "execute_result"
    }
   ],
   "source": [
    "cluster_data_raw['tag__healthy-2'].describe()"
   ]
  },
  {
   "cell_type": "code",
   "execution_count": 129,
   "metadata": {},
   "outputs": [
    {
     "data": {
      "text/plain": [
       "0.0867081"
      ]
     },
     "execution_count": 129,
     "metadata": {},
     "output_type": "execute_result"
    }
   ],
   "source": [
    "denormalize('tag__low-calorie', 0.0867081)"
   ]
  },
  {
   "cell_type": "code",
   "execution_count": 130,
   "metadata": {},
   "outputs": [
    {
     "data": {
      "text/plain": [
       "count    231525.000000\n",
       "mean          0.157344\n",
       "std           0.364125\n",
       "min           0.000000\n",
       "25%           0.000000\n",
       "50%           0.000000\n",
       "75%           0.000000\n",
       "max           1.000000\n",
       "Name: tag__low-calorie, dtype: float64"
      ]
     },
     "execution_count": 130,
     "metadata": {},
     "output_type": "execute_result"
    }
   ],
   "source": [
    "cluster_data_raw['tag__low-calorie'].describe()"
   ]
  },
  {
   "cell_type": "code",
   "execution_count": 131,
   "metadata": {},
   "outputs": [
    {
     "data": {
      "text/plain": [
       "0.27329193"
      ]
     },
     "execution_count": 131,
     "metadata": {},
     "output_type": "execute_result"
    }
   ],
   "source": [
    "denormalize('tag__berries', 0.27329193)"
   ]
  },
  {
   "cell_type": "code",
   "execution_count": 132,
   "metadata": {},
   "outputs": [
    {
     "data": {
      "text/plain": [
       "count    231525.000000\n",
       "mean          0.025185\n",
       "std           0.156688\n",
       "min           0.000000\n",
       "25%           0.000000\n",
       "50%           0.000000\n",
       "75%           0.000000\n",
       "max           1.000000\n",
       "Name: tag__berries, dtype: float64"
      ]
     },
     "execution_count": 132,
     "metadata": {},
     "output_type": "execute_result"
    }
   ],
   "source": [
    "cluster_data_raw['tag__berries'].describe()"
   ]
  },
  {
   "cell_type": "code",
   "execution_count": 133,
   "metadata": {},
   "outputs": [
    {
     "data": {
      "text/plain": [
       "0.08064516"
      ]
     },
     "execution_count": 133,
     "metadata": {},
     "output_type": "execute_result"
    }
   ],
   "source": [
    "denormalize('tag__christmas', 0.08064516)"
   ]
  },
  {
   "cell_type": "code",
   "execution_count": 134,
   "metadata": {},
   "outputs": [
    {
     "data": {
      "text/plain": [
       "count    231525.000000\n",
       "mean          0.035180\n",
       "std           0.184234\n",
       "min           0.000000\n",
       "25%           0.000000\n",
       "50%           0.000000\n",
       "75%           0.000000\n",
       "max           1.000000\n",
       "Name: tag__christmas, dtype: float64"
      ]
     },
     "execution_count": 134,
     "metadata": {},
     "output_type": "execute_result"
    }
   ],
   "source": [
    "cluster_data_raw['tag__christmas'].describe()"
   ]
  },
  {
   "cell_type": "code",
   "execution_count": 135,
   "metadata": {},
   "outputs": [
    {
     "data": {
      "text/plain": [
       "0.0983871"
      ]
     },
     "execution_count": 135,
     "metadata": {},
     "output_type": "execute_result"
    }
   ],
   "source": [
    "denormalize('tag__vegetarian', 0.0983871)"
   ]
  },
  {
   "cell_type": "code",
   "execution_count": 136,
   "metadata": {},
   "outputs": [
    {
     "data": {
      "text/plain": [
       "count    231525.000000\n",
       "mean          0.153983\n",
       "std           0.360934\n",
       "min           0.000000\n",
       "25%           0.000000\n",
       "50%           0.000000\n",
       "75%           0.000000\n",
       "max           1.000000\n",
       "Name: tag__vegetarian, dtype: float64"
      ]
     },
     "execution_count": 136,
     "metadata": {},
     "output_type": "execute_result"
    }
   ],
   "source": [
    "cluster_data_raw['tag__vegetarian'].describe()"
   ]
  },
  {
   "cell_type": "code",
   "execution_count": 137,
   "metadata": {},
   "outputs": [
    {
     "data": {
      "text/plain": [
       "59.993703000000004"
      ]
     },
     "execution_count": 137,
     "metadata": {},
     "output_type": "execute_result"
    }
   ],
   "source": [
    "denormalize('perc_d_sat_fat', 0.0057714)"
   ]
  },
  {
   "cell_type": "code",
   "execution_count": 138,
   "metadata": {},
   "outputs": [
    {
     "data": {
      "text/plain": [
       "count    231637.000000\n",
       "mean         45.589150\n",
       "std          98.235758\n",
       "min           0.000000\n",
       "25%           7.000000\n",
       "50%          23.000000\n",
       "75%          52.000000\n",
       "max       10395.000000\n",
       "Name: perc_d_sat_fat, dtype: float64"
      ]
     },
     "execution_count": 138,
     "metadata": {},
     "output_type": "execute_result"
    }
   ],
   "source": [
    "cluster_data_raw['perc_d_sat_fat'].describe()"
   ]
  },
  {
   "cell_type": "code",
   "execution_count": 139,
   "metadata": {},
   "outputs": [],
   "source": [
    "path_to_data_names = '/home/miber/data/cluster_data/df_mod_data_9clust_with_name.csv'\n",
    "cluster_data_names = pd.read_csv(path_to_data_names) "
   ]
  },
  {
   "cell_type": "code",
   "execution_count": 140,
   "metadata": {},
   "outputs": [
    {
     "data": {
      "text/html": [
       "<div>\n",
       "<style scoped>\n",
       "    .dataframe tbody tr th:only-of-type {\n",
       "        vertical-align: middle;\n",
       "    }\n",
       "\n",
       "    .dataframe tbody tr th {\n",
       "        vertical-align: top;\n",
       "    }\n",
       "\n",
       "    .dataframe thead th {\n",
       "        text-align: right;\n",
       "    }\n",
       "</style>\n",
       "<table border=\"1\" class=\"dataframe\">\n",
       "  <thead>\n",
       "    <tr style=\"text-align: right;\">\n",
       "      <th></th>\n",
       "      <th>id</th>\n",
       "      <th>minutes</th>\n",
       "      <th>n_steps</th>\n",
       "      <th>n_ingredients</th>\n",
       "      <th>num_days</th>\n",
       "      <th>clean_ingredients__all-purpose flmy</th>\n",
       "      <th>clean_ingredients__allspice</th>\n",
       "      <th>clean_ingredients__almond</th>\n",
       "      <th>clean_ingredients__almond extract</th>\n",
       "      <th>clean_ingredients__american cheese</th>\n",
       "      <th>...</th>\n",
       "      <th>profile_2</th>\n",
       "      <th>profile_3</th>\n",
       "      <th>profile_4</th>\n",
       "      <th>profile_5</th>\n",
       "      <th>profile_6</th>\n",
       "      <th>profile_7</th>\n",
       "      <th>profile_8</th>\n",
       "      <th>name</th>\n",
       "      <th>steps</th>\n",
       "      <th>description</th>\n",
       "    </tr>\n",
       "  </thead>\n",
       "  <tbody>\n",
       "    <tr>\n",
       "      <th>0</th>\n",
       "      <td>137739</td>\n",
       "      <td>55</td>\n",
       "      <td>11</td>\n",
       "      <td>7</td>\n",
       "      <td>4827</td>\n",
       "      <td>0.0</td>\n",
       "      <td>0.0</td>\n",
       "      <td>0.0</td>\n",
       "      <td>0.0</td>\n",
       "      <td>0.0</td>\n",
       "      <td>...</td>\n",
       "      <td>NaN</td>\n",
       "      <td>NaN</td>\n",
       "      <td>NaN</td>\n",
       "      <td>NaN</td>\n",
       "      <td>NaN</td>\n",
       "      <td>5.0</td>\n",
       "      <td>NaN</td>\n",
       "      <td>arriba   baked winter squash mexican style</td>\n",
       "      <td>['make a choice and proceed with recipe', 'dep...</td>\n",
       "      <td>autumn is my favorite time of year to cook! th...</td>\n",
       "    </tr>\n",
       "    <tr>\n",
       "      <th>1</th>\n",
       "      <td>31490</td>\n",
       "      <td>30</td>\n",
       "      <td>9</td>\n",
       "      <td>6</td>\n",
       "      <td>6014</td>\n",
       "      <td>0.0</td>\n",
       "      <td>0.0</td>\n",
       "      <td>0.0</td>\n",
       "      <td>0.0</td>\n",
       "      <td>0.0</td>\n",
       "      <td>...</td>\n",
       "      <td>NaN</td>\n",
       "      <td>NaN</td>\n",
       "      <td>NaN</td>\n",
       "      <td>NaN</td>\n",
       "      <td>NaN</td>\n",
       "      <td>NaN</td>\n",
       "      <td>NaN</td>\n",
       "      <td>a bit different  breakfast pizza</td>\n",
       "      <td>['preheat oven to 425 degrees f', 'press dough...</td>\n",
       "      <td>this recipe calls for the crust to be prebaked...</td>\n",
       "    </tr>\n",
       "    <tr>\n",
       "      <th>2</th>\n",
       "      <td>112140</td>\n",
       "      <td>130</td>\n",
       "      <td>6</td>\n",
       "      <td>13</td>\n",
       "      <td>5030</td>\n",
       "      <td>0.0</td>\n",
       "      <td>0.0</td>\n",
       "      <td>0.0</td>\n",
       "      <td>0.0</td>\n",
       "      <td>0.0</td>\n",
       "      <td>...</td>\n",
       "      <td>NaN</td>\n",
       "      <td>NaN</td>\n",
       "      <td>4.0</td>\n",
       "      <td>NaN</td>\n",
       "      <td>NaN</td>\n",
       "      <td>NaN</td>\n",
       "      <td>NaN</td>\n",
       "      <td>all in the kitchen  chili</td>\n",
       "      <td>['brown ground beef in large pot', 'add choppe...</td>\n",
       "      <td>this modified version of 'mom's' chili was a h...</td>\n",
       "    </tr>\n",
       "    <tr>\n",
       "      <th>3</th>\n",
       "      <td>59389</td>\n",
       "      <td>45</td>\n",
       "      <td>11</td>\n",
       "      <td>11</td>\n",
       "      <td>5713</td>\n",
       "      <td>0.0</td>\n",
       "      <td>0.0</td>\n",
       "      <td>0.0</td>\n",
       "      <td>0.0</td>\n",
       "      <td>0.0</td>\n",
       "      <td>...</td>\n",
       "      <td>NaN</td>\n",
       "      <td>NaN</td>\n",
       "      <td>5.0</td>\n",
       "      <td>NaN</td>\n",
       "      <td>NaN</td>\n",
       "      <td>NaN</td>\n",
       "      <td>NaN</td>\n",
       "      <td>alouette  potatoes</td>\n",
       "      <td>['place potatoes in a large pot of lightly sal...</td>\n",
       "      <td>this is a super easy, great tasting, make ahea...</td>\n",
       "    </tr>\n",
       "    <tr>\n",
       "      <th>4</th>\n",
       "      <td>44061</td>\n",
       "      <td>190</td>\n",
       "      <td>5</td>\n",
       "      <td>8</td>\n",
       "      <td>5884</td>\n",
       "      <td>0.0</td>\n",
       "      <td>0.0</td>\n",
       "      <td>0.0</td>\n",
       "      <td>0.0</td>\n",
       "      <td>0.0</td>\n",
       "      <td>...</td>\n",
       "      <td>NaN</td>\n",
       "      <td>NaN</td>\n",
       "      <td>NaN</td>\n",
       "      <td>NaN</td>\n",
       "      <td>NaN</td>\n",
       "      <td>NaN</td>\n",
       "      <td>NaN</td>\n",
       "      <td>amish  tomato ketchup  for canning</td>\n",
       "      <td>['mix all ingredients&amp; boil for 2 1 / 2 hours ...</td>\n",
       "      <td>my dh's amish mother raised him on this recipe...</td>\n",
       "    </tr>\n",
       "  </tbody>\n",
       "</table>\n",
       "<p>5 rows × 803 columns</p>\n",
       "</div>"
      ],
      "text/plain": [
       "       id  minutes  n_steps  n_ingredients  num_days  \\\n",
       "0  137739       55       11              7      4827   \n",
       "1   31490       30        9              6      6014   \n",
       "2  112140      130        6             13      5030   \n",
       "3   59389       45       11             11      5713   \n",
       "4   44061      190        5              8      5884   \n",
       "\n",
       "   clean_ingredients__all-purpose flmy  clean_ingredients__allspice  \\\n",
       "0                                  0.0                          0.0   \n",
       "1                                  0.0                          0.0   \n",
       "2                                  0.0                          0.0   \n",
       "3                                  0.0                          0.0   \n",
       "4                                  0.0                          0.0   \n",
       "\n",
       "   clean_ingredients__almond  clean_ingredients__almond extract  \\\n",
       "0                        0.0                                0.0   \n",
       "1                        0.0                                0.0   \n",
       "2                        0.0                                0.0   \n",
       "3                        0.0                                0.0   \n",
       "4                        0.0                                0.0   \n",
       "\n",
       "   clean_ingredients__american cheese  ...  profile_2  profile_3  profile_4  \\\n",
       "0                                 0.0  ...        NaN        NaN        NaN   \n",
       "1                                 0.0  ...        NaN        NaN        NaN   \n",
       "2                                 0.0  ...        NaN        NaN        4.0   \n",
       "3                                 0.0  ...        NaN        NaN        5.0   \n",
       "4                                 0.0  ...        NaN        NaN        NaN   \n",
       "\n",
       "   profile_5  profile_6  profile_7  profile_8  \\\n",
       "0        NaN        NaN        5.0        NaN   \n",
       "1        NaN        NaN        NaN        NaN   \n",
       "2        NaN        NaN        NaN        NaN   \n",
       "3        NaN        NaN        NaN        NaN   \n",
       "4        NaN        NaN        NaN        NaN   \n",
       "\n",
       "                                         name  \\\n",
       "0  arriba   baked winter squash mexican style   \n",
       "1            a bit different  breakfast pizza   \n",
       "2                   all in the kitchen  chili   \n",
       "3                          alouette  potatoes   \n",
       "4          amish  tomato ketchup  for canning   \n",
       "\n",
       "                                               steps  \\\n",
       "0  ['make a choice and proceed with recipe', 'dep...   \n",
       "1  ['preheat oven to 425 degrees f', 'press dough...   \n",
       "2  ['brown ground beef in large pot', 'add choppe...   \n",
       "3  ['place potatoes in a large pot of lightly sal...   \n",
       "4  ['mix all ingredients& boil for 2 1 / 2 hours ...   \n",
       "\n",
       "                                         description  \n",
       "0  autumn is my favorite time of year to cook! th...  \n",
       "1  this recipe calls for the crust to be prebaked...  \n",
       "2  this modified version of 'mom's' chili was a h...  \n",
       "3  this is a super easy, great tasting, make ahea...  \n",
       "4  my dh's amish mother raised him on this recipe...  \n",
       "\n",
       "[5 rows x 803 columns]"
      ]
     },
     "execution_count": 140,
     "metadata": {},
     "output_type": "execute_result"
    }
   ],
   "source": [
    "cluster_data_names.head()"
   ]
  },
  {
   "cell_type": "code",
   "execution_count": 155,
   "metadata": {},
   "outputs": [
    {
     "name": "stdout",
     "output_type": "stream",
     "text": [
      "tag__healthy:\n",
      "\n",
      "10                          berry  good sandwich spread\n",
      "20                               cream  of spinach soup\n",
      "22                              crispy crunchy  chicken\n",
      "28                                      fried  potatoes\n",
      "34                   healthy for them  yogurt popsicles\n",
      "45                                       italian  fries\n",
      "54                           leftovers  spaghetti sauce\n",
      "57                 make that chicken dance  salsa pasta\n",
      "60                                        mexican pasta\n",
      "61                      mock a mole   low fat guacamole\n",
      "65                        munch without guilt  tomatoes\n",
      "81                                  red  macaroni salad\n",
      "82                                 rich  hot fudge cake\n",
      "93                                       sugared grapes\n",
      "100    tide me over   indian chaat  simple veggie salad\n",
      "134                                   ara s potato  oup\n",
      "146                     almost grilled  cheese sandwich\n",
      "148               anything goes  low fat mushroom sauce\n",
      "152                 bbq spray recipe    it really works\n",
      "164                       can t fail  holiday fruitcake\n",
      "190                         fake   blueberry cheesecake\n",
      "191                                         fire  sauce\n",
      "214          it s too easy  pork chops   rice casserole\n",
      "226            laings   english pickled onions  copycat\n",
      "235                           man  rice krispies treats\n",
      "238               middle eastern   twice baked potatoes\n",
      "240                           nat s king cole  coleslaw\n",
      "249                                 outback   steak rub\n",
      "259        quick and healthy picker uppers apple treats\n",
      "261                                          quick buns\n",
      "Name: name, dtype: object\n",
      "- - - - - - - - - - - - - - - \n",
      "\n",
      "tag__healthy-2:\n",
      "\n",
      "20                               cream  of spinach soup\n",
      "28                                      fried  potatoes\n",
      "34                   healthy for them  yogurt popsicles\n",
      "45                                       italian  fries\n",
      "54                           leftovers  spaghetti sauce\n",
      "57                 make that chicken dance  salsa pasta\n",
      "61                      mock a mole   low fat guacamole\n",
      "65                        munch without guilt  tomatoes\n",
      "78             put down your fork   tuna and bean salad\n",
      "81                                  red  macaroni salad\n",
      "82                                 rich  hot fudge cake\n",
      "89                       sour cream  avocado dip  vegan\n",
      "100    tide me over   indian chaat  simple veggie salad\n",
      "106                                          wacky cake\n",
      "134                                   ara s potato  oup\n",
      "141                  pinards en branche  sauted spinach\n",
      "226            laings   english pickled onions  copycat\n",
      "238               middle eastern   twice baked potatoes\n",
      "240                           nat s king cole  coleslaw\n",
      "259        quick and healthy picker uppers apple treats\n",
      "267                  sangria  fruit cups  non alcoholic\n",
      "271                        seva   bean   vegetable stew\n",
      "276                  slightly spicy  black bean burgers\n",
      "282                                sun dried   tomatoes\n",
      "284                             tastes like   v 8 juice\n",
      "286                     the mooch     zucchini sandwich\n",
      "291                     thicker than pea soup  pea soup\n",
      "301              yummy n  easiest  warm blueberry sauce\n",
      "302                       zucchini mix  in tomato sauce\n",
      "328                                berry good  smoothie\n",
      "Name: name, dtype: object\n",
      "- - - - - - - - - - - - - - - \n",
      "\n",
      "tag__taste-mood:\n",
      "\n",
      "7                        backyard style  barbecued ribs\n",
      "11                        better than sex  strawberries\n",
      "20                               cream  of spinach soup\n",
      "21                        cream  of spinach soup  vegan\n",
      "23                           deep fried dessert thingys\n",
      "26                          fool the meat eaters  chili\n",
      "29                george s at the cove  black bean soup\n",
      "30                          get the sensation  brownies\n",
      "31                       global gourmet  taco casserole\n",
      "39         i don t feel like cooking tonight  casserole\n",
      "48                       jiffy  extra moist carrot cake\n",
      "49           jiffy  roasted corn and jalapeno cornbread\n",
      "50                keep it going  german friendship cake\n",
      "56                         make it your way  shortcakes\n",
      "57                 make that chicken dance  salsa pasta\n",
      "58                                   marijuana  vinegar\n",
      "59                             mennonite  corn fritters\n",
      "64           mr  grant you took half veal prince orloff\n",
      "65                        munch without guilt  tomatoes\n",
      "71                         one bowl  perfect pound cake\n",
      "82                                 rich  hot fudge cake\n",
      "84                           say what   banana sandwich\n",
      "87                                     some like it hot\n",
      "88                  souper  easy sweet   sour meatballs\n",
      "95                   the best  banana bread  or muffins\n",
      "99                             the woiks  dilly burgers\n",
      "100    tide me over   indian chaat  simple veggie salad\n",
      "103                                     turtle  squares\n",
      "104                          twisted american chop suey\n",
      "106                                          wacky cake\n",
      "Name: name, dtype: object\n",
      "- - - - - - - - - - - - - - - \n",
      "\n",
      "tag__romantic:\n",
      "\n",
      "56                           make it your way  shortcakes\n",
      "64             mr  grant you took half veal prince orloff\n",
      "120                                1 000 artichoke hearts\n",
      "241                        near east  rice pilaf  low fat\n",
      "279           splenda   d  cheesecake sugar free low carb\n",
      "366                                 diamond  creme brulee\n",
      "410                     hershey s triple layer cheesecake\n",
      "434     johnny depp in a bundt pan   a k a black russi...\n",
      "711                 ultimate  dark chocolate oreo truffle\n",
      "720                     hawaiian sunrise           mimosa\n",
      "758                                     1 001 nights cake\n",
      "824                      10 minute cream of mushroom soup\n",
      "858                          10 minute valentines candies\n",
      "940                    15 minute baked halibut with herbs\n",
      "957                        15 minute garlic lemon chicken\n",
      "966                               15 minute shrimp scampi\n",
      "1027            1960 original kentucky buttermilk biscuit\n",
      "1030                              1978 bhg reuben chowder\n",
      "1068                             2 minute microwave fudge\n",
      "1190                     2bleu s white lasagna  lite bleu\n",
      "1234                                         3 cheesecake\n",
      "1304                             3 veg cauliflower cheese\n",
      "1344                                      3 pepper quiche\n",
      "1383                                  30 second margarita\n",
      "1410                                      3rd world mocha\n",
      "1477            4 inch chocolate peanut butter cheesecake\n",
      "1529                                       5 chip cookies\n",
      "1596                           5 minute thai shrimp satay\n",
      "1607                                       5 spice shrimp\n",
      "1609            5 star balsamic strawberry salad dressing\n",
      "Name: name, dtype: object\n",
      "- - - - - - - - - - - - - - - \n",
      "\n"
     ]
    }
   ],
   "source": [
    "for i in ['tag__healthy', 'tag__healthy-2', 'tag__taste-mood', 'tag__romantic']:\n",
    "    data = cluster_data_names[i] == 1\n",
    "    print(i+':\\n')\n",
    "    print(cluster_data_names[data]['name'].head(30))\n",
    "    print(15*'- '+'\\n')\n",
    "        "
   ]
  },
  {
   "cell_type": "code",
   "execution_count": null,
   "metadata": {},
   "outputs": [],
   "source": []
  },
  {
   "cell_type": "code",
   "execution_count": null,
   "metadata": {},
   "outputs": [],
   "source": []
  }
 ],
 "metadata": {
  "kernelspec": {
   "display_name": "Python 3",
   "language": "python",
   "name": "python3"
  },
  "language_info": {
   "codemirror_mode": {
    "name": "ipython",
    "version": 3
   },
   "file_extension": ".py",
   "mimetype": "text/x-python",
   "name": "python",
   "nbconvert_exporter": "python",
   "pygments_lexer": "ipython3",
   "version": "3.5.3"
  }
 },
 "nbformat": 4,
 "nbformat_minor": 2
}
