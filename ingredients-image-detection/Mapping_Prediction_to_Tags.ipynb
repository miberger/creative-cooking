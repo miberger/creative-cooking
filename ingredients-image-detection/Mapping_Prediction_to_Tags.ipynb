{
 "cells": [
  {
   "cell_type": "markdown",
   "metadata": {},
   "source": [
    "# Code to Map Prediction to Ingredients Tags"
   ]
  },
  {
   "cell_type": "code",
   "execution_count": 42,
   "metadata": {},
   "outputs": [
    {
     "name": "stdout",
     "output_type": "stream",
     "text": [
      "unsweetened coconut milk\n",
      "unsweetened coconut milk\n",
      "canned unsweetened coconut milk\n",
      "coconut milk\n",
      "coconut milk\n",
      "coconut milk\n",
      "sweetened coconut milk\n",
      "frozen coconut milk\n",
      "coconut milk powder\n",
      "light coconut milk\n"
     ]
    }
   ],
   "source": [
    "import csv\n",
    "import numpy as np\n",
    "import re\n",
    "\n",
    "ranking_file = 'data/ingredient_list.csv'\n",
    "label_predicted = 'Coconut_Milk'\n",
    "\n",
    "tags = list()\n",
    "\n",
    "with open(ranking_file) as csv_file:\n",
    "    csv_reader = csv.reader(csv_file, delimiter=',')\n",
    "    for row in csv_reader:\n",
    "        tags += [row[1]]\n",
    "\n",
    "tag_vector = np.zeros(len(tags), dtype=np.int8)\n",
    "\n",
    "for i in range(len(tags)):\n",
    "    label_processed = [re.sub('s$', '', item) for item in label_predicted.lower().split('_')]\n",
    "    \n",
    "    if all([item in tags[i] for item in label_processed]):\n",
    "        tag_vector[i] = 1\n",
    "\n",
    "for i in np.where(tag_vector == 1)[0]:\n",
    "    print(tags[i])"
   ]
  },
  {
   "cell_type": "code",
   "execution_count": 99,
   "metadata": {},
   "outputs": [],
   "source": [
    "var = !python3 ./ingredients-prediction-with-preprocessing.py n /home/miber/data/ingredients-images/ingredients-train/Coconut_Milk/Coconut_Milk_5.jpg"
   ]
  },
  {
   "cell_type": "code",
   "execution_count": 100,
   "metadata": {},
   "outputs": [],
   "source": [
    "label = var[0].split(':')[0].replace(' ', '_')"
   ]
  },
  {
   "cell_type": "code",
   "execution_count": 101,
   "metadata": {},
   "outputs": [
    {
     "data": {
      "text/plain": [
       "'Pasta'"
      ]
     },
     "execution_count": 101,
     "metadata": {},
     "output_type": "execute_result"
    }
   ],
   "source": [
    "label"
   ]
  },
  {
   "cell_type": "code",
   "execution_count": 102,
   "metadata": {},
   "outputs": [],
   "source": [
    "var = !python3 ./map_prediction.py {label} ./data/ingredient_list.csv"
   ]
  },
  {
   "cell_type": "code",
   "execution_count": 103,
   "metadata": {},
   "outputs": [],
   "source": [
    "new_var = [i.strip('\\'\\'') for i in var[0].strip('][').split(', ')]"
   ]
  },
  {
   "cell_type": "code",
   "execution_count": 104,
   "metadata": {},
   "outputs": [
    {
     "data": {
      "text/plain": [
       "['pasta sauce',\n",
       " 'pasta sauce',\n",
       " 'pasta sauce',\n",
       " 'pasta sauce',\n",
       " 'pasta sauce',\n",
       " 'pasta sauce',\n",
       " 'pasta sauce',\n",
       " 'pasta sauce',\n",
       " 'pasta sauce',\n",
       " 'pasta sauce',\n",
       " 'pasta sauce',\n",
       " 'tomato basil pasta sauce',\n",
       " 'tomato basil pasta sauce',\n",
       " 'tomato and basil pasta sauce',\n",
       " 'tomato and basil pasta sauce',\n",
       " 'suddenly pasta salad',\n",
       " 'garlic and onion pasta sauce',\n",
       " 'chunky garden combination pasta sauce',\n",
       " 'alphabet pasta and vegetable soup',\n",
       " 'ragu hearty robusto pasta sauce',\n",
       " 'small whole wheat pasta shell',\n",
       " 'whole wheat pasta shell',\n",
       " 'spicy cajun pasta sauce',\n",
       " 'chunky tomato pasta sauce',\n",
       " 'four cheese pasta sauce',\n",
       " 'dry pasta shell macaroni',\n",
       " 'red pasta sauce',\n",
       " 'rag pasta sauce',\n",
       " 'medium pasta shell',\n",
       " 'medium pasta shell',\n",
       " 'cheese pasta sauce',\n",
       " 'three-cheese pasta sauce',\n",
       " 'light pasta sauce',\n",
       " 'dried pasta shape',\n",
       " 'cooked pasta shell',\n",
       " 'jumbo pasta shell',\n",
       " 'tagliatelle pasta noodle',\n",
       " 'pasta dough',\n",
       " 'pasta shell',\n",
       " 'pasta roni',\n",
       " 'pasta noodle']"
      ]
     },
     "execution_count": 104,
     "metadata": {},
     "output_type": "execute_result"
    }
   ],
   "source": [
    "new_var"
   ]
  },
  {
   "cell_type": "code",
   "execution_count": null,
   "metadata": {},
   "outputs": [],
   "source": []
  }
 ],
 "metadata": {
  "kernelspec": {
   "display_name": "Python 3",
   "language": "python",
   "name": "python3"
  },
  "language_info": {
   "codemirror_mode": {
    "name": "ipython",
    "version": 3
   },
   "file_extension": ".py",
   "mimetype": "text/x-python",
   "name": "python",
   "nbconvert_exporter": "python",
   "pygments_lexer": "ipython3",
   "version": "3.5.3"
  }
 },
 "nbformat": 4,
 "nbformat_minor": 2
}
